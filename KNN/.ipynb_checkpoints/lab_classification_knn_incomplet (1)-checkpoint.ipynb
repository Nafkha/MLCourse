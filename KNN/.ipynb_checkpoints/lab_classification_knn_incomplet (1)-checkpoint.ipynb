{
 "cells": [
  {
   "cell_type": "markdown",
   "metadata": {
    "id": "G81W2Oez6jDL"
   },
   "source": [
    "**1. Classification avec KNN**"
   ]
  },
  {
   "cell_type": "markdown",
   "metadata": {
    "id": "RNK_TDxDz9W5"
   },
   "source": [
    "**1.1. Charger les données d'apprentissage**"
   ]
  },
  {
   "cell_type": "code",
   "execution_count": 1,
   "metadata": {
    "id": "TWvV1boQLjFS"
   },
   "outputs": [],
   "source": [
    "import pandas as pd"
   ]
  },
  {
   "cell_type": "code",
   "execution_count": null,
   "metadata": {},
   "outputs": [],
   "source": []
  },
  {
   "cell_type": "markdown",
   "metadata": {
    "id": "hSU0rdiTz_2U"
   },
   "source": [
    "Les données d'entrée d'apprentissage"
   ]
  },
  {
   "cell_type": "code",
   "execution_count": 2,
   "metadata": {
    "id": "G7taM8DGnCGm"
   },
   "outputs": [],
   "source": [
    "X_train=pd.DataFrame([[1200,25],\n",
    "                 [1300,27],\n",
    "                 [1100,27],\n",
    "                 [2500,49],\n",
    "                 [2400,47],\n",
    "                 [2600,45]], \n",
    "                 columns=['salaire','age'])"
   ]
  },
  {
   "cell_type": "code",
   "execution_count": null,
   "metadata": {},
   "outputs": [],
   "source": []
  },
  {
   "cell_type": "markdown",
   "metadata": {
    "id": "n_4Q8KEI0H31"
   },
   "source": [
    "Les données de sortie d'apprentissage"
   ]
  },
  {
   "cell_type": "code",
   "execution_count": 3,
   "metadata": {
    "id": "LZdQK87gMSKh"
   },
   "outputs": [],
   "source": [
    "y_train=pd.Series(['junior','junior','junior','senior','senior','senior'])"
   ]
  },
  {
   "cell_type": "code",
   "execution_count": null,
   "metadata": {},
   "outputs": [],
   "source": []
  },
  {
   "cell_type": "markdown",
   "metadata": {
    "id": "eiMqj3jq0VLk"
   },
   "source": [
    "**1.2. Apprentissage avec KNN**"
   ]
  },
  {
   "cell_type": "code",
   "execution_count": 4,
   "metadata": {
    "colab": {
     "base_uri": "https://localhost:8080/"
    },
    "id": "sy_G7AeNGQe9",
    "outputId": "7a63355a-1b90-45da-bab7-d8fa522a1bd3"
   },
   "outputs": [
    {
     "data": {
      "text/plain": [
       "KNeighborsClassifier(n_neighbors=2)"
      ]
     },
     "execution_count": 4,
     "metadata": {},
     "output_type": "execute_result"
    }
   ],
   "source": [
    "from sklearn.neighbors  import KNeighborsClassifier\n",
    "\n",
    "knn=KNeighborsClassifier(n_neighbors=2)\n",
    "knn.fit(X_train,y_train)"
   ]
  },
  {
   "cell_type": "code",
   "execution_count": null,
   "metadata": {},
   "outputs": [],
   "source": []
  },
  {
   "cell_type": "markdown",
   "metadata": {
    "id": "fEwj7bh30aDV"
   },
   "source": [
    "**1.3. Charger les données de test**"
   ]
  },
  {
   "cell_type": "markdown",
   "metadata": {
    "id": "dSovDgyU0p4E"
   },
   "source": [
    "Les données d'entrée de test"
   ]
  },
  {
   "cell_type": "code",
   "execution_count": 5,
   "metadata": {
    "id": "9w4d-xY8nds6"
   },
   "outputs": [],
   "source": [
    "X_test=pd.DataFrame([[1000,24],\n",
    "                 [1350,29],\n",
    "                 [2100,42],\n",
    "                 [2300,44]], \n",
    "                 columns=['salaire','age'])"
   ]
  },
  {
   "cell_type": "code",
   "execution_count": null,
   "metadata": {},
   "outputs": [],
   "source": []
  },
  {
   "cell_type": "markdown",
   "metadata": {
    "id": "r2Y3Rs8O0tl8"
   },
   "source": [
    "Les données de sortie de test"
   ]
  },
  {
   "cell_type": "code",
   "execution_count": 6,
   "metadata": {
    "id": "mkvAaVbhnthV"
   },
   "outputs": [],
   "source": [
    "y_test=pd.Series(['junior','junior','senior','senior'])"
   ]
  },
  {
   "cell_type": "code",
   "execution_count": null,
   "metadata": {},
   "outputs": [],
   "source": []
  },
  {
   "cell_type": "markdown",
   "metadata": {
    "id": "9UiNIluh0wBM"
   },
   "source": [
    "**1.4. Evaluation de KNN**"
   ]
  },
  {
   "cell_type": "markdown",
   "metadata": {
    "id": "I8ls9yyRNPaH"
   },
   "source": [
    "Prédiction des données de test"
   ]
  },
  {
   "cell_type": "code",
   "execution_count": 7,
   "metadata": {
    "colab": {
     "base_uri": "https://localhost:8080/"
    },
    "id": "gQaUsvhHLBD1",
    "outputId": "e115fbbe-a400-4bb8-85e7-36c672cde8ff"
   },
   "outputs": [
    {
     "name": "stderr",
     "output_type": "stream",
     "text": [
      "C:\\Users\\nafkh\\anaconda3\\lib\\site-packages\\sklearn\\neighbors\\_classification.py:228: FutureWarning: Unlike other reduction functions (e.g. `skew`, `kurtosis`), the default behavior of `mode` typically preserves the axis it acts along. In SciPy 1.11.0, this behavior will change: the default value of `keepdims` will become False, the `axis` over which the statistic is taken will be eliminated, and the value None will no longer be accepted. Set `keepdims` to True or False to avoid this warning.\n",
      "  mode, _ = stats.mode(_y[neigh_ind, k], axis=1)\n"
     ]
    },
    {
     "data": {
      "text/plain": [
       "array(['junior', 'junior', 'senior', 'senior'], dtype=object)"
      ]
     },
     "execution_count": 7,
     "metadata": {},
     "output_type": "execute_result"
    }
   ],
   "source": [
    "y_test_predicted=knn.predict(X_test)\n",
    "y_test_predicted"
   ]
  },
  {
   "cell_type": "code",
   "execution_count": null,
   "metadata": {},
   "outputs": [],
   "source": []
  },
  {
   "cell_type": "code",
   "execution_count": 8,
   "metadata": {
    "colab": {
     "base_uri": "https://localhost:8080/"
    },
    "id": "8b7b_6rDM0sp",
    "outputId": "d795873f-6d89-4637-90a0-1ab9e796765b"
   },
   "outputs": [
    {
     "data": {
      "text/plain": [
       "0    junior\n",
       "1    junior\n",
       "2    senior\n",
       "3    senior\n",
       "dtype: object"
      ]
     },
     "execution_count": 8,
     "metadata": {},
     "output_type": "execute_result"
    }
   ],
   "source": [
    "y_test"
   ]
  },
  {
   "cell_type": "code",
   "execution_count": null,
   "metadata": {},
   "outputs": [],
   "source": []
  },
  {
   "cell_type": "markdown",
   "metadata": {
    "id": "i2WzuSyp03EU"
   },
   "source": [
    "Score d'accuracy"
   ]
  },
  {
   "cell_type": "code",
   "execution_count": 9,
   "metadata": {
    "colab": {
     "base_uri": "https://localhost:8080/"
    },
    "id": "MOuS00UXM4Gi",
    "outputId": "a03c5d65-16a8-4aff-b418-dfb8439580c1"
   },
   "outputs": [
    {
     "name": "stdout",
     "output_type": "stream",
     "text": [
      "accuracy=100.00\n"
     ]
    }
   ],
   "source": [
    "from sklearn.metrics import accuracy_score\n",
    "\n",
    "print(\"accuracy=%.2f\" % (accuracy_score(y_test, y_test_predicted)*100))"
   ]
  },
  {
   "cell_type": "code",
   "execution_count": null,
   "metadata": {},
   "outputs": [],
   "source": []
  },
  {
   "cell_type": "markdown",
   "metadata": {
    "id": "7MKbZCGp05rj"
   },
   "source": [
    "Matrice de confusion"
   ]
  },
  {
   "cell_type": "code",
   "execution_count": 10,
   "metadata": {
    "colab": {
     "base_uri": "https://localhost:8080/"
    },
    "id": "MIIK6SgaoKJg",
    "outputId": "6ddee88e-4cf1-424f-c062-8395b334dcc2"
   },
   "outputs": [
    {
     "data": {
      "text/plain": [
       "array([[2, 0],\n",
       "       [0, 2]], dtype=int64)"
      ]
     },
     "execution_count": 10,
     "metadata": {},
     "output_type": "execute_result"
    }
   ],
   "source": [
    "from sklearn.metrics import accuracy_score, confusion_matrix\n",
    "\n",
    "M=confusion_matrix(y_test, y_test_predicted)\n",
    "M"
   ]
  },
  {
   "cell_type": "code",
   "execution_count": null,
   "metadata": {},
   "outputs": [],
   "source": []
  },
  {
   "cell_type": "code",
   "execution_count": 11,
   "metadata": {
    "colab": {
     "base_uri": "https://localhost:8080/",
     "height": 112
    },
    "id": "CEOJBYp0Ez_w",
    "outputId": "3fbf39e1-60df-46af-92a8-6b3f85b926cd"
   },
   "outputs": [
    {
     "data": {
      "text/html": [
       "<div>\n",
       "<style scoped>\n",
       "    .dataframe tbody tr th:only-of-type {\n",
       "        vertical-align: middle;\n",
       "    }\n",
       "\n",
       "    .dataframe tbody tr th {\n",
       "        vertical-align: top;\n",
       "    }\n",
       "\n",
       "    .dataframe thead th {\n",
       "        text-align: right;\n",
       "    }\n",
       "</style>\n",
       "<table border=\"1\" class=\"dataframe\">\n",
       "  <thead>\n",
       "    <tr style=\"text-align: right;\">\n",
       "      <th></th>\n",
       "      <th>junior</th>\n",
       "      <th>senior</th>\n",
       "    </tr>\n",
       "  </thead>\n",
       "  <tbody>\n",
       "    <tr>\n",
       "      <th>junior</th>\n",
       "      <td>2</td>\n",
       "      <td>0</td>\n",
       "    </tr>\n",
       "    <tr>\n",
       "      <th>senior</th>\n",
       "      <td>0</td>\n",
       "      <td>2</td>\n",
       "    </tr>\n",
       "  </tbody>\n",
       "</table>\n",
       "</div>"
      ],
      "text/plain": [
       "        junior  senior\n",
       "junior       2       0\n",
       "senior       0       2"
      ]
     },
     "execution_count": 11,
     "metadata": {},
     "output_type": "execute_result"
    }
   ],
   "source": [
    "pd.DataFrame(M,\n",
    "             index=knn.classes_,\n",
    "             columns=knn.classes_)"
   ]
  },
  {
   "cell_type": "code",
   "execution_count": null,
   "metadata": {},
   "outputs": [],
   "source": []
  },
  {
   "cell_type": "markdown",
   "metadata": {
    "id": "QZzUcUL4E3GG"
   },
   "source": [
    "Rappel (Recall) et précision apr classe"
   ]
  },
  {
   "cell_type": "code",
   "execution_count": 12,
   "metadata": {
    "colab": {
     "base_uri": "https://localhost:8080/"
    },
    "id": "37URK_x1GQuX",
    "outputId": "cbd1fb7a-1b92-4805-9c7d-4da53c056980"
   },
   "outputs": [
    {
     "name": "stdout",
     "output_type": "stream",
     "text": [
      "              precision    recall  f1-score   support\n",
      "\n",
      "      junior       1.00      1.00      1.00         2\n",
      "      senior       1.00      1.00      1.00         2\n",
      "\n",
      "    accuracy                           1.00         4\n",
      "   macro avg       1.00      1.00      1.00         4\n",
      "weighted avg       1.00      1.00      1.00         4\n",
      "\n"
     ]
    }
   ],
   "source": [
    "from sklearn.metrics import classification_report\n",
    "\n",
    "print(classification_report(y_test, y_test_predicted))"
   ]
  },
  {
   "cell_type": "code",
   "execution_count": null,
   "metadata": {},
   "outputs": [],
   "source": []
  },
  {
   "cell_type": "markdown",
   "metadata": {
    "id": "GjswqJ4c1AMD"
   },
   "source": [
    "**2. Classification des données réelles (tabulaires)**"
   ]
  },
  {
   "cell_type": "markdown",
   "metadata": {
    "id": "q68rLXsacI9C"
   },
   "source": [
    "**2.1. Charger les données employes2.csv à partir de Google Drive**"
   ]
  },
  {
   "cell_type": "code",
   "execution_count": 18,
   "metadata": {
    "colab": {
     "base_uri": "https://localhost:8080/"
    },
    "id": "1rZr7UpJ1tL0",
    "outputId": "aaf9b907-d06c-46d6-bba1-95409f4ff5e4"
   },
   "outputs": [
    {
     "name": "stdout",
     "output_type": "stream",
     "text": [
      "Mounted at /content/drive\n"
     ]
    }
   ],
   "source": [
    "df_employees = "
   ]
  },
  {
   "cell_type": "code",
   "execution_count": 19,
   "metadata": {
    "id": "Ub9zXmml1mta"
   },
   "outputs": [],
   "source": [
    "# Précisier le chemin de fichier CSV et le nommer data_path\n",
    "#"
   ]
  },
  {
   "cell_type": "code",
   "execution_count": 20,
   "metadata": {
    "colab": {
     "base_uri": "https://localhost:8080/",
     "height": 457
    },
    "id": "VCp87vi01sRU",
    "outputId": "09012f6b-be5f-4d30-e923-5a1f54dd224e"
   },
   "outputs": [
    {
     "data": {
      "text/html": [
       "\n",
       "  <div id=\"df-5784394b-23ab-4aec-b6f0-d2042dfed984\">\n",
       "    <div class=\"colab-df-container\">\n",
       "      <div>\n",
       "<style scoped>\n",
       "    .dataframe tbody tr th:only-of-type {\n",
       "        vertical-align: middle;\n",
       "    }\n",
       "\n",
       "    .dataframe tbody tr th {\n",
       "        vertical-align: top;\n",
       "    }\n",
       "\n",
       "    .dataframe thead th {\n",
       "        text-align: right;\n",
       "    }\n",
       "</style>\n",
       "<table border=\"1\" class=\"dataframe\">\n",
       "  <thead>\n",
       "    <tr style=\"text-align: right;\">\n",
       "      <th></th>\n",
       "      <th>salaire</th>\n",
       "      <th>prime</th>\n",
       "      <th>etat civil</th>\n",
       "      <th>date recrutement</th>\n",
       "      <th>classe</th>\n",
       "    </tr>\n",
       "    <tr>\n",
       "      <th>nom</th>\n",
       "      <th></th>\n",
       "      <th></th>\n",
       "      <th></th>\n",
       "      <th></th>\n",
       "      <th></th>\n",
       "    </tr>\n",
       "  </thead>\n",
       "  <tbody>\n",
       "    <tr>\n",
       "      <th>Ali</th>\n",
       "      <td>1200.675</td>\n",
       "      <td>100.560</td>\n",
       "      <td>celibataire</td>\n",
       "      <td>20/10/2018</td>\n",
       "      <td>junior</td>\n",
       "    </tr>\n",
       "    <tr>\n",
       "      <th>Sonia</th>\n",
       "      <td>2800.786</td>\n",
       "      <td>400.876</td>\n",
       "      <td>marie</td>\n",
       "      <td>30/11/2005</td>\n",
       "      <td>senior</td>\n",
       "    </tr>\n",
       "    <tr>\n",
       "      <th>Rahma</th>\n",
       "      <td>NaN</td>\n",
       "      <td>130.987</td>\n",
       "      <td>celibataire</td>\n",
       "      <td>04/02/2017</td>\n",
       "      <td>junior</td>\n",
       "    </tr>\n",
       "    <tr>\n",
       "      <th>Salma</th>\n",
       "      <td>2500.876</td>\n",
       "      <td>340.600</td>\n",
       "      <td>marie</td>\n",
       "      <td>03/02/2010</td>\n",
       "      <td>senior</td>\n",
       "    </tr>\n",
       "    <tr>\n",
       "      <th>Ahmed</th>\n",
       "      <td>3100.760</td>\n",
       "      <td>NaN</td>\n",
       "      <td>marie</td>\n",
       "      <td>09/09/2004</td>\n",
       "      <td>senior</td>\n",
       "    </tr>\n",
       "    <tr>\n",
       "      <th>Saleh</th>\n",
       "      <td>1300.876</td>\n",
       "      <td>150.900</td>\n",
       "      <td>celibataire</td>\n",
       "      <td>01/01/2017</td>\n",
       "      <td>junior</td>\n",
       "    </tr>\n",
       "    <tr>\n",
       "      <th>Ameni</th>\n",
       "      <td>1100.660</td>\n",
       "      <td>130.870</td>\n",
       "      <td>celibataire</td>\n",
       "      <td>11/05/2019</td>\n",
       "      <td>junior</td>\n",
       "    </tr>\n",
       "    <tr>\n",
       "      <th>Mehdi</th>\n",
       "      <td>3000.760</td>\n",
       "      <td>NaN</td>\n",
       "      <td>marie</td>\n",
       "      <td>07/07/2000</td>\n",
       "      <td>senior</td>\n",
       "    </tr>\n",
       "    <tr>\n",
       "      <th>Salem</th>\n",
       "      <td>1505.760</td>\n",
       "      <td>159.700</td>\n",
       "      <td>celibataire</td>\n",
       "      <td>21/11/2017</td>\n",
       "      <td>junior</td>\n",
       "    </tr>\n",
       "    <tr>\n",
       "      <th>Sameh</th>\n",
       "      <td>2700.330</td>\n",
       "      <td>400.000</td>\n",
       "      <td>marie</td>\n",
       "      <td>19/02/1999</td>\n",
       "      <td>senior</td>\n",
       "    </tr>\n",
       "    <tr>\n",
       "      <th>Wajdi</th>\n",
       "      <td>1200.980</td>\n",
       "      <td>NaN</td>\n",
       "      <td>celibataire</td>\n",
       "      <td>27/11/2015</td>\n",
       "      <td>junior</td>\n",
       "    </tr>\n",
       "    <tr>\n",
       "      <th>Moufida</th>\n",
       "      <td>3700.440</td>\n",
       "      <td>500.000</td>\n",
       "      <td>marie</td>\n",
       "      <td>09/12/1991</td>\n",
       "      <td>senior</td>\n",
       "    </tr>\n",
       "  </tbody>\n",
       "</table>\n",
       "</div>\n",
       "      <button class=\"colab-df-convert\" onclick=\"convertToInteractive('df-5784394b-23ab-4aec-b6f0-d2042dfed984')\"\n",
       "              title=\"Convert this dataframe to an interactive table.\"\n",
       "              style=\"display:none;\">\n",
       "        \n",
       "  <svg xmlns=\"http://www.w3.org/2000/svg\" height=\"24px\"viewBox=\"0 0 24 24\"\n",
       "       width=\"24px\">\n",
       "    <path d=\"M0 0h24v24H0V0z\" fill=\"none\"/>\n",
       "    <path d=\"M18.56 5.44l.94 2.06.94-2.06 2.06-.94-2.06-.94-.94-2.06-.94 2.06-2.06.94zm-11 1L8.5 8.5l.94-2.06 2.06-.94-2.06-.94L8.5 2.5l-.94 2.06-2.06.94zm10 10l.94 2.06.94-2.06 2.06-.94-2.06-.94-.94-2.06-.94 2.06-2.06.94z\"/><path d=\"M17.41 7.96l-1.37-1.37c-.4-.4-.92-.59-1.43-.59-.52 0-1.04.2-1.43.59L10.3 9.45l-7.72 7.72c-.78.78-.78 2.05 0 2.83L4 21.41c.39.39.9.59 1.41.59.51 0 1.02-.2 1.41-.59l7.78-7.78 2.81-2.81c.8-.78.8-2.07 0-2.86zM5.41 20L4 18.59l7.72-7.72 1.47 1.35L5.41 20z\"/>\n",
       "  </svg>\n",
       "      </button>\n",
       "      \n",
       "  <style>\n",
       "    .colab-df-container {\n",
       "      display:flex;\n",
       "      flex-wrap:wrap;\n",
       "      gap: 12px;\n",
       "    }\n",
       "\n",
       "    .colab-df-convert {\n",
       "      background-color: #E8F0FE;\n",
       "      border: none;\n",
       "      border-radius: 50%;\n",
       "      cursor: pointer;\n",
       "      display: none;\n",
       "      fill: #1967D2;\n",
       "      height: 32px;\n",
       "      padding: 0 0 0 0;\n",
       "      width: 32px;\n",
       "    }\n",
       "\n",
       "    .colab-df-convert:hover {\n",
       "      background-color: #E2EBFA;\n",
       "      box-shadow: 0px 1px 2px rgba(60, 64, 67, 0.3), 0px 1px 3px 1px rgba(60, 64, 67, 0.15);\n",
       "      fill: #174EA6;\n",
       "    }\n",
       "\n",
       "    [theme=dark] .colab-df-convert {\n",
       "      background-color: #3B4455;\n",
       "      fill: #D2E3FC;\n",
       "    }\n",
       "\n",
       "    [theme=dark] .colab-df-convert:hover {\n",
       "      background-color: #434B5C;\n",
       "      box-shadow: 0px 1px 3px 1px rgba(0, 0, 0, 0.15);\n",
       "      filter: drop-shadow(0px 1px 2px rgba(0, 0, 0, 0.3));\n",
       "      fill: #FFFFFF;\n",
       "    }\n",
       "  </style>\n",
       "\n",
       "      <script>\n",
       "        const buttonEl =\n",
       "          document.querySelector('#df-5784394b-23ab-4aec-b6f0-d2042dfed984 button.colab-df-convert');\n",
       "        buttonEl.style.display =\n",
       "          google.colab.kernel.accessAllowed ? 'block' : 'none';\n",
       "\n",
       "        async function convertToInteractive(key) {\n",
       "          const element = document.querySelector('#df-5784394b-23ab-4aec-b6f0-d2042dfed984');\n",
       "          const dataTable =\n",
       "            await google.colab.kernel.invokeFunction('convertToInteractive',\n",
       "                                                     [key], {});\n",
       "          if (!dataTable) return;\n",
       "\n",
       "          const docLinkHtml = 'Like what you see? Visit the ' +\n",
       "            '<a target=\"_blank\" href=https://colab.research.google.com/notebooks/data_table.ipynb>data table notebook</a>'\n",
       "            + ' to learn more about interactive tables.';\n",
       "          element.innerHTML = '';\n",
       "          dataTable['output_type'] = 'display_data';\n",
       "          await google.colab.output.renderOutput(dataTable, element);\n",
       "          const docLink = document.createElement('div');\n",
       "          docLink.innerHTML = docLinkHtml;\n",
       "          element.appendChild(docLink);\n",
       "        }\n",
       "      </script>\n",
       "    </div>\n",
       "  </div>\n",
       "  "
      ],
      "text/plain": [
       "          salaire    prime   etat civil date recrutement  classe\n",
       "nom                                                             \n",
       "Ali      1200.675  100.560  celibataire       20/10/2018  junior\n",
       "Sonia    2800.786  400.876        marie       30/11/2005  senior\n",
       "Rahma         NaN  130.987  celibataire       04/02/2017  junior\n",
       "Salma    2500.876  340.600        marie       03/02/2010  senior\n",
       "Ahmed    3100.760      NaN        marie       09/09/2004  senior\n",
       "Saleh    1300.876  150.900  celibataire       01/01/2017  junior\n",
       "Ameni    1100.660  130.870  celibataire       11/05/2019  junior\n",
       "Mehdi    3000.760      NaN        marie       07/07/2000  senior\n",
       "Salem    1505.760  159.700  celibataire       21/11/2017  junior\n",
       "Sameh    2700.330  400.000        marie       19/02/1999  senior\n",
       "Wajdi    1200.980      NaN  celibataire       27/11/2015  junior\n",
       "Moufida  3700.440  500.000        marie       09/12/1991  senior"
      ]
     },
     "execution_count": 20,
     "metadata": {},
     "output_type": "execute_result"
    }
   ],
   "source": [
    "# lire le fichier CSV et charger les données en dataframe df_employes\n",
    "#"
   ]
  },
  {
   "cell_type": "markdown",
   "metadata": {
    "id": "ZHc2wpZycTEL"
   },
   "source": [
    "**2.2. Division des données en entrée et sortie**"
   ]
  },
  {
   "cell_type": "markdown",
   "metadata": {
    "id": "0e2ocB7qNhn4"
   },
   "source": [
    "Données d'entrée X\n",
    "\n",
    "C'est la partie de dataframe composée de toutes les colonnes sauf la dernière colonne 'classe'"
   ]
  },
  {
   "cell_type": "code",
   "execution_count": 23,
   "metadata": {
    "colab": {
     "base_uri": "https://localhost:8080/",
     "height": 457
    },
    "id": "Nir-WGep16_c",
    "outputId": "c7de5030-cf79-442e-ce9d-05e571eaead1"
   },
   "outputs": [
    {
     "data": {
      "text/html": [
       "\n",
       "  <div id=\"df-74433fd2-37b4-4d0d-afa9-20efd9e525cf\">\n",
       "    <div class=\"colab-df-container\">\n",
       "      <div>\n",
       "<style scoped>\n",
       "    .dataframe tbody tr th:only-of-type {\n",
       "        vertical-align: middle;\n",
       "    }\n",
       "\n",
       "    .dataframe tbody tr th {\n",
       "        vertical-align: top;\n",
       "    }\n",
       "\n",
       "    .dataframe thead th {\n",
       "        text-align: right;\n",
       "    }\n",
       "</style>\n",
       "<table border=\"1\" class=\"dataframe\">\n",
       "  <thead>\n",
       "    <tr style=\"text-align: right;\">\n",
       "      <th></th>\n",
       "      <th>salaire</th>\n",
       "      <th>prime</th>\n",
       "      <th>etat civil</th>\n",
       "      <th>date recrutement</th>\n",
       "    </tr>\n",
       "    <tr>\n",
       "      <th>nom</th>\n",
       "      <th></th>\n",
       "      <th></th>\n",
       "      <th></th>\n",
       "      <th></th>\n",
       "    </tr>\n",
       "  </thead>\n",
       "  <tbody>\n",
       "    <tr>\n",
       "      <th>Ali</th>\n",
       "      <td>1200.675</td>\n",
       "      <td>100.560</td>\n",
       "      <td>celibataire</td>\n",
       "      <td>20/10/2018</td>\n",
       "    </tr>\n",
       "    <tr>\n",
       "      <th>Sonia</th>\n",
       "      <td>2800.786</td>\n",
       "      <td>400.876</td>\n",
       "      <td>marie</td>\n",
       "      <td>30/11/2005</td>\n",
       "    </tr>\n",
       "    <tr>\n",
       "      <th>Rahma</th>\n",
       "      <td>NaN</td>\n",
       "      <td>130.987</td>\n",
       "      <td>celibataire</td>\n",
       "      <td>04/02/2017</td>\n",
       "    </tr>\n",
       "    <tr>\n",
       "      <th>Salma</th>\n",
       "      <td>2500.876</td>\n",
       "      <td>340.600</td>\n",
       "      <td>marie</td>\n",
       "      <td>03/02/2010</td>\n",
       "    </tr>\n",
       "    <tr>\n",
       "      <th>Ahmed</th>\n",
       "      <td>3100.760</td>\n",
       "      <td>NaN</td>\n",
       "      <td>marie</td>\n",
       "      <td>09/09/2004</td>\n",
       "    </tr>\n",
       "    <tr>\n",
       "      <th>Saleh</th>\n",
       "      <td>1300.876</td>\n",
       "      <td>150.900</td>\n",
       "      <td>celibataire</td>\n",
       "      <td>01/01/2017</td>\n",
       "    </tr>\n",
       "    <tr>\n",
       "      <th>Ameni</th>\n",
       "      <td>1100.660</td>\n",
       "      <td>130.870</td>\n",
       "      <td>celibataire</td>\n",
       "      <td>11/05/2019</td>\n",
       "    </tr>\n",
       "    <tr>\n",
       "      <th>Mehdi</th>\n",
       "      <td>3000.760</td>\n",
       "      <td>NaN</td>\n",
       "      <td>marie</td>\n",
       "      <td>07/07/2000</td>\n",
       "    </tr>\n",
       "    <tr>\n",
       "      <th>Salem</th>\n",
       "      <td>1505.760</td>\n",
       "      <td>159.700</td>\n",
       "      <td>celibataire</td>\n",
       "      <td>21/11/2017</td>\n",
       "    </tr>\n",
       "    <tr>\n",
       "      <th>Sameh</th>\n",
       "      <td>2700.330</td>\n",
       "      <td>400.000</td>\n",
       "      <td>marie</td>\n",
       "      <td>19/02/1999</td>\n",
       "    </tr>\n",
       "    <tr>\n",
       "      <th>Wajdi</th>\n",
       "      <td>1200.980</td>\n",
       "      <td>NaN</td>\n",
       "      <td>celibataire</td>\n",
       "      <td>27/11/2015</td>\n",
       "    </tr>\n",
       "    <tr>\n",
       "      <th>Moufida</th>\n",
       "      <td>3700.440</td>\n",
       "      <td>500.000</td>\n",
       "      <td>marie</td>\n",
       "      <td>09/12/1991</td>\n",
       "    </tr>\n",
       "  </tbody>\n",
       "</table>\n",
       "</div>\n",
       "      <button class=\"colab-df-convert\" onclick=\"convertToInteractive('df-74433fd2-37b4-4d0d-afa9-20efd9e525cf')\"\n",
       "              title=\"Convert this dataframe to an interactive table.\"\n",
       "              style=\"display:none;\">\n",
       "        \n",
       "  <svg xmlns=\"http://www.w3.org/2000/svg\" height=\"24px\"viewBox=\"0 0 24 24\"\n",
       "       width=\"24px\">\n",
       "    <path d=\"M0 0h24v24H0V0z\" fill=\"none\"/>\n",
       "    <path d=\"M18.56 5.44l.94 2.06.94-2.06 2.06-.94-2.06-.94-.94-2.06-.94 2.06-2.06.94zm-11 1L8.5 8.5l.94-2.06 2.06-.94-2.06-.94L8.5 2.5l-.94 2.06-2.06.94zm10 10l.94 2.06.94-2.06 2.06-.94-2.06-.94-.94-2.06-.94 2.06-2.06.94z\"/><path d=\"M17.41 7.96l-1.37-1.37c-.4-.4-.92-.59-1.43-.59-.52 0-1.04.2-1.43.59L10.3 9.45l-7.72 7.72c-.78.78-.78 2.05 0 2.83L4 21.41c.39.39.9.59 1.41.59.51 0 1.02-.2 1.41-.59l7.78-7.78 2.81-2.81c.8-.78.8-2.07 0-2.86zM5.41 20L4 18.59l7.72-7.72 1.47 1.35L5.41 20z\"/>\n",
       "  </svg>\n",
       "      </button>\n",
       "      \n",
       "  <style>\n",
       "    .colab-df-container {\n",
       "      display:flex;\n",
       "      flex-wrap:wrap;\n",
       "      gap: 12px;\n",
       "    }\n",
       "\n",
       "    .colab-df-convert {\n",
       "      background-color: #E8F0FE;\n",
       "      border: none;\n",
       "      border-radius: 50%;\n",
       "      cursor: pointer;\n",
       "      display: none;\n",
       "      fill: #1967D2;\n",
       "      height: 32px;\n",
       "      padding: 0 0 0 0;\n",
       "      width: 32px;\n",
       "    }\n",
       "\n",
       "    .colab-df-convert:hover {\n",
       "      background-color: #E2EBFA;\n",
       "      box-shadow: 0px 1px 2px rgba(60, 64, 67, 0.3), 0px 1px 3px 1px rgba(60, 64, 67, 0.15);\n",
       "      fill: #174EA6;\n",
       "    }\n",
       "\n",
       "    [theme=dark] .colab-df-convert {\n",
       "      background-color: #3B4455;\n",
       "      fill: #D2E3FC;\n",
       "    }\n",
       "\n",
       "    [theme=dark] .colab-df-convert:hover {\n",
       "      background-color: #434B5C;\n",
       "      box-shadow: 0px 1px 3px 1px rgba(0, 0, 0, 0.15);\n",
       "      filter: drop-shadow(0px 1px 2px rgba(0, 0, 0, 0.3));\n",
       "      fill: #FFFFFF;\n",
       "    }\n",
       "  </style>\n",
       "\n",
       "      <script>\n",
       "        const buttonEl =\n",
       "          document.querySelector('#df-74433fd2-37b4-4d0d-afa9-20efd9e525cf button.colab-df-convert');\n",
       "        buttonEl.style.display =\n",
       "          google.colab.kernel.accessAllowed ? 'block' : 'none';\n",
       "\n",
       "        async function convertToInteractive(key) {\n",
       "          const element = document.querySelector('#df-74433fd2-37b4-4d0d-afa9-20efd9e525cf');\n",
       "          const dataTable =\n",
       "            await google.colab.kernel.invokeFunction('convertToInteractive',\n",
       "                                                     [key], {});\n",
       "          if (!dataTable) return;\n",
       "\n",
       "          const docLinkHtml = 'Like what you see? Visit the ' +\n",
       "            '<a target=\"_blank\" href=https://colab.research.google.com/notebooks/data_table.ipynb>data table notebook</a>'\n",
       "            + ' to learn more about interactive tables.';\n",
       "          element.innerHTML = '';\n",
       "          dataTable['output_type'] = 'display_data';\n",
       "          await google.colab.output.renderOutput(dataTable, element);\n",
       "          const docLink = document.createElement('div');\n",
       "          docLink.innerHTML = docLinkHtml;\n",
       "          element.appendChild(docLink);\n",
       "        }\n",
       "      </script>\n",
       "    </div>\n",
       "  </div>\n",
       "  "
      ],
      "text/plain": [
       "          salaire    prime   etat civil date recrutement\n",
       "nom                                                     \n",
       "Ali      1200.675  100.560  celibataire       20/10/2018\n",
       "Sonia    2800.786  400.876        marie       30/11/2005\n",
       "Rahma         NaN  130.987  celibataire       04/02/2017\n",
       "Salma    2500.876  340.600        marie       03/02/2010\n",
       "Ahmed    3100.760      NaN        marie       09/09/2004\n",
       "Saleh    1300.876  150.900  celibataire       01/01/2017\n",
       "Ameni    1100.660  130.870  celibataire       11/05/2019\n",
       "Mehdi    3000.760      NaN        marie       07/07/2000\n",
       "Salem    1505.760  159.700  celibataire       21/11/2017\n",
       "Sameh    2700.330  400.000        marie       19/02/1999\n",
       "Wajdi    1200.980      NaN  celibataire       27/11/2015\n",
       "Moufida  3700.440  500.000        marie       09/12/1991"
      ]
     },
     "execution_count": 23,
     "metadata": {},
     "output_type": "execute_result"
    }
   ],
   "source": [
    "#"
   ]
  },
  {
   "cell_type": "markdown",
   "metadata": {
    "id": "93Gl7Au1NkUs"
   },
   "source": [
    "Données de sortie y\n",
    "\n",
    "C'est la dernière colonne 'classe' de df_employes"
   ]
  },
  {
   "cell_type": "code",
   "execution_count": 21,
   "metadata": {
    "colab": {
     "base_uri": "https://localhost:8080/"
    },
    "id": "nez2XaR31_bz",
    "outputId": "71dcc5a4-b83d-4235-c916-23cf7cf8d5fe"
   },
   "outputs": [
    {
     "data": {
      "text/plain": [
       "nom\n",
       "Ali        junior\n",
       "Sonia      senior\n",
       "Rahma      junior\n",
       "Salma      senior\n",
       "Ahmed      senior\n",
       "Saleh      junior\n",
       "Ameni      junior\n",
       "Mehdi      senior\n",
       "Salem      junior\n",
       "Sameh      senior\n",
       "Wajdi      junior\n",
       "Moufida    senior\n",
       "Name: classe, dtype: object"
      ]
     },
     "execution_count": 21,
     "metadata": {},
     "output_type": "execute_result"
    }
   ],
   "source": [
    "#"
   ]
  },
  {
   "cell_type": "markdown",
   "metadata": {
    "id": "_xDe8P_2caT7"
   },
   "source": [
    "**2.3. Division des données en train**"
   ]
  },
  {
   "cell_type": "markdown",
   "metadata": {
    "id": "R4dT3sFIN6vm"
   },
   "source": [
    "Les données sont divisées en train (60%) et test (40%)\n",
    "\n",
    "Diviser X en X_train et X_test\n",
    "\n",
    "Diviser y en y_train et y_test\n",
    "\n",
    "Note : \n",
    "- Utiliser la fonction train_test_split() du module sklearn.model_selection\n",
    "- Précisier le paramètre train_size = 60% des données\n",
    "- Précisier le paramètre stratify  qui prend y. Il permet de garantir la même répartition entre train et test (en terme des échantillons/classe) \n"
   ]
  },
  {
   "cell_type": "code",
   "execution_count": 24,
   "metadata": {
    "id": "P5T3UegX2Bpe"
   },
   "outputs": [],
   "source": [
    "#"
   ]
  },
  {
   "cell_type": "markdown",
   "metadata": {
    "id": "pkB24RjHcjRr"
   },
   "source": [
    "**2.4 Transformation des données d'apprentissage d'entrée de format brute en format numérique**"
   ]
  },
  {
   "cell_type": "markdown",
   "metadata": {
    "id": "4XapHpVgQ__M"
   },
   "source": [
    "Les données d'apprentissage d'entrée ont des types hétérogènes et non numériques. Ainsi, elles sont pas pêtes pour l'apprentissage du modèle de classifieur.\n",
    "\n",
    "Cette étape consiste à transformer les données d'apprentissage en format nuémrique comme suit :\n",
    "- Créer une copie de dataframe des données d'entrée d'apprentissage sur laquelle on applique le reste de travail\n",
    "- Remplir les valeurs manquantes\n",
    "- Remplacer le salaire et le prime par le revenue (revenue=salaire+prime)\n",
    "- Remplacer la date de recrutement par l'ancienneté de l'employé\n",
    "- Remplacer les valeurs discrètes de l'état civil par leurs codes binaires OHE"
   ]
  },
  {
   "cell_type": "code",
   "execution_count": null,
   "metadata": {
    "colab": {
     "base_uri": "https://localhost:8080/",
     "height": 300
    },
    "id": "ELxKa4XA2GVY",
    "outputId": "a42a60fb-0d90-4544-94d7-1ba20c961ff4"
   },
   "outputs": [
    {
     "data": {
      "text/html": [
       "\n",
       "  <div id=\"df-d9a84f7e-b207-4a63-a948-08dab0e217c7\">\n",
       "    <div class=\"colab-df-container\">\n",
       "      <div>\n",
       "<style scoped>\n",
       "    .dataframe tbody tr th:only-of-type {\n",
       "        vertical-align: middle;\n",
       "    }\n",
       "\n",
       "    .dataframe tbody tr th {\n",
       "        vertical-align: top;\n",
       "    }\n",
       "\n",
       "    .dataframe thead th {\n",
       "        text-align: right;\n",
       "    }\n",
       "</style>\n",
       "<table border=\"1\" class=\"dataframe\">\n",
       "  <thead>\n",
       "    <tr style=\"text-align: right;\">\n",
       "      <th></th>\n",
       "      <th>revenue</th>\n",
       "      <th>anciennete</th>\n",
       "      <th>etat civil_celibataire</th>\n",
       "      <th>etat civil_marie</th>\n",
       "    </tr>\n",
       "    <tr>\n",
       "      <th>nom</th>\n",
       "      <th></th>\n",
       "      <th></th>\n",
       "      <th></th>\n",
       "      <th></th>\n",
       "    </tr>\n",
       "  </thead>\n",
       "  <tbody>\n",
       "    <tr>\n",
       "      <th>Sonia</th>\n",
       "      <td>3201.6620</td>\n",
       "      <td>17</td>\n",
       "      <td>0.0</td>\n",
       "      <td>1.0</td>\n",
       "    </tr>\n",
       "    <tr>\n",
       "      <th>Ameni</th>\n",
       "      <td>1231.5300</td>\n",
       "      <td>3</td>\n",
       "      <td>1.0</td>\n",
       "      <td>0.0</td>\n",
       "    </tr>\n",
       "    <tr>\n",
       "      <th>Salem</th>\n",
       "      <td>1665.4600</td>\n",
       "      <td>5</td>\n",
       "      <td>1.0</td>\n",
       "      <td>0.0</td>\n",
       "    </tr>\n",
       "    <tr>\n",
       "      <th>Rahma</th>\n",
       "      <td>2415.8490</td>\n",
       "      <td>5</td>\n",
       "      <td>1.0</td>\n",
       "      <td>0.0</td>\n",
       "    </tr>\n",
       "    <tr>\n",
       "      <th>Ahmed</th>\n",
       "      <td>3361.2655</td>\n",
       "      <td>18</td>\n",
       "      <td>0.0</td>\n",
       "      <td>1.0</td>\n",
       "    </tr>\n",
       "    <tr>\n",
       "      <th>Sameh</th>\n",
       "      <td>3100.3300</td>\n",
       "      <td>23</td>\n",
       "      <td>0.0</td>\n",
       "      <td>1.0</td>\n",
       "    </tr>\n",
       "    <tr>\n",
       "      <th>Salma</th>\n",
       "      <td>2841.4760</td>\n",
       "      <td>12</td>\n",
       "      <td>0.0</td>\n",
       "      <td>1.0</td>\n",
       "    </tr>\n",
       "  </tbody>\n",
       "</table>\n",
       "</div>\n",
       "      <button class=\"colab-df-convert\" onclick=\"convertToInteractive('df-d9a84f7e-b207-4a63-a948-08dab0e217c7')\"\n",
       "              title=\"Convert this dataframe to an interactive table.\"\n",
       "              style=\"display:none;\">\n",
       "        \n",
       "  <svg xmlns=\"http://www.w3.org/2000/svg\" height=\"24px\"viewBox=\"0 0 24 24\"\n",
       "       width=\"24px\">\n",
       "    <path d=\"M0 0h24v24H0V0z\" fill=\"none\"/>\n",
       "    <path d=\"M18.56 5.44l.94 2.06.94-2.06 2.06-.94-2.06-.94-.94-2.06-.94 2.06-2.06.94zm-11 1L8.5 8.5l.94-2.06 2.06-.94-2.06-.94L8.5 2.5l-.94 2.06-2.06.94zm10 10l.94 2.06.94-2.06 2.06-.94-2.06-.94-.94-2.06-.94 2.06-2.06.94z\"/><path d=\"M17.41 7.96l-1.37-1.37c-.4-.4-.92-.59-1.43-.59-.52 0-1.04.2-1.43.59L10.3 9.45l-7.72 7.72c-.78.78-.78 2.05 0 2.83L4 21.41c.39.39.9.59 1.41.59.51 0 1.02-.2 1.41-.59l7.78-7.78 2.81-2.81c.8-.78.8-2.07 0-2.86zM5.41 20L4 18.59l7.72-7.72 1.47 1.35L5.41 20z\"/>\n",
       "  </svg>\n",
       "      </button>\n",
       "      \n",
       "  <style>\n",
       "    .colab-df-container {\n",
       "      display:flex;\n",
       "      flex-wrap:wrap;\n",
       "      gap: 12px;\n",
       "    }\n",
       "\n",
       "    .colab-df-convert {\n",
       "      background-color: #E8F0FE;\n",
       "      border: none;\n",
       "      border-radius: 50%;\n",
       "      cursor: pointer;\n",
       "      display: none;\n",
       "      fill: #1967D2;\n",
       "      height: 32px;\n",
       "      padding: 0 0 0 0;\n",
       "      width: 32px;\n",
       "    }\n",
       "\n",
       "    .colab-df-convert:hover {\n",
       "      background-color: #E2EBFA;\n",
       "      box-shadow: 0px 1px 2px rgba(60, 64, 67, 0.3), 0px 1px 3px 1px rgba(60, 64, 67, 0.15);\n",
       "      fill: #174EA6;\n",
       "    }\n",
       "\n",
       "    [theme=dark] .colab-df-convert {\n",
       "      background-color: #3B4455;\n",
       "      fill: #D2E3FC;\n",
       "    }\n",
       "\n",
       "    [theme=dark] .colab-df-convert:hover {\n",
       "      background-color: #434B5C;\n",
       "      box-shadow: 0px 1px 3px 1px rgba(0, 0, 0, 0.15);\n",
       "      filter: drop-shadow(0px 1px 2px rgba(0, 0, 0, 0.3));\n",
       "      fill: #FFFFFF;\n",
       "    }\n",
       "  </style>\n",
       "\n",
       "      <script>\n",
       "        const buttonEl =\n",
       "          document.querySelector('#df-d9a84f7e-b207-4a63-a948-08dab0e217c7 button.colab-df-convert');\n",
       "        buttonEl.style.display =\n",
       "          google.colab.kernel.accessAllowed ? 'block' : 'none';\n",
       "\n",
       "        async function convertToInteractive(key) {\n",
       "          const element = document.querySelector('#df-d9a84f7e-b207-4a63-a948-08dab0e217c7');\n",
       "          const dataTable =\n",
       "            await google.colab.kernel.invokeFunction('convertToInteractive',\n",
       "                                                     [key], {});\n",
       "          if (!dataTable) return;\n",
       "\n",
       "          const docLinkHtml = 'Like what you see? Visit the ' +\n",
       "            '<a target=\"_blank\" href=https://colab.research.google.com/notebooks/data_table.ipynb>data table notebook</a>'\n",
       "            + ' to learn more about interactive tables.';\n",
       "          element.innerHTML = '';\n",
       "          dataTable['output_type'] = 'display_data';\n",
       "          await google.colab.output.renderOutput(dataTable, element);\n",
       "          const docLink = document.createElement('div');\n",
       "          docLink.innerHTML = docLinkHtml;\n",
       "          element.appendChild(docLink);\n",
       "        }\n",
       "      </script>\n",
       "    </div>\n",
       "  </div>\n",
       "  "
      ],
      "text/plain": [
       "         revenue  anciennete  etat civil_celibataire  etat civil_marie\n",
       "nom                                                                   \n",
       "Sonia  3201.6620          17                     0.0               1.0\n",
       "Ameni  1231.5300           3                     1.0               0.0\n",
       "Salem  1665.4600           5                     1.0               0.0\n",
       "Rahma  2415.8490           5                     1.0               0.0\n",
       "Ahmed  3361.2655          18                     0.0               1.0\n",
       "Sameh  3100.3300          23                     0.0               1.0\n",
       "Salma  2841.4760          12                     0.0               1.0"
      ]
     },
     "execution_count": 57,
     "metadata": {},
     "output_type": "execute_result"
    }
   ],
   "source": [
    "# Créer une copie des données d'entrée d'apprentissage (X_train) en X_\n",
    "X_train_=X_train.copy()\n",
    "# la transformation de X_train_\n",
    "# ....\n",
    "X_train_"
   ]
  },
  {
   "cell_type": "markdown",
   "metadata": {
    "id": "ObeBf3iCOWC-"
   },
   "source": [
    "**2.5. Post-traitement des données d'apprentissage**"
   ]
  },
  {
   "cell_type": "markdown",
   "metadata": {
    "id": "0j9IcWxvOiXX"
   },
   "source": [
    "Normalisation des données d'apprentissage d'entrée \n",
    "\n",
    "La normalisation de X_train_ donne lieu à X_train_ss"
   ]
  },
  {
   "cell_type": "code",
   "execution_count": null,
   "metadata": {
    "id": "RVghJRZZ_UoO"
   },
   "outputs": [],
   "source": [
    "#"
   ]
  },
  {
   "cell_type": "markdown",
   "metadata": {
    "id": "MThEQvpaOl4L"
   },
   "source": [
    "Réduction de dimension des données d'apprentissage d'entrée\n",
    "\n",
    "La réduction de dimension de X_train_ss donne lieu à X_train_pca"
   ]
  },
  {
   "cell_type": "code",
   "execution_count": null,
   "metadata": {
    "id": "66ku7VJe_ZcF"
   },
   "outputs": [],
   "source": [
    "#"
   ]
  },
  {
   "cell_type": "markdown",
   "metadata": {
    "id": "mep8UlCNctvb"
   },
   "source": [
    "**2.6. Apprentissage avec KNN**"
   ]
  },
  {
   "cell_type": "markdown",
   "metadata": {
    "id": "wgPJJDi2JLlK"
   },
   "source": [
    "Pour appliquer KNN, importer la classe KNeighborsClassifier du module sklearn.neighbors.\n",
    "\n",
    "Créer une instance et précisier l'hyperparamètre n_neighbors=2\n",
    "\n",
    "Appeler la fonction fit() et passer X_train_pca et y_train"
   ]
  },
  {
   "cell_type": "code",
   "execution_count": null,
   "metadata": {
    "id": "tOcBPqaxcwc1"
   },
   "outputs": [],
   "source": [
    "#"
   ]
  },
  {
   "cell_type": "markdown",
   "metadata": {
    "id": "JLhAep77cw-a"
   },
   "source": [
    "**2.7. Traitement des données de test**"
   ]
  },
  {
   "cell_type": "markdown",
   "metadata": {
    "id": "Bf36-JIHTpVy"
   },
   "source": [
    "Appliquer le même traitement fait sur les données d'apprentissage d'entrée (transformation en format numérique et  post-traitement)"
   ]
  },
  {
   "cell_type": "code",
   "execution_count": null,
   "metadata": {
    "id": "De7lRwpgc47z"
   },
   "outputs": [],
   "source": [
    "# Transformation des données de test\n",
    "# Créer une copie des données d'entrée d'apprentissage (X_train) en X_\n",
    "X_test_=X_test.copy()\n",
    "# ...\n",
    "X_test_"
   ]
  },
  {
   "cell_type": "markdown",
   "metadata": {
    "id": "VCP3wBQzMmXv"
   },
   "source": [
    "Normaliser et réduire la dimension des données de test"
   ]
  },
  {
   "cell_type": "code",
   "execution_count": null,
   "metadata": {
    "id": "lkuC7UtsdTbj"
   },
   "outputs": [],
   "source": [
    "#\n",
    "X_test_pca"
   ]
  },
  {
   "cell_type": "markdown",
   "metadata": {
    "id": "YetGDdtrc1WD"
   },
   "source": [
    "**2.8. Evaluation de classifieur avec les données de test**"
   ]
  },
  {
   "cell_type": "markdown",
   "metadata": {
    "id": "9ThfYVXOUHmi"
   },
   "source": [
    "Prédiction des données de test"
   ]
  },
  {
   "cell_type": "code",
   "execution_count": null,
   "metadata": {
    "colab": {
     "base_uri": "https://localhost:8080/"
    },
    "id": "TpPVDvio2mrT",
    "outputId": "acae6449-88f7-4495-9677-e9ea29cea708"
   },
   "outputs": [
    {
     "data": {
      "text/plain": [
       "array(['senior', 'junior', 'junior', 'junior', 'senior'], dtype=object)"
      ]
     },
     "execution_count": 60,
     "metadata": {},
     "output_type": "execute_result"
    }
   ],
   "source": [
    "#\n",
    "y_test_predicted"
   ]
  },
  {
   "cell_type": "markdown",
   "metadata": {
    "id": "VNNbS3uyUpd6"
   },
   "source": [
    "Score d'accuracy"
   ]
  },
  {
   "cell_type": "code",
   "execution_count": null,
   "metadata": {
    "colab": {
     "base_uri": "https://localhost:8080/"
    },
    "id": "5j8kufE63W0i",
    "outputId": "8fb3e827-2fe8-46bc-d678-3d99a143bb42"
   },
   "outputs": [
    {
     "name": "stdout",
     "output_type": "stream",
     "text": [
      "accuracy=100.00\n"
     ]
    }
   ],
   "source": [
    "#"
   ]
  },
  {
   "cell_type": "markdown",
   "metadata": {
    "id": "FHMmCe-0Ur2D"
   },
   "source": [
    "Matrice de confusion"
   ]
  },
  {
   "cell_type": "code",
   "execution_count": null,
   "metadata": {
    "colab": {
     "base_uri": "https://localhost:8080/"
    },
    "id": "mbHlKTTXocz5",
    "outputId": "f17abb2e-6431-4a46-feb4-a4fc10f3e632"
   },
   "outputs": [
    {
     "data": {
      "text/plain": [
       "array([[3, 0],\n",
       "       [0, 2]])"
      ]
     },
     "execution_count": 62,
     "metadata": {},
     "output_type": "execute_result"
    }
   ],
   "source": [
    "#"
   ]
  },
  {
   "cell_type": "markdown",
   "metadata": {
    "id": "_-m8ScPvU4fb"
   },
   "source": [
    "Rappel et pércision"
   ]
  },
  {
   "cell_type": "code",
   "execution_count": null,
   "metadata": {
    "id": "8HbGZhKmU3Ox"
   },
   "outputs": [],
   "source": [
    "#"
   ]
  },
  {
   "cell_type": "markdown",
   "metadata": {
    "id": "2ycUbwFJU0B1"
   },
   "source": [
    "**2.9. Visualisation des données**"
   ]
  },
  {
   "cell_type": "code",
   "execution_count": null,
   "metadata": {
    "id": "vsFLj5ktVCi8"
   },
   "outputs": [],
   "source": [
    "classe_junior=#\n",
    "classe_senior=#"
   ]
  },
  {
   "cell_type": "code",
   "execution_count": null,
   "metadata": {
    "id": "hvqS-2EyU31c"
   },
   "outputs": [],
   "source": [
    "#"
   ]
  }
 ],
 "metadata": {
  "colab": {
   "collapsed_sections": [],
   "provenance": []
  },
  "kernelspec": {
   "display_name": "Python 3 (ipykernel)",
   "language": "python",
   "name": "python3"
  },
  "language_info": {
   "codemirror_mode": {
    "name": "ipython",
    "version": 3
   },
   "file_extension": ".py",
   "mimetype": "text/x-python",
   "name": "python",
   "nbconvert_exporter": "python",
   "pygments_lexer": "ipython3",
   "version": "3.9.13"
  }
 },
 "nbformat": 4,
 "nbformat_minor": 1
}
