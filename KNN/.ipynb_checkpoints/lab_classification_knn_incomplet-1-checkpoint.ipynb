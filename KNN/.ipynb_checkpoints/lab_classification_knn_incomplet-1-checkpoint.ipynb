{
 "cells": [
  {
   "cell_type": "markdown",
   "metadata": {
    "id": "G81W2Oez6jDL"
   },
   "source": [
    "**1. Classification avec KNN**"
   ]
  },
  {
   "cell_type": "markdown",
   "metadata": {
    "id": "RNK_TDxDz9W5"
   },
   "source": [
    "**1.1. Charger les données d'apprentissage**"
   ]
  },
  {
   "cell_type": "code",
   "execution_count": 219,
   "metadata": {
    "id": "TWvV1boQLjFS"
   },
   "outputs": [],
   "source": [
    "import pandas as pd"
   ]
  },
  {
   "cell_type": "markdown",
   "metadata": {
    "id": "hSU0rdiTz_2U"
   },
   "source": [
    "Les données d'entrée d'apprentissage"
   ]
  },
  {
   "cell_type": "code",
   "execution_count": 220,
   "metadata": {
    "id": "G7taM8DGnCGm"
   },
   "outputs": [
    {
     "data": {
      "text/html": [
       "<div>\n",
       "<style scoped>\n",
       "    .dataframe tbody tr th:only-of-type {\n",
       "        vertical-align: middle;\n",
       "    }\n",
       "\n",
       "    .dataframe tbody tr th {\n",
       "        vertical-align: top;\n",
       "    }\n",
       "\n",
       "    .dataframe thead th {\n",
       "        text-align: right;\n",
       "    }\n",
       "</style>\n",
       "<table border=\"1\" class=\"dataframe\">\n",
       "  <thead>\n",
       "    <tr style=\"text-align: right;\">\n",
       "      <th></th>\n",
       "      <th>salaire</th>\n",
       "      <th>age</th>\n",
       "    </tr>\n",
       "  </thead>\n",
       "  <tbody>\n",
       "    <tr>\n",
       "      <th>0</th>\n",
       "      <td>1200</td>\n",
       "      <td>25</td>\n",
       "    </tr>\n",
       "    <tr>\n",
       "      <th>1</th>\n",
       "      <td>1300</td>\n",
       "      <td>27</td>\n",
       "    </tr>\n",
       "    <tr>\n",
       "      <th>2</th>\n",
       "      <td>1100</td>\n",
       "      <td>27</td>\n",
       "    </tr>\n",
       "    <tr>\n",
       "      <th>3</th>\n",
       "      <td>2500</td>\n",
       "      <td>49</td>\n",
       "    </tr>\n",
       "    <tr>\n",
       "      <th>4</th>\n",
       "      <td>2400</td>\n",
       "      <td>47</td>\n",
       "    </tr>\n",
       "    <tr>\n",
       "      <th>5</th>\n",
       "      <td>2600</td>\n",
       "      <td>45</td>\n",
       "    </tr>\n",
       "  </tbody>\n",
       "</table>\n",
       "</div>"
      ],
      "text/plain": [
       "   salaire  age\n",
       "0     1200   25\n",
       "1     1300   27\n",
       "2     1100   27\n",
       "3     2500   49\n",
       "4     2400   47\n",
       "5     2600   45"
      ]
     },
     "execution_count": 220,
     "metadata": {},
     "output_type": "execute_result"
    }
   ],
   "source": [
    "X_train=pd.DataFrame([[1200,25],\n",
    "                 [1300,27],\n",
    "                 [1100,27],\n",
    "                 [2500,49],\n",
    "                 [2400,47],\n",
    "                 [2600,45]], \n",
    "                 columns=['salaire','age'])\n",
    "X_train"
   ]
  },
  {
   "cell_type": "markdown",
   "metadata": {
    "id": "n_4Q8KEI0H31"
   },
   "source": [
    "Les données de sortie d'apprentissage"
   ]
  },
  {
   "cell_type": "code",
   "execution_count": 221,
   "metadata": {
    "id": "LZdQK87gMSKh"
   },
   "outputs": [
    {
     "data": {
      "text/plain": [
       "0    junior\n",
       "1    junior\n",
       "2    junior\n",
       "3    senior\n",
       "4    senior\n",
       "5    senior\n",
       "dtype: object"
      ]
     },
     "execution_count": 221,
     "metadata": {},
     "output_type": "execute_result"
    }
   ],
   "source": [
    "y_train=pd.Series(['junior','junior','junior','senior','senior','senior'])\n",
    "y_train"
   ]
  },
  {
   "cell_type": "markdown",
   "metadata": {
    "id": "eiMqj3jq0VLk"
   },
   "source": [
    "**1.2. Apprentissage avec KNN**"
   ]
  },
  {
   "cell_type": "code",
   "execution_count": 222,
   "metadata": {
    "colab": {
     "base_uri": "https://localhost:8080/"
    },
    "id": "sy_G7AeNGQe9",
    "outputId": "7a63355a-1b90-45da-bab7-d8fa522a1bd3"
   },
   "outputs": [
    {
     "data": {
      "text/plain": [
       "KNeighborsClassifier(n_neighbors=2)"
      ]
     },
     "execution_count": 222,
     "metadata": {},
     "output_type": "execute_result"
    }
   ],
   "source": [
    "from sklearn.neighbors  import KNeighborsClassifier\n",
    "\n",
    "knn=KNeighborsClassifier(n_neighbors=2)\n",
    "knn.fit(X_train,y_train)"
   ]
  },
  {
   "cell_type": "markdown",
   "metadata": {
    "id": "fEwj7bh30aDV"
   },
   "source": [
    "**1.3. Charger les données de test**"
   ]
  },
  {
   "cell_type": "markdown",
   "metadata": {
    "id": "dSovDgyU0p4E"
   },
   "source": [
    "Les données d'entrée de test"
   ]
  },
  {
   "cell_type": "code",
   "execution_count": 223,
   "metadata": {
    "id": "9w4d-xY8nds6"
   },
   "outputs": [],
   "source": [
    "X_test=pd.DataFrame([[1000,24],\n",
    "                 [1350,29],\n",
    "                 [2100,42],\n",
    "                 [2300,44]], \n",
    "                 columns=['salaire','age'])"
   ]
  },
  {
   "cell_type": "markdown",
   "metadata": {
    "id": "r2Y3Rs8O0tl8"
   },
   "source": [
    "Les données de sortie de test"
   ]
  },
  {
   "cell_type": "code",
   "execution_count": 224,
   "metadata": {
    "id": "mkvAaVbhnthV"
   },
   "outputs": [],
   "source": [
    "y_test=pd.Series(['junior','junior','senior','senior'])"
   ]
  },
  {
   "cell_type": "markdown",
   "metadata": {
    "id": "9UiNIluh0wBM"
   },
   "source": [
    "**1.4. Evaluation de KNN**"
   ]
  },
  {
   "cell_type": "markdown",
   "metadata": {
    "id": "I8ls9yyRNPaH"
   },
   "source": [
    "Prédiction des données de test"
   ]
  },
  {
   "cell_type": "code",
   "execution_count": 225,
   "metadata": {
    "colab": {
     "base_uri": "https://localhost:8080/"
    },
    "id": "gQaUsvhHLBD1",
    "outputId": "e115fbbe-a400-4bb8-85e7-36c672cde8ff"
   },
   "outputs": [
    {
     "data": {
      "text/plain": [
       "array(['junior', 'junior', 'senior', 'senior'], dtype=object)"
      ]
     },
     "execution_count": 225,
     "metadata": {},
     "output_type": "execute_result"
    }
   ],
   "source": [
    "y_test_predicted=knn.predict(X_test)\n",
    "y_test_predicted"
   ]
  },
  {
   "cell_type": "code",
   "execution_count": 226,
   "metadata": {
    "colab": {
     "base_uri": "https://localhost:8080/"
    },
    "id": "8b7b_6rDM0sp",
    "outputId": "d795873f-6d89-4637-90a0-1ab9e796765b"
   },
   "outputs": [
    {
     "data": {
      "text/plain": [
       "0    junior\n",
       "1    junior\n",
       "2    senior\n",
       "3    senior\n",
       "dtype: object"
      ]
     },
     "execution_count": 226,
     "metadata": {},
     "output_type": "execute_result"
    }
   ],
   "source": [
    "y_test"
   ]
  },
  {
   "cell_type": "markdown",
   "metadata": {
    "id": "i2WzuSyp03EU"
   },
   "source": [
    "Score d'accuracy"
   ]
  },
  {
   "cell_type": "code",
   "execution_count": 227,
   "metadata": {
    "colab": {
     "base_uri": "https://localhost:8080/"
    },
    "id": "MOuS00UXM4Gi",
    "outputId": "a03c5d65-16a8-4aff-b418-dfb8439580c1"
   },
   "outputs": [
    {
     "name": "stdout",
     "output_type": "stream",
     "text": [
      "accuracy=100.00\n"
     ]
    }
   ],
   "source": [
    "from sklearn.metrics import accuracy_score\n",
    "\n",
    "print(\"accuracy=%.2f\" % (accuracy_score(y_test, y_test_predicted)*100))"
   ]
  },
  {
   "cell_type": "markdown",
   "metadata": {
    "id": "7MKbZCGp05rj"
   },
   "source": [
    "Matrice de confusion"
   ]
  },
  {
   "cell_type": "code",
   "execution_count": 228,
   "metadata": {
    "colab": {
     "base_uri": "https://localhost:8080/"
    },
    "id": "MIIK6SgaoKJg",
    "outputId": "6ddee88e-4cf1-424f-c062-8395b334dcc2"
   },
   "outputs": [
    {
     "data": {
      "text/plain": [
       "array([[2, 0],\n",
       "       [0, 2]], dtype=int64)"
      ]
     },
     "execution_count": 228,
     "metadata": {},
     "output_type": "execute_result"
    }
   ],
   "source": [
    "from sklearn.metrics import accuracy_score, confusion_matrix\n",
    "\n",
    "M=confusion_matrix(y_test, y_test_predicted)\n",
    "M"
   ]
  },
  {
   "cell_type": "code",
   "execution_count": 229,
   "metadata": {
    "colab": {
     "base_uri": "https://localhost:8080/",
     "height": 112
    },
    "id": "CEOJBYp0Ez_w",
    "outputId": "3fbf39e1-60df-46af-92a8-6b3f85b926cd"
   },
   "outputs": [
    {
     "data": {
      "text/html": [
       "<div>\n",
       "<style scoped>\n",
       "    .dataframe tbody tr th:only-of-type {\n",
       "        vertical-align: middle;\n",
       "    }\n",
       "\n",
       "    .dataframe tbody tr th {\n",
       "        vertical-align: top;\n",
       "    }\n",
       "\n",
       "    .dataframe thead th {\n",
       "        text-align: right;\n",
       "    }\n",
       "</style>\n",
       "<table border=\"1\" class=\"dataframe\">\n",
       "  <thead>\n",
       "    <tr style=\"text-align: right;\">\n",
       "      <th></th>\n",
       "      <th>junior</th>\n",
       "      <th>senior</th>\n",
       "    </tr>\n",
       "  </thead>\n",
       "  <tbody>\n",
       "    <tr>\n",
       "      <th>junior</th>\n",
       "      <td>2</td>\n",
       "      <td>0</td>\n",
       "    </tr>\n",
       "    <tr>\n",
       "      <th>senior</th>\n",
       "      <td>0</td>\n",
       "      <td>2</td>\n",
       "    </tr>\n",
       "  </tbody>\n",
       "</table>\n",
       "</div>"
      ],
      "text/plain": [
       "        junior  senior\n",
       "junior       2       0\n",
       "senior       0       2"
      ]
     },
     "execution_count": 229,
     "metadata": {},
     "output_type": "execute_result"
    }
   ],
   "source": [
    "pd.DataFrame(M,\n",
    "             index=knn.classes_,\n",
    "             columns=knn.classes_)"
   ]
  },
  {
   "cell_type": "markdown",
   "metadata": {
    "id": "QZzUcUL4E3GG"
   },
   "source": [
    "Rappel (Recall) et précision apr classe"
   ]
  },
  {
   "cell_type": "code",
   "execution_count": 230,
   "metadata": {
    "colab": {
     "base_uri": "https://localhost:8080/"
    },
    "id": "37URK_x1GQuX",
    "outputId": "cbd1fb7a-1b92-4805-9c7d-4da53c056980"
   },
   "outputs": [
    {
     "name": "stdout",
     "output_type": "stream",
     "text": [
      "              precision    recall  f1-score   support\n",
      "\n",
      "      junior       1.00      1.00      1.00         2\n",
      "      senior       1.00      1.00      1.00         2\n",
      "\n",
      "    accuracy                           1.00         4\n",
      "   macro avg       1.00      1.00      1.00         4\n",
      "weighted avg       1.00      1.00      1.00         4\n",
      "\n"
     ]
    }
   ],
   "source": [
    "from sklearn.metrics import classification_report\n",
    "\n",
    "print(classification_report(y_test, y_test_predicted))"
   ]
  },
  {
   "cell_type": "markdown",
   "metadata": {
    "id": "GjswqJ4c1AMD"
   },
   "source": [
    "**2. Classification des données réelles (tabulaires)**"
   ]
  },
  {
   "cell_type": "markdown",
   "metadata": {
    "id": "q68rLXsacI9C"
   },
   "source": [
    "**2.1. Charger les données employes2.csv à partir de Google Drive**"
   ]
  },
  {
   "cell_type": "code",
   "execution_count": 231,
   "metadata": {
    "colab": {
     "base_uri": "https://localhost:8080/"
    },
    "id": "1rZr7UpJ1tL0",
    "outputId": "aaf9b907-d06c-46d6-bba1-95409f4ff5e4"
   },
   "outputs": [],
   "source": [
    "import pandas as pd"
   ]
  },
  {
   "cell_type": "code",
   "execution_count": 232,
   "metadata": {
    "id": "Ub9zXmml1mta"
   },
   "outputs": [
    {
     "data": {
      "text/html": [
       "<div>\n",
       "<style scoped>\n",
       "    .dataframe tbody tr th:only-of-type {\n",
       "        vertical-align: middle;\n",
       "    }\n",
       "\n",
       "    .dataframe tbody tr th {\n",
       "        vertical-align: top;\n",
       "    }\n",
       "\n",
       "    .dataframe thead th {\n",
       "        text-align: right;\n",
       "    }\n",
       "</style>\n",
       "<table border=\"1\" class=\"dataframe\">\n",
       "  <thead>\n",
       "    <tr style=\"text-align: right;\">\n",
       "      <th></th>\n",
       "      <th>salaire</th>\n",
       "      <th>prime</th>\n",
       "      <th>etat civil</th>\n",
       "      <th>date recrutement</th>\n",
       "      <th>classe</th>\n",
       "    </tr>\n",
       "    <tr>\n",
       "      <th>nom</th>\n",
       "      <th></th>\n",
       "      <th></th>\n",
       "      <th></th>\n",
       "      <th></th>\n",
       "      <th></th>\n",
       "    </tr>\n",
       "  </thead>\n",
       "  <tbody>\n",
       "    <tr>\n",
       "      <th>Ali</th>\n",
       "      <td>1200.675</td>\n",
       "      <td>100.560</td>\n",
       "      <td>celibataire</td>\n",
       "      <td>20/10/2018</td>\n",
       "      <td>junior</td>\n",
       "    </tr>\n",
       "    <tr>\n",
       "      <th>Sonia</th>\n",
       "      <td>2800.786</td>\n",
       "      <td>400.876</td>\n",
       "      <td>marie</td>\n",
       "      <td>30/11/2005</td>\n",
       "      <td>senior</td>\n",
       "    </tr>\n",
       "    <tr>\n",
       "      <th>Rahma</th>\n",
       "      <td>NaN</td>\n",
       "      <td>130.987</td>\n",
       "      <td>celibataire</td>\n",
       "      <td>04/02/2017</td>\n",
       "      <td>junior</td>\n",
       "    </tr>\n",
       "    <tr>\n",
       "      <th>Salma</th>\n",
       "      <td>2500.876</td>\n",
       "      <td>340.600</td>\n",
       "      <td>marie</td>\n",
       "      <td>03/02/2010</td>\n",
       "      <td>senior</td>\n",
       "    </tr>\n",
       "    <tr>\n",
       "      <th>Ahmed</th>\n",
       "      <td>3100.760</td>\n",
       "      <td>NaN</td>\n",
       "      <td>marie</td>\n",
       "      <td>09/09/2004</td>\n",
       "      <td>senior</td>\n",
       "    </tr>\n",
       "    <tr>\n",
       "      <th>Saleh</th>\n",
       "      <td>1300.876</td>\n",
       "      <td>150.900</td>\n",
       "      <td>celibataire</td>\n",
       "      <td>01/01/2017</td>\n",
       "      <td>junior</td>\n",
       "    </tr>\n",
       "    <tr>\n",
       "      <th>Ameni</th>\n",
       "      <td>1100.660</td>\n",
       "      <td>130.870</td>\n",
       "      <td>celibataire</td>\n",
       "      <td>11/05/2019</td>\n",
       "      <td>junior</td>\n",
       "    </tr>\n",
       "    <tr>\n",
       "      <th>Mehdi</th>\n",
       "      <td>3000.760</td>\n",
       "      <td>NaN</td>\n",
       "      <td>marie</td>\n",
       "      <td>07/07/2000</td>\n",
       "      <td>senior</td>\n",
       "    </tr>\n",
       "    <tr>\n",
       "      <th>Salem</th>\n",
       "      <td>1505.760</td>\n",
       "      <td>159.700</td>\n",
       "      <td>celibataire</td>\n",
       "      <td>21/11/2017</td>\n",
       "      <td>junior</td>\n",
       "    </tr>\n",
       "    <tr>\n",
       "      <th>Sameh</th>\n",
       "      <td>2700.330</td>\n",
       "      <td>400.000</td>\n",
       "      <td>marie</td>\n",
       "      <td>19/02/1999</td>\n",
       "      <td>senior</td>\n",
       "    </tr>\n",
       "    <tr>\n",
       "      <th>Wajdi</th>\n",
       "      <td>1200.980</td>\n",
       "      <td>NaN</td>\n",
       "      <td>celibataire</td>\n",
       "      <td>27/11/2015</td>\n",
       "      <td>junior</td>\n",
       "    </tr>\n",
       "    <tr>\n",
       "      <th>Moufida</th>\n",
       "      <td>3700.440</td>\n",
       "      <td>500.000</td>\n",
       "      <td>marie</td>\n",
       "      <td>09/12/1991</td>\n",
       "      <td>senior</td>\n",
       "    </tr>\n",
       "  </tbody>\n",
       "</table>\n",
       "</div>"
      ],
      "text/plain": [
       "          salaire    prime   etat civil date recrutement  classe\n",
       "nom                                                             \n",
       "Ali      1200.675  100.560  celibataire       20/10/2018  junior\n",
       "Sonia    2800.786  400.876        marie       30/11/2005  senior\n",
       "Rahma         NaN  130.987  celibataire       04/02/2017  junior\n",
       "Salma    2500.876  340.600        marie       03/02/2010  senior\n",
       "Ahmed    3100.760      NaN        marie       09/09/2004  senior\n",
       "Saleh    1300.876  150.900  celibataire       01/01/2017  junior\n",
       "Ameni    1100.660  130.870  celibataire       11/05/2019  junior\n",
       "Mehdi    3000.760      NaN        marie       07/07/2000  senior\n",
       "Salem    1505.760  159.700  celibataire       21/11/2017  junior\n",
       "Sameh    2700.330  400.000        marie       19/02/1999  senior\n",
       "Wajdi    1200.980      NaN  celibataire       27/11/2015  junior\n",
       "Moufida  3700.440  500.000        marie       09/12/1991  senior"
      ]
     },
     "execution_count": 232,
     "metadata": {},
     "output_type": "execute_result"
    }
   ],
   "source": [
    "df_employes = pd.read_csv('employes2.csv',index_col=0)\n",
    "df_employes\n",
    "df_employes_=df_employes.copy()\n",
    "df_employes_"
   ]
  },
  {
   "cell_type": "code",
   "execution_count": 233,
   "metadata": {
    "colab": {
     "base_uri": "https://localhost:8080/",
     "height": 457
    },
    "id": "VCp87vi01sRU",
    "outputId": "09012f6b-be5f-4d30-e923-5a1f54dd224e"
   },
   "outputs": [],
   "source": [
    "# lire le fichier CSV et charger les données en dataframe df_employes\n",
    "#"
   ]
  },
  {
   "cell_type": "markdown",
   "metadata": {
    "id": "ZHc2wpZycTEL"
   },
   "source": [
    "**2.2. Division des données en entrée et sortie**"
   ]
  },
  {
   "cell_type": "markdown",
   "metadata": {
    "id": "0e2ocB7qNhn4"
   },
   "source": [
    "Données d'entrée X\n",
    "\n",
    "C'est la partie de dataframe composée de toutes les colonnes sauf la dernière colonne 'classe'"
   ]
  },
  {
   "cell_type": "code",
   "execution_count": 234,
   "metadata": {
    "colab": {
     "base_uri": "https://localhost:8080/",
     "height": 457
    },
    "id": "Nir-WGep16_c",
    "outputId": "c7de5030-cf79-442e-ce9d-05e571eaead1"
   },
   "outputs": [
    {
     "data": {
      "text/plain": [
       "nom\n",
       "Ali        junior\n",
       "Sonia      senior\n",
       "Rahma      junior\n",
       "Salma      senior\n",
       "Ahmed      senior\n",
       "Saleh      junior\n",
       "Ameni      junior\n",
       "Mehdi      senior\n",
       "Salem      junior\n",
       "Sameh      senior\n",
       "Wajdi      junior\n",
       "Moufida    senior\n",
       "Name: classe, dtype: object"
      ]
     },
     "execution_count": 234,
     "metadata": {},
     "output_type": "execute_result"
    }
   ],
   "source": [
    "X = df_employes_.iloc[:,:-1]\n",
    "X\n",
    "Y = df_employes_.iloc[:,-1]\n",
    "Y"
   ]
  },
  {
   "cell_type": "markdown",
   "metadata": {
    "id": "93Gl7Au1NkUs"
   },
   "source": [
    "Données de sortie y\n",
    "\n",
    "C'est la dernière colonne 'classe' de df_employes"
   ]
  },
  {
   "cell_type": "code",
   "execution_count": 235,
   "metadata": {
    "colab": {
     "base_uri": "https://localhost:8080/"
    },
    "id": "nez2XaR31_bz",
    "outputId": "71dcc5a4-b83d-4235-c916-23cf7cf8d5fe"
   },
   "outputs": [],
   "source": [
    "#"
   ]
  },
  {
   "cell_type": "markdown",
   "metadata": {
    "id": "_xDe8P_2caT7"
   },
   "source": [
    "**2.3. Division des données en train**"
   ]
  },
  {
   "cell_type": "markdown",
   "metadata": {
    "id": "R4dT3sFIN6vm"
   },
   "source": [
    "Les données sont divisées en train (60%) et test (40%)\n",
    "\n",
    "Diviser X en X_train et X_test\n",
    "\n",
    "Diviser y en y_train et y_test\n",
    "\n",
    "Note : \n",
    "- Utiliser la fonction train_test_split() du module sklearn.model_selection\n",
    "- Précisier le paramètre train_size = 60% des données\n",
    "- Précisier le paramètre stratify  qui prend y. Il permet de garantir la même répartition entre train et test (en terme des échantillons/classe) \n"
   ]
  },
  {
   "cell_type": "code",
   "execution_count": 236,
   "metadata": {
    "id": "P5T3UegX2Bpe"
   },
   "outputs": [],
   "source": [
    "from sklearn.model_selection import train_test_split\n",
    "X_train, X_test, Y_train, Y_test = train_test_split(X,Y,test_size=0.3,random_state=0, shuffle=True)\n"
   ]
  },
  {
   "cell_type": "markdown",
   "metadata": {
    "id": "pkB24RjHcjRr"
   },
   "source": [
    "**2.4 Transformation des données d'apprentissage d'entrée de format brute en format numérique**"
   ]
  },
  {
   "cell_type": "markdown",
   "metadata": {
    "id": "4XapHpVgQ__M"
   },
   "source": [
    "Les données d'apprentissage d'entrée ont des types hétérogènes et non numériques. Ainsi, elles sont pas pêtes pour l'apprentissage du modèle de classifieur.\n",
    "\n",
    "Cette étape consiste à transformer les données d'apprentissage en format nuémrique comme suit :\n",
    "- Créer une copie de dataframe des données d'entrée d'apprentissage sur laquelle on applique le reste de travail\n",
    "- Remplir les valeurs manquantes\n",
    "- Remplacer le salaire et le prime par le revenue (revenue=salaire+prime)\n",
    "- Remplacer la date de recrutement par l'ancienneté de l'employé\n",
    "- Remplacer les valeurs discrètes de l'état civil par leurs codes binaires OHE"
   ]
  },
  {
   "cell_type": "code",
   "execution_count": 237,
   "metadata": {
    "colab": {
     "base_uri": "https://localhost:8080/",
     "height": 300
    },
    "id": "ELxKa4XA2GVY",
    "outputId": "a42a60fb-0d90-4544-94d7-1ba20c961ff4"
   },
   "outputs": [
    {
     "data": {
      "text/html": [
       "<div>\n",
       "<style scoped>\n",
       "    .dataframe tbody tr th:only-of-type {\n",
       "        vertical-align: middle;\n",
       "    }\n",
       "\n",
       "    .dataframe tbody tr th {\n",
       "        vertical-align: top;\n",
       "    }\n",
       "\n",
       "    .dataframe thead th {\n",
       "        text-align: right;\n",
       "    }\n",
       "</style>\n",
       "<table border=\"1\" class=\"dataframe\">\n",
       "  <thead>\n",
       "    <tr style=\"text-align: right;\">\n",
       "      <th></th>\n",
       "      <th>salaire</th>\n",
       "      <th>prime</th>\n",
       "      <th>etat civil</th>\n",
       "      <th>date recrutement</th>\n",
       "    </tr>\n",
       "    <tr>\n",
       "      <th>nom</th>\n",
       "      <th></th>\n",
       "      <th></th>\n",
       "      <th></th>\n",
       "      <th></th>\n",
       "    </tr>\n",
       "  </thead>\n",
       "  <tbody>\n",
       "    <tr>\n",
       "      <th>Rahma</th>\n",
       "      <td>NaN</td>\n",
       "      <td>130.987</td>\n",
       "      <td>celibataire</td>\n",
       "      <td>04/02/2017</td>\n",
       "    </tr>\n",
       "    <tr>\n",
       "      <th>Salem</th>\n",
       "      <td>1505.760</td>\n",
       "      <td>159.700</td>\n",
       "      <td>celibataire</td>\n",
       "      <td>21/11/2017</td>\n",
       "    </tr>\n",
       "    <tr>\n",
       "      <th>Sonia</th>\n",
       "      <td>2800.786</td>\n",
       "      <td>400.876</td>\n",
       "      <td>marie</td>\n",
       "      <td>30/11/2005</td>\n",
       "    </tr>\n",
       "    <tr>\n",
       "      <th>Mehdi</th>\n",
       "      <td>3000.760</td>\n",
       "      <td>NaN</td>\n",
       "      <td>marie</td>\n",
       "      <td>07/07/2000</td>\n",
       "    </tr>\n",
       "    <tr>\n",
       "      <th>Sameh</th>\n",
       "      <td>2700.330</td>\n",
       "      <td>400.000</td>\n",
       "      <td>marie</td>\n",
       "      <td>19/02/1999</td>\n",
       "    </tr>\n",
       "    <tr>\n",
       "      <th>Salma</th>\n",
       "      <td>2500.876</td>\n",
       "      <td>340.600</td>\n",
       "      <td>marie</td>\n",
       "      <td>03/02/2010</td>\n",
       "    </tr>\n",
       "    <tr>\n",
       "      <th>Ali</th>\n",
       "      <td>1200.675</td>\n",
       "      <td>100.560</td>\n",
       "      <td>celibataire</td>\n",
       "      <td>20/10/2018</td>\n",
       "    </tr>\n",
       "    <tr>\n",
       "      <th>Saleh</th>\n",
       "      <td>1300.876</td>\n",
       "      <td>150.900</td>\n",
       "      <td>celibataire</td>\n",
       "      <td>01/01/2017</td>\n",
       "    </tr>\n",
       "  </tbody>\n",
       "</table>\n",
       "</div>"
      ],
      "text/plain": [
       "        salaire    prime   etat civil date recrutement\n",
       "nom                                                   \n",
       "Rahma       NaN  130.987  celibataire       04/02/2017\n",
       "Salem  1505.760  159.700  celibataire       21/11/2017\n",
       "Sonia  2800.786  400.876        marie       30/11/2005\n",
       "Mehdi  3000.760      NaN        marie       07/07/2000\n",
       "Sameh  2700.330  400.000        marie       19/02/1999\n",
       "Salma  2500.876  340.600        marie       03/02/2010\n",
       "Ali    1200.675  100.560  celibataire       20/10/2018\n",
       "Saleh  1300.876  150.900  celibataire       01/01/2017"
      ]
     },
     "execution_count": 237,
     "metadata": {},
     "output_type": "execute_result"
    }
   ],
   "source": [
    "# Créer une copie des données d'entrée d'apprentissage (X_train) en X_\n",
    "X_train_=X_train.copy()\n",
    "# la transformation de X_train_\n",
    "# ....\n",
    "X_train_"
   ]
  },
  {
   "cell_type": "code",
   "execution_count": 238,
   "metadata": {},
   "outputs": [
    {
     "data": {
      "text/html": [
       "<div>\n",
       "<style scoped>\n",
       "    .dataframe tbody tr th:only-of-type {\n",
       "        vertical-align: middle;\n",
       "    }\n",
       "\n",
       "    .dataframe tbody tr th {\n",
       "        vertical-align: top;\n",
       "    }\n",
       "\n",
       "    .dataframe thead th {\n",
       "        text-align: right;\n",
       "    }\n",
       "</style>\n",
       "<table border=\"1\" class=\"dataframe\">\n",
       "  <thead>\n",
       "    <tr style=\"text-align: right;\">\n",
       "      <th></th>\n",
       "      <th>etat civil</th>\n",
       "      <th>date recrutement</th>\n",
       "      <th>revenue</th>\n",
       "    </tr>\n",
       "    <tr>\n",
       "      <th>nom</th>\n",
       "      <th></th>\n",
       "      <th></th>\n",
       "      <th></th>\n",
       "    </tr>\n",
       "  </thead>\n",
       "  <tbody>\n",
       "    <tr>\n",
       "      <th>Rahma</th>\n",
       "      <td>celibataire</td>\n",
       "      <td>04/02/2017</td>\n",
       "      <td>2275.281714</td>\n",
       "    </tr>\n",
       "    <tr>\n",
       "      <th>Salem</th>\n",
       "      <td>celibataire</td>\n",
       "      <td>21/11/2017</td>\n",
       "      <td>1665.460000</td>\n",
       "    </tr>\n",
       "    <tr>\n",
       "      <th>Sonia</th>\n",
       "      <td>marie</td>\n",
       "      <td>30/11/2005</td>\n",
       "      <td>3201.662000</td>\n",
       "    </tr>\n",
       "    <tr>\n",
       "      <th>Mehdi</th>\n",
       "      <td>marie</td>\n",
       "      <td>07/07/2000</td>\n",
       "      <td>3241.277571</td>\n",
       "    </tr>\n",
       "    <tr>\n",
       "      <th>Sameh</th>\n",
       "      <td>marie</td>\n",
       "      <td>19/02/1999</td>\n",
       "      <td>3100.330000</td>\n",
       "    </tr>\n",
       "    <tr>\n",
       "      <th>Salma</th>\n",
       "      <td>marie</td>\n",
       "      <td>03/02/2010</td>\n",
       "      <td>2841.476000</td>\n",
       "    </tr>\n",
       "    <tr>\n",
       "      <th>Ali</th>\n",
       "      <td>celibataire</td>\n",
       "      <td>20/10/2018</td>\n",
       "      <td>1301.235000</td>\n",
       "    </tr>\n",
       "    <tr>\n",
       "      <th>Saleh</th>\n",
       "      <td>celibataire</td>\n",
       "      <td>01/01/2017</td>\n",
       "      <td>1451.776000</td>\n",
       "    </tr>\n",
       "  </tbody>\n",
       "</table>\n",
       "</div>"
      ],
      "text/plain": [
       "        etat civil date recrutement      revenue\n",
       "nom                                             \n",
       "Rahma  celibataire       04/02/2017  2275.281714\n",
       "Salem  celibataire       21/11/2017  1665.460000\n",
       "Sonia        marie       30/11/2005  3201.662000\n",
       "Mehdi        marie       07/07/2000  3241.277571\n",
       "Sameh        marie       19/02/1999  3100.330000\n",
       "Salma        marie       03/02/2010  2841.476000\n",
       "Ali    celibataire       20/10/2018  1301.235000\n",
       "Saleh  celibataire       01/01/2017  1451.776000"
      ]
     },
     "execution_count": 238,
     "metadata": {},
     "output_type": "execute_result"
    }
   ],
   "source": [
    "X_train_.fillna({'salaire':X_train.salaire.mean(),'prime':X_train.prime.mean()},inplace=True)\n",
    "X_train_['revenue']=X_train_.salaire+X_train_.prime\n",
    "X_train_.drop(['salaire','prime'],axis=1,inplace=True)\n",
    "X_train_\n"
   ]
  },
  {
   "cell_type": "code",
   "execution_count": 239,
   "metadata": {
    "scrolled": true
   },
   "outputs": [
    {
     "name": "stderr",
     "output_type": "stream",
     "text": [
      "C:\\Users\\Bennour\\AppData\\Local\\Temp\\ipykernel_15696\\2425416908.py:4: UserWarning: Parsing '21/11/2017' in DD/MM/YYYY format. Provide format or specify infer_datetime_format=True for consistent parsing.\n",
      "  X_train_['date recrutement']=pd.to_datetime(X_train_['date recrutement'])\n",
      "C:\\Users\\Bennour\\AppData\\Local\\Temp\\ipykernel_15696\\2425416908.py:4: UserWarning: Parsing '30/11/2005' in DD/MM/YYYY format. Provide format or specify infer_datetime_format=True for consistent parsing.\n",
      "  X_train_['date recrutement']=pd.to_datetime(X_train_['date recrutement'])\n",
      "C:\\Users\\Bennour\\AppData\\Local\\Temp\\ipykernel_15696\\2425416908.py:4: UserWarning: Parsing '19/02/1999' in DD/MM/YYYY format. Provide format or specify infer_datetime_format=True for consistent parsing.\n",
      "  X_train_['date recrutement']=pd.to_datetime(X_train_['date recrutement'])\n",
      "C:\\Users\\Bennour\\AppData\\Local\\Temp\\ipykernel_15696\\2425416908.py:4: UserWarning: Parsing '20/10/2018' in DD/MM/YYYY format. Provide format or specify infer_datetime_format=True for consistent parsing.\n",
      "  X_train_['date recrutement']=pd.to_datetime(X_train_['date recrutement'])\n"
     ]
    }
   ],
   "source": [
    "#Date\n",
    "from datetime import datetime\n",
    "\n",
    "X_train_['date recrutement']=pd.to_datetime(X_train_['date recrutement'])\n",
    "X_train_['anciennete']=X_train_['date recrutement'].apply(lambda date : datetime.now().year - date.year)\n",
    "X_train_.drop('date recrutement',axis = 1, errors = 'ignore',inplace = True)\n",
    "\n"
   ]
  },
  {
   "cell_type": "code",
   "execution_count": 240,
   "metadata": {},
   "outputs": [
    {
     "data": {
      "text/html": [
       "<div>\n",
       "<style scoped>\n",
       "    .dataframe tbody tr th:only-of-type {\n",
       "        vertical-align: middle;\n",
       "    }\n",
       "\n",
       "    .dataframe tbody tr th {\n",
       "        vertical-align: top;\n",
       "    }\n",
       "\n",
       "    .dataframe thead th {\n",
       "        text-align: right;\n",
       "    }\n",
       "</style>\n",
       "<table border=\"1\" class=\"dataframe\">\n",
       "  <thead>\n",
       "    <tr style=\"text-align: right;\">\n",
       "      <th></th>\n",
       "      <th>etat civil</th>\n",
       "      <th>revenue</th>\n",
       "      <th>anciennete</th>\n",
       "    </tr>\n",
       "    <tr>\n",
       "      <th>nom</th>\n",
       "      <th></th>\n",
       "      <th></th>\n",
       "      <th></th>\n",
       "    </tr>\n",
       "  </thead>\n",
       "  <tbody>\n",
       "    <tr>\n",
       "      <th>Rahma</th>\n",
       "      <td>celibataire</td>\n",
       "      <td>2275.281714</td>\n",
       "      <td>5</td>\n",
       "    </tr>\n",
       "    <tr>\n",
       "      <th>Salem</th>\n",
       "      <td>celibataire</td>\n",
       "      <td>1665.460000</td>\n",
       "      <td>5</td>\n",
       "    </tr>\n",
       "    <tr>\n",
       "      <th>Sonia</th>\n",
       "      <td>marie</td>\n",
       "      <td>3201.662000</td>\n",
       "      <td>17</td>\n",
       "    </tr>\n",
       "    <tr>\n",
       "      <th>Mehdi</th>\n",
       "      <td>marie</td>\n",
       "      <td>3241.277571</td>\n",
       "      <td>22</td>\n",
       "    </tr>\n",
       "    <tr>\n",
       "      <th>Sameh</th>\n",
       "      <td>marie</td>\n",
       "      <td>3100.330000</td>\n",
       "      <td>23</td>\n",
       "    </tr>\n",
       "    <tr>\n",
       "      <th>Salma</th>\n",
       "      <td>marie</td>\n",
       "      <td>2841.476000</td>\n",
       "      <td>12</td>\n",
       "    </tr>\n",
       "    <tr>\n",
       "      <th>Ali</th>\n",
       "      <td>celibataire</td>\n",
       "      <td>1301.235000</td>\n",
       "      <td>4</td>\n",
       "    </tr>\n",
       "    <tr>\n",
       "      <th>Saleh</th>\n",
       "      <td>celibataire</td>\n",
       "      <td>1451.776000</td>\n",
       "      <td>5</td>\n",
       "    </tr>\n",
       "  </tbody>\n",
       "</table>\n",
       "</div>"
      ],
      "text/plain": [
       "        etat civil      revenue  anciennete\n",
       "nom                                        \n",
       "Rahma  celibataire  2275.281714           5\n",
       "Salem  celibataire  1665.460000           5\n",
       "Sonia        marie  3201.662000          17\n",
       "Mehdi        marie  3241.277571          22\n",
       "Sameh        marie  3100.330000          23\n",
       "Salma        marie  2841.476000          12\n",
       "Ali    celibataire  1301.235000           4\n",
       "Saleh  celibataire  1451.776000           5"
      ]
     },
     "execution_count": 240,
     "metadata": {},
     "output_type": "execute_result"
    }
   ],
   "source": [
    "X_train_"
   ]
  },
  {
   "cell_type": "markdown",
   "metadata": {
    "id": "ObeBf3iCOWC-"
   },
   "source": [
    "**2.5. Post-traitement des données d'apprentissage**"
   ]
  },
  {
   "cell_type": "markdown",
   "metadata": {
    "id": "0j9IcWxvOiXX"
   },
   "source": [
    "Normalisation des données d'apprentissage d'entrée \n",
    "\n",
    "La normalisation de X_train_ donne lieu à X_train_ss"
   ]
  },
  {
   "cell_type": "code",
   "execution_count": 241,
   "metadata": {
    "id": "RVghJRZZ_UoO"
   },
   "outputs": [
    {
     "data": {
      "text/plain": [
       "[array(['celibataire', 'marie'], dtype=object)]"
      ]
     },
     "execution_count": 241,
     "metadata": {},
     "output_type": "execute_result"
    }
   ],
   "source": [
    "from sklearn.preprocessing import OneHotEncoder\n",
    "ohe = OneHotEncoder()\n",
    "ohe.fit(X_train_[['etat civil']])\n",
    "ohe.categories_"
   ]
  },
  {
   "cell_type": "code",
   "execution_count": 242,
   "metadata": {},
   "outputs": [
    {
     "data": {
      "text/html": [
       "<div>\n",
       "<style scoped>\n",
       "    .dataframe tbody tr th:only-of-type {\n",
       "        vertical-align: middle;\n",
       "    }\n",
       "\n",
       "    .dataframe tbody tr th {\n",
       "        vertical-align: top;\n",
       "    }\n",
       "\n",
       "    .dataframe thead th {\n",
       "        text-align: right;\n",
       "    }\n",
       "</style>\n",
       "<table border=\"1\" class=\"dataframe\">\n",
       "  <thead>\n",
       "    <tr style=\"text-align: right;\">\n",
       "      <th></th>\n",
       "      <th>revenue</th>\n",
       "      <th>anciennete</th>\n",
       "      <th>Etat Civil celib</th>\n",
       "      <th>Etat Civil Marie</th>\n",
       "    </tr>\n",
       "    <tr>\n",
       "      <th>nom</th>\n",
       "      <th></th>\n",
       "      <th></th>\n",
       "      <th></th>\n",
       "      <th></th>\n",
       "    </tr>\n",
       "  </thead>\n",
       "  <tbody>\n",
       "    <tr>\n",
       "      <th>Rahma</th>\n",
       "      <td>2275.281714</td>\n",
       "      <td>5</td>\n",
       "      <td>1.0</td>\n",
       "      <td>0.0</td>\n",
       "    </tr>\n",
       "    <tr>\n",
       "      <th>Salem</th>\n",
       "      <td>1665.460000</td>\n",
       "      <td>5</td>\n",
       "      <td>1.0</td>\n",
       "      <td>0.0</td>\n",
       "    </tr>\n",
       "    <tr>\n",
       "      <th>Sonia</th>\n",
       "      <td>3201.662000</td>\n",
       "      <td>17</td>\n",
       "      <td>0.0</td>\n",
       "      <td>1.0</td>\n",
       "    </tr>\n",
       "    <tr>\n",
       "      <th>Mehdi</th>\n",
       "      <td>3241.277571</td>\n",
       "      <td>22</td>\n",
       "      <td>0.0</td>\n",
       "      <td>1.0</td>\n",
       "    </tr>\n",
       "    <tr>\n",
       "      <th>Sameh</th>\n",
       "      <td>3100.330000</td>\n",
       "      <td>23</td>\n",
       "      <td>0.0</td>\n",
       "      <td>1.0</td>\n",
       "    </tr>\n",
       "    <tr>\n",
       "      <th>Salma</th>\n",
       "      <td>2841.476000</td>\n",
       "      <td>12</td>\n",
       "      <td>0.0</td>\n",
       "      <td>1.0</td>\n",
       "    </tr>\n",
       "    <tr>\n",
       "      <th>Ali</th>\n",
       "      <td>1301.235000</td>\n",
       "      <td>4</td>\n",
       "      <td>1.0</td>\n",
       "      <td>0.0</td>\n",
       "    </tr>\n",
       "    <tr>\n",
       "      <th>Saleh</th>\n",
       "      <td>1451.776000</td>\n",
       "      <td>5</td>\n",
       "      <td>1.0</td>\n",
       "      <td>0.0</td>\n",
       "    </tr>\n",
       "  </tbody>\n",
       "</table>\n",
       "</div>"
      ],
      "text/plain": [
       "           revenue  anciennete  Etat Civil celib  Etat Civil Marie\n",
       "nom                                                               \n",
       "Rahma  2275.281714           5               1.0               0.0\n",
       "Salem  1665.460000           5               1.0               0.0\n",
       "Sonia  3201.662000          17               0.0               1.0\n",
       "Mehdi  3241.277571          22               0.0               1.0\n",
       "Sameh  3100.330000          23               0.0               1.0\n",
       "Salma  2841.476000          12               0.0               1.0\n",
       "Ali    1301.235000           4               1.0               0.0\n",
       "Saleh  1451.776000           5               1.0               0.0"
      ]
     },
     "execution_count": 242,
     "metadata": {},
     "output_type": "execute_result"
    }
   ],
   "source": [
    "etat_civil_sparse = ohe.transform(X_train_[['etat civil']])\n",
    "\n",
    "etat_civil = etat_civil_sparse.toarray()\n",
    "df_etat_civil = pd.DataFrame(etat_civil,index = X_train_.index, columns=  ['Etat Civil celib','Etat Civil Marie'])\n",
    "X_train_ss = pd.concat([X_train_,df_etat_civil],axis=1)\n",
    "X_train_ss.drop(['etat civil'],axis=1,inplace = True)\n",
    "X_train_ss\n"
   ]
  },
  {
   "cell_type": "markdown",
   "metadata": {
    "id": "MThEQvpaOl4L"
   },
   "source": [
    "Réduction de dimension des données d'apprentissage d'entrée\n",
    "\n",
    "La réduction de dimension de X_train_ss donne lieu à X_train_pca"
   ]
  },
  {
   "cell_type": "code",
   "execution_count": 243,
   "metadata": {
    "id": "66ku7VJe_ZcF"
   },
   "outputs": [],
   "source": [
    "#Normalisation\n",
    "from sklearn.preprocessing import StandardScaler"
   ]
  },
  {
   "cell_type": "code",
   "execution_count": 244,
   "metadata": {},
   "outputs": [
    {
     "data": {
      "text/plain": [
       "array([[-0.14296903, -0.87762298,  1.        , -1.        ],\n",
       "       [-0.93896252, -0.87762298,  1.        , -1.        ],\n",
       "       [ 1.06622483,  0.71203374, -1.        ,  1.        ],\n",
       "       [ 1.11793459,  1.37439071, -1.        ,  1.        ],\n",
       "       [ 0.9339573 ,  1.5068621 , -1.        ,  1.        ],\n",
       "       [ 0.59607806,  0.04967677, -1.        ,  1.        ],\n",
       "       [-1.41438135, -1.01009438,  1.        , -1.        ],\n",
       "       [-1.21788186, -0.87762298,  1.        , -1.        ]])"
      ]
     },
     "execution_count": 244,
     "metadata": {},
     "output_type": "execute_result"
    }
   ],
   "source": [
    "ss = StandardScaler()\n",
    "ss.fit(X_train_ss)\n",
    "X_ss = ss.transform(X_train_ss)\n",
    "X_ss"
   ]
  },
  {
   "cell_type": "code",
   "execution_count": 245,
   "metadata": {},
   "outputs": [
    {
     "data": {
      "text/plain": [
       "array([[-1.51517016, -0.04665103],\n",
       "       [-1.90952485, -0.07392776],\n",
       "       [ 1.89134777,  0.21667012],\n",
       "       [ 2.24186986, -0.33508349],\n",
       "       [ 2.21570376, -0.45209305],\n",
       "       [ 1.33352172,  0.75408492],\n",
       "       [-2.21003977,  0.02048593],\n",
       "       [-2.04770834, -0.08348564]])"
      ]
     },
     "execution_count": 245,
     "metadata": {},
     "output_type": "execute_result"
    }
   ],
   "source": [
    "from sklearn.decomposition import  PCA\n",
    "pca=PCA(n_components=2)\n",
    "pca.fit(X_ss)\n",
    "X_train_pca=pca.transform(X_ss)\n",
    "X_train_pca"
   ]
  },
  {
   "cell_type": "markdown",
   "metadata": {
    "id": "mep8UlCNctvb"
   },
   "source": [
    "**2.6. Apprentissage avec KNN**"
   ]
  },
  {
   "cell_type": "markdown",
   "metadata": {
    "id": "wgPJJDi2JLlK"
   },
   "source": [
    "Pour appliquer KNN, importer la classe KNeighborsClassifier du module sklearn.neighbors.\n",
    "\n",
    "Créer une instance et précisier l'hyperparamètre n_neighbors=2\n",
    "\n",
    "Appeler la fonction fit() et passer X_train_pca et y_train"
   ]
  },
  {
   "cell_type": "code",
   "execution_count": 246,
   "metadata": {
    "id": "tOcBPqaxcwc1"
   },
   "outputs": [
    {
     "data": {
      "text/plain": [
       "KNeighborsClassifier(n_neighbors=2)"
      ]
     },
     "execution_count": 246,
     "metadata": {},
     "output_type": "execute_result"
    }
   ],
   "source": [
    "from sklearn.neighbors import KNeighborsClassifier\n",
    "neigh = KNeighborsClassifier(n_neighbors=2)\n",
    "neigh.fit(X_train_pca, Y_train)"
   ]
  },
  {
   "cell_type": "markdown",
   "metadata": {
    "id": "JLhAep77cw-a"
   },
   "source": [
    "**2.7. Traitement des données de test**"
   ]
  },
  {
   "cell_type": "markdown",
   "metadata": {
    "id": "Bf36-JIHTpVy"
   },
   "source": [
    "Appliquer le même traitement fait sur les données d'apprentissage d'entrée (transformation en format numérique et  post-traitement)"
   ]
  },
  {
   "cell_type": "code",
   "execution_count": 247,
   "metadata": {
    "id": "De7lRwpgc47z"
   },
   "outputs": [
    {
     "data": {
      "text/html": [
       "<div>\n",
       "<style scoped>\n",
       "    .dataframe tbody tr th:only-of-type {\n",
       "        vertical-align: middle;\n",
       "    }\n",
       "\n",
       "    .dataframe tbody tr th {\n",
       "        vertical-align: top;\n",
       "    }\n",
       "\n",
       "    .dataframe thead th {\n",
       "        text-align: right;\n",
       "    }\n",
       "</style>\n",
       "<table border=\"1\" class=\"dataframe\">\n",
       "  <thead>\n",
       "    <tr style=\"text-align: right;\">\n",
       "      <th></th>\n",
       "      <th>etat civil</th>\n",
       "      <th>date recrutement</th>\n",
       "      <th>revenue</th>\n",
       "    </tr>\n",
       "    <tr>\n",
       "      <th>nom</th>\n",
       "      <th></th>\n",
       "      <th></th>\n",
       "      <th></th>\n",
       "    </tr>\n",
       "  </thead>\n",
       "  <tbody>\n",
       "    <tr>\n",
       "      <th>Ameni</th>\n",
       "      <td>celibataire</td>\n",
       "      <td>11/05/2019</td>\n",
       "      <td>1231.530</td>\n",
       "    </tr>\n",
       "    <tr>\n",
       "      <th>Moufida</th>\n",
       "      <td>marie</td>\n",
       "      <td>09/12/1991</td>\n",
       "      <td>4200.440</td>\n",
       "    </tr>\n",
       "    <tr>\n",
       "      <th>Ahmed</th>\n",
       "      <td>marie</td>\n",
       "      <td>09/09/2004</td>\n",
       "      <td>3416.195</td>\n",
       "    </tr>\n",
       "    <tr>\n",
       "      <th>Wajdi</th>\n",
       "      <td>celibataire</td>\n",
       "      <td>27/11/2015</td>\n",
       "      <td>1516.415</td>\n",
       "    </tr>\n",
       "  </tbody>\n",
       "</table>\n",
       "</div>"
      ],
      "text/plain": [
       "          etat civil date recrutement   revenue\n",
       "nom                                            \n",
       "Ameni    celibataire       11/05/2019  1231.530\n",
       "Moufida        marie       09/12/1991  4200.440\n",
       "Ahmed          marie       09/09/2004  3416.195\n",
       "Wajdi    celibataire       27/11/2015  1516.415"
      ]
     },
     "execution_count": 247,
     "metadata": {},
     "output_type": "execute_result"
    }
   ],
   "source": [
    "# Transformation des données de test\n",
    "# Créer une copie des données d'entrée d'apprentissage (X_train) en X_\n",
    "X_test_=X_test.copy()\n",
    "# ...\n",
    "X_test_.fillna({'salaire':X_test_.salaire.mean(),'prime':X_test_.prime.mean()},inplace=True)\n",
    "X_test_['revenue']=X_test_.salaire+X_test_.prime\n",
    "X_test_.drop(['salaire','prime'],axis=1,inplace=True)\n",
    "X_test_\n"
   ]
  },
  {
   "cell_type": "code",
   "execution_count": 248,
   "metadata": {},
   "outputs": [
    {
     "name": "stderr",
     "output_type": "stream",
     "text": [
      "C:\\Users\\Bennour\\AppData\\Local\\Temp\\ipykernel_15696\\2464803886.py:1: UserWarning: Parsing '27/11/2015' in DD/MM/YYYY format. Provide format or specify infer_datetime_format=True for consistent parsing.\n",
      "  X_test_['date recrutement']=pd.to_datetime(X_test_['date recrutement'])\n"
     ]
    },
    {
     "data": {
      "text/html": [
       "<div>\n",
       "<style scoped>\n",
       "    .dataframe tbody tr th:only-of-type {\n",
       "        vertical-align: middle;\n",
       "    }\n",
       "\n",
       "    .dataframe tbody tr th {\n",
       "        vertical-align: top;\n",
       "    }\n",
       "\n",
       "    .dataframe thead th {\n",
       "        text-align: right;\n",
       "    }\n",
       "</style>\n",
       "<table border=\"1\" class=\"dataframe\">\n",
       "  <thead>\n",
       "    <tr style=\"text-align: right;\">\n",
       "      <th></th>\n",
       "      <th>etat civil</th>\n",
       "      <th>revenue</th>\n",
       "      <th>anciennete</th>\n",
       "    </tr>\n",
       "    <tr>\n",
       "      <th>nom</th>\n",
       "      <th></th>\n",
       "      <th></th>\n",
       "      <th></th>\n",
       "    </tr>\n",
       "  </thead>\n",
       "  <tbody>\n",
       "    <tr>\n",
       "      <th>Ameni</th>\n",
       "      <td>celibataire</td>\n",
       "      <td>1231.530</td>\n",
       "      <td>3</td>\n",
       "    </tr>\n",
       "    <tr>\n",
       "      <th>Moufida</th>\n",
       "      <td>marie</td>\n",
       "      <td>4200.440</td>\n",
       "      <td>31</td>\n",
       "    </tr>\n",
       "    <tr>\n",
       "      <th>Ahmed</th>\n",
       "      <td>marie</td>\n",
       "      <td>3416.195</td>\n",
       "      <td>18</td>\n",
       "    </tr>\n",
       "    <tr>\n",
       "      <th>Wajdi</th>\n",
       "      <td>celibataire</td>\n",
       "      <td>1516.415</td>\n",
       "      <td>7</td>\n",
       "    </tr>\n",
       "  </tbody>\n",
       "</table>\n",
       "</div>"
      ],
      "text/plain": [
       "          etat civil   revenue  anciennete\n",
       "nom                                       \n",
       "Ameni    celibataire  1231.530           3\n",
       "Moufida        marie  4200.440          31\n",
       "Ahmed          marie  3416.195          18\n",
       "Wajdi    celibataire  1516.415           7"
      ]
     },
     "execution_count": 248,
     "metadata": {},
     "output_type": "execute_result"
    }
   ],
   "source": [
    "X_test_['date recrutement']=pd.to_datetime(X_test_['date recrutement'])\n",
    "X_test_['anciennete']=X_test_['date recrutement'].apply(lambda date : datetime.now().year - date.year)\n",
    "X_test_.drop('date recrutement',axis = 1, errors = 'ignore',inplace = True)\n",
    "X_test_\n"
   ]
  },
  {
   "cell_type": "markdown",
   "metadata": {
    "id": "VCP3wBQzMmXv"
   },
   "source": [
    "Normaliser et réduire la dimension des données de test"
   ]
  },
  {
   "cell_type": "code",
   "execution_count": 249,
   "metadata": {},
   "outputs": [
    {
     "data": {
      "text/html": [
       "<div>\n",
       "<style scoped>\n",
       "    .dataframe tbody tr th:only-of-type {\n",
       "        vertical-align: middle;\n",
       "    }\n",
       "\n",
       "    .dataframe tbody tr th {\n",
       "        vertical-align: top;\n",
       "    }\n",
       "\n",
       "    .dataframe thead th {\n",
       "        text-align: right;\n",
       "    }\n",
       "</style>\n",
       "<table border=\"1\" class=\"dataframe\">\n",
       "  <thead>\n",
       "    <tr style=\"text-align: right;\">\n",
       "      <th></th>\n",
       "      <th>revenue</th>\n",
       "      <th>anciennete</th>\n",
       "      <th>Etat Civil celib</th>\n",
       "      <th>Etat Civil Marie</th>\n",
       "    </tr>\n",
       "    <tr>\n",
       "      <th>nom</th>\n",
       "      <th></th>\n",
       "      <th></th>\n",
       "      <th></th>\n",
       "      <th></th>\n",
       "    </tr>\n",
       "  </thead>\n",
       "  <tbody>\n",
       "    <tr>\n",
       "      <th>Ameni</th>\n",
       "      <td>1231.530</td>\n",
       "      <td>3</td>\n",
       "      <td>1.0</td>\n",
       "      <td>0.0</td>\n",
       "    </tr>\n",
       "    <tr>\n",
       "      <th>Moufida</th>\n",
       "      <td>4200.440</td>\n",
       "      <td>31</td>\n",
       "      <td>0.0</td>\n",
       "      <td>1.0</td>\n",
       "    </tr>\n",
       "    <tr>\n",
       "      <th>Ahmed</th>\n",
       "      <td>3416.195</td>\n",
       "      <td>18</td>\n",
       "      <td>0.0</td>\n",
       "      <td>1.0</td>\n",
       "    </tr>\n",
       "    <tr>\n",
       "      <th>Wajdi</th>\n",
       "      <td>1516.415</td>\n",
       "      <td>7</td>\n",
       "      <td>1.0</td>\n",
       "      <td>0.0</td>\n",
       "    </tr>\n",
       "  </tbody>\n",
       "</table>\n",
       "</div>"
      ],
      "text/plain": [
       "          revenue  anciennete  Etat Civil celib  Etat Civil Marie\n",
       "nom                                                              \n",
       "Ameni    1231.530           3               1.0               0.0\n",
       "Moufida  4200.440          31               0.0               1.0\n",
       "Ahmed    3416.195          18               0.0               1.0\n",
       "Wajdi    1516.415           7               1.0               0.0"
      ]
     },
     "execution_count": 249,
     "metadata": {},
     "output_type": "execute_result"
    }
   ],
   "source": [
    "etat_civil_sparse = ohe.transform(X_test_[['etat civil']])\n",
    "\n",
    "etat_civil = etat_civil_sparse.toarray()\n",
    "df_etat_civil = pd.DataFrame(etat_civil,index = X_test_.index, columns=  ['Etat Civil celib','Etat Civil Marie'])\n",
    "X_test_ss = pd.concat([X_test_,df_etat_civil],axis=1)\n",
    "X_test_ss.drop(['etat civil'],axis=1,inplace = True)\n",
    "X_test_ss\n"
   ]
  },
  {
   "cell_type": "code",
   "execution_count": 250,
   "metadata": {},
   "outputs": [
    {
     "data": {
      "text/plain": [
       "array([[-1.08559791, -1.08081682,  1.        , -1.        ],\n",
       "       [ 1.28495735,  1.49474666, -1.        ,  1.        ],\n",
       "       [ 0.65876925,  0.29894933, -1.        ,  1.        ],\n",
       "       [-0.85812869, -0.71287918,  1.        , -1.        ]])"
      ]
     },
     "execution_count": 250,
     "metadata": {},
     "output_type": "execute_result"
    }
   ],
   "source": [
    "ss.fit(X_test_ss)\n",
    "X_t_ss = ss.transform(X_test_ss)\n",
    "X_t_ss"
   ]
  },
  {
   "cell_type": "code",
   "execution_count": 251,
   "metadata": {},
   "outputs": [
    {
     "data": {
      "text/plain": [
       "array([[-2.08275399,  0.09297904],\n",
       "       [ 2.38620253, -0.43749584],\n",
       "       [ 1.4840388 ,  0.5665324 ],\n",
       "       [-1.78748735, -0.22201561]])"
      ]
     },
     "execution_count": 251,
     "metadata": {},
     "output_type": "execute_result"
    }
   ],
   "source": [
    "pca=PCA(n_components=2)\n",
    "pca.fit(X_t_ss)\n",
    "X_test_pca=pca.transform(X_t_ss)\n",
    "X_test_pca"
   ]
  },
  {
   "cell_type": "code",
   "execution_count": 252,
   "metadata": {
    "id": "lkuC7UtsdTbj"
   },
   "outputs": [
    {
     "data": {
      "text/plain": [
       "array([[-2.08275399,  0.09297904],\n",
       "       [ 2.38620253, -0.43749584],\n",
       "       [ 1.4840388 ,  0.5665324 ],\n",
       "       [-1.78748735, -0.22201561]])"
      ]
     },
     "execution_count": 252,
     "metadata": {},
     "output_type": "execute_result"
    }
   ],
   "source": [
    "#\n",
    "X_test_pca"
   ]
  },
  {
   "cell_type": "markdown",
   "metadata": {
    "id": "YetGDdtrc1WD"
   },
   "source": [
    "**2.8. Evaluation de classifieur avec les données de test**"
   ]
  },
  {
   "cell_type": "markdown",
   "metadata": {
    "id": "9ThfYVXOUHmi"
   },
   "source": [
    "Prédiction des données de test"
   ]
  },
  {
   "cell_type": "code",
   "execution_count": 253,
   "metadata": {},
   "outputs": [
    {
     "name": "stdout",
     "output_type": "stream",
     "text": [
      "nom\n",
      "Ameni      junior\n",
      "Moufida    senior\n",
      "Ahmed      senior\n",
      "Wajdi      junior\n",
      "Name: classe, dtype: object\n",
      "['junior' 'senior' 'senior' 'junior']\n"
     ]
    }
   ],
   "source": [
    "y_test_predicted=neigh.predict(X_test_pca)\n",
    "print(Y_test)\n",
    "print(y_test_predicted)"
   ]
  },
  {
   "cell_type": "code",
   "execution_count": 254,
   "metadata": {
    "colab": {
     "base_uri": "https://localhost:8080/"
    },
    "id": "TpPVDvio2mrT",
    "outputId": "acae6449-88f7-4495-9677-e9ea29cea708"
   },
   "outputs": [
    {
     "data": {
      "text/plain": [
       "array(['junior', 'senior', 'senior', 'junior'], dtype=object)"
      ]
     },
     "execution_count": 254,
     "metadata": {},
     "output_type": "execute_result"
    }
   ],
   "source": [
    "#\n",
    "y_test_predicted"
   ]
  },
  {
   "cell_type": "code",
   "execution_count": 255,
   "metadata": {},
   "outputs": [
    {
     "data": {
      "text/plain": [
       "nom\n",
       "Ameni      True\n",
       "Moufida    True\n",
       "Ahmed      True\n",
       "Wajdi      True\n",
       "Name: classe, dtype: bool"
      ]
     },
     "execution_count": 255,
     "metadata": {},
     "output_type": "execute_result"
    }
   ],
   "source": [
    "Y_test == y_test_predicted"
   ]
  },
  {
   "cell_type": "markdown",
   "metadata": {
    "id": "VNNbS3uyUpd6"
   },
   "source": [
    "Score d'accuracy"
   ]
  },
  {
   "cell_type": "code",
   "execution_count": 256,
   "metadata": {
    "colab": {
     "base_uri": "https://localhost:8080/"
    },
    "id": "5j8kufE63W0i",
    "outputId": "8fb3e827-2fe8-46bc-d678-3d99a143bb42"
   },
   "outputs": [],
   "source": [
    "#"
   ]
  },
  {
   "cell_type": "markdown",
   "metadata": {
    "id": "FHMmCe-0Ur2D"
   },
   "source": [
    "Matrice de confusion"
   ]
  },
  {
   "cell_type": "code",
   "execution_count": 257,
   "metadata": {
    "colab": {
     "base_uri": "https://localhost:8080/"
    },
    "id": "mbHlKTTXocz5",
    "outputId": "f17abb2e-6431-4a46-feb4-a4fc10f3e632"
   },
   "outputs": [],
   "source": [
    "#"
   ]
  },
  {
   "cell_type": "markdown",
   "metadata": {
    "id": "_-m8ScPvU4fb"
   },
   "source": [
    "Rappel et pércision"
   ]
  },
  {
   "cell_type": "code",
   "execution_count": 258,
   "metadata": {
    "id": "8HbGZhKmU3Ox"
   },
   "outputs": [],
   "source": [
    "#"
   ]
  },
  {
   "cell_type": "markdown",
   "metadata": {
    "id": "2ycUbwFJU0B1"
   },
   "source": [
    "**2.9. Visualisation des données**"
   ]
  },
  {
   "cell_type": "code",
   "execution_count": 259,
   "metadata": {
    "id": "vsFLj5ktVCi8"
   },
   "outputs": [
    {
     "ename": "SyntaxError",
     "evalue": "invalid syntax (4141212160.py, line 1)",
     "output_type": "error",
     "traceback": [
      "\u001b[1;36m  Input \u001b[1;32mIn [259]\u001b[1;36m\u001b[0m\n\u001b[1;33m    classe_junior=#\u001b[0m\n\u001b[1;37m                  ^\u001b[0m\n\u001b[1;31mSyntaxError\u001b[0m\u001b[1;31m:\u001b[0m invalid syntax\n"
     ]
    }
   ],
   "source": [
    "classe_junior=#\n",
    "classe_senior=#"
   ]
  },
  {
   "cell_type": "code",
   "execution_count": null,
   "metadata": {
    "id": "hvqS-2EyU31c"
   },
   "outputs": [],
   "source": [
    "#"
   ]
  }
 ],
 "metadata": {
  "colab": {
   "collapsed_sections": [],
   "provenance": []
  },
  "kernelspec": {
   "display_name": "Python 3 (ipykernel)",
   "language": "python",
   "name": "python3"
  },
  "language_info": {
   "codemirror_mode": {
    "name": "ipython",
    "version": 3
   },
   "file_extension": ".py",
   "mimetype": "text/x-python",
   "name": "python",
   "nbconvert_exporter": "python",
   "pygments_lexer": "ipython3",
   "version": "3.9.13"
  },
  "vscode": {
   "interpreter": {
    "hash": "bd867c258d7fc990e18c6055f735eceffa830184726bec9351b690317c222042"
   }
  }
 },
 "nbformat": 4,
 "nbformat_minor": 1
}
