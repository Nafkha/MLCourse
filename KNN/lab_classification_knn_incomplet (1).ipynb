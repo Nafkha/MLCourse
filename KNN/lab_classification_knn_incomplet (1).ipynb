{
 "cells": [
  {
   "cell_type": "markdown",
   "metadata": {
    "id": "G81W2Oez6jDL"
   },
   "source": [
    "**1. Classification avec KNN**"
   ]
  },
  {
   "cell_type": "markdown",
   "metadata": {
    "id": "GjswqJ4c1AMD"
   },
   "source": [
    "**2. Classification des données réelles (tabulaires)**"
   ]
  },
  {
   "cell_type": "markdown",
   "metadata": {
    "id": "q68rLXsacI9C"
   },
   "source": [
    "**2.1. Charger les données employes2.csv à partir de Google Drive**"
   ]
  },
  {
   "cell_type": "code",
   "execution_count": 162,
   "metadata": {
    "colab": {
     "base_uri": "https://localhost:8080/"
    },
    "id": "1rZr7UpJ1tL0",
    "outputId": "aaf9b907-d06c-46d6-bba1-95409f4ff5e4"
   },
   "outputs": [],
   "source": [
    "df_employees = pd.read_csv('employes2.csv',index_col=0)"
   ]
  },
  {
   "cell_type": "code",
   "execution_count": 163,
   "metadata": {},
   "outputs": [
    {
     "data": {
      "text/html": [
       "<div>\n",
       "<style scoped>\n",
       "    .dataframe tbody tr th:only-of-type {\n",
       "        vertical-align: middle;\n",
       "    }\n",
       "\n",
       "    .dataframe tbody tr th {\n",
       "        vertical-align: top;\n",
       "    }\n",
       "\n",
       "    .dataframe thead th {\n",
       "        text-align: right;\n",
       "    }\n",
       "</style>\n",
       "<table border=\"1\" class=\"dataframe\">\n",
       "  <thead>\n",
       "    <tr style=\"text-align: right;\">\n",
       "      <th></th>\n",
       "      <th>salaire</th>\n",
       "      <th>prime</th>\n",
       "      <th>etat civil</th>\n",
       "      <th>date recrutement</th>\n",
       "      <th>classe</th>\n",
       "    </tr>\n",
       "    <tr>\n",
       "      <th>nom</th>\n",
       "      <th></th>\n",
       "      <th></th>\n",
       "      <th></th>\n",
       "      <th></th>\n",
       "      <th></th>\n",
       "    </tr>\n",
       "  </thead>\n",
       "  <tbody>\n",
       "    <tr>\n",
       "      <th>Ali</th>\n",
       "      <td>1200.675</td>\n",
       "      <td>100.560</td>\n",
       "      <td>celibataire</td>\n",
       "      <td>20/10/2018</td>\n",
       "      <td>junior</td>\n",
       "    </tr>\n",
       "    <tr>\n",
       "      <th>Sonia</th>\n",
       "      <td>2800.786</td>\n",
       "      <td>400.876</td>\n",
       "      <td>marie</td>\n",
       "      <td>30/11/2005</td>\n",
       "      <td>senior</td>\n",
       "    </tr>\n",
       "    <tr>\n",
       "      <th>Rahma</th>\n",
       "      <td>NaN</td>\n",
       "      <td>130.987</td>\n",
       "      <td>celibataire</td>\n",
       "      <td>04/02/2017</td>\n",
       "      <td>junior</td>\n",
       "    </tr>\n",
       "    <tr>\n",
       "      <th>Salma</th>\n",
       "      <td>2500.876</td>\n",
       "      <td>340.600</td>\n",
       "      <td>marie</td>\n",
       "      <td>03/02/2010</td>\n",
       "      <td>senior</td>\n",
       "    </tr>\n",
       "    <tr>\n",
       "      <th>Ahmed</th>\n",
       "      <td>3100.760</td>\n",
       "      <td>NaN</td>\n",
       "      <td>marie</td>\n",
       "      <td>09/09/2004</td>\n",
       "      <td>senior</td>\n",
       "    </tr>\n",
       "    <tr>\n",
       "      <th>Saleh</th>\n",
       "      <td>1300.876</td>\n",
       "      <td>150.900</td>\n",
       "      <td>celibataire</td>\n",
       "      <td>01/01/2017</td>\n",
       "      <td>junior</td>\n",
       "    </tr>\n",
       "    <tr>\n",
       "      <th>Ameni</th>\n",
       "      <td>1100.660</td>\n",
       "      <td>130.870</td>\n",
       "      <td>celibataire</td>\n",
       "      <td>11/05/2019</td>\n",
       "      <td>junior</td>\n",
       "    </tr>\n",
       "    <tr>\n",
       "      <th>Mehdi</th>\n",
       "      <td>3000.760</td>\n",
       "      <td>NaN</td>\n",
       "      <td>marie</td>\n",
       "      <td>07/07/2000</td>\n",
       "      <td>senior</td>\n",
       "    </tr>\n",
       "    <tr>\n",
       "      <th>Salem</th>\n",
       "      <td>1505.760</td>\n",
       "      <td>159.700</td>\n",
       "      <td>celibataire</td>\n",
       "      <td>21/11/2017</td>\n",
       "      <td>junior</td>\n",
       "    </tr>\n",
       "    <tr>\n",
       "      <th>Sameh</th>\n",
       "      <td>2700.330</td>\n",
       "      <td>400.000</td>\n",
       "      <td>marie</td>\n",
       "      <td>19/02/1999</td>\n",
       "      <td>senior</td>\n",
       "    </tr>\n",
       "    <tr>\n",
       "      <th>Wajdi</th>\n",
       "      <td>1200.980</td>\n",
       "      <td>NaN</td>\n",
       "      <td>celibataire</td>\n",
       "      <td>27/11/2015</td>\n",
       "      <td>junior</td>\n",
       "    </tr>\n",
       "    <tr>\n",
       "      <th>Moufida</th>\n",
       "      <td>3700.440</td>\n",
       "      <td>500.000</td>\n",
       "      <td>marie</td>\n",
       "      <td>09/12/1991</td>\n",
       "      <td>senior</td>\n",
       "    </tr>\n",
       "  </tbody>\n",
       "</table>\n",
       "</div>"
      ],
      "text/plain": [
       "          salaire    prime   etat civil date recrutement  classe\n",
       "nom                                                             \n",
       "Ali      1200.675  100.560  celibataire       20/10/2018  junior\n",
       "Sonia    2800.786  400.876        marie       30/11/2005  senior\n",
       "Rahma         NaN  130.987  celibataire       04/02/2017  junior\n",
       "Salma    2500.876  340.600        marie       03/02/2010  senior\n",
       "Ahmed    3100.760      NaN        marie       09/09/2004  senior\n",
       "Saleh    1300.876  150.900  celibataire       01/01/2017  junior\n",
       "Ameni    1100.660  130.870  celibataire       11/05/2019  junior\n",
       "Mehdi    3000.760      NaN        marie       07/07/2000  senior\n",
       "Salem    1505.760  159.700  celibataire       21/11/2017  junior\n",
       "Sameh    2700.330  400.000        marie       19/02/1999  senior\n",
       "Wajdi    1200.980      NaN  celibataire       27/11/2015  junior\n",
       "Moufida  3700.440  500.000        marie       09/12/1991  senior"
      ]
     },
     "execution_count": 163,
     "metadata": {},
     "output_type": "execute_result"
    }
   ],
   "source": [
    "df_ = df_employees.copy\n",
    "df_employees"
   ]
  },
  {
   "cell_type": "markdown",
   "metadata": {
    "id": "ZHc2wpZycTEL"
   },
   "source": [
    "**2.2. Division des données en entrée et sortie**"
   ]
  },
  {
   "cell_type": "markdown",
   "metadata": {
    "id": "0e2ocB7qNhn4"
   },
   "source": [
    "Données d'entrée X\n",
    "\n",
    "C'est la partie de dataframe composée de toutes les colonnes sauf la dernière colonne 'classe'"
   ]
  },
  {
   "cell_type": "code",
   "execution_count": 164,
   "metadata": {},
   "outputs": [],
   "source": [
    "X = df_employees.iloc[:,:-1]\n",
    "Y = df_employees.iloc[:,-1]\n"
   ]
  },
  {
   "cell_type": "markdown",
   "metadata": {
    "id": "93Gl7Au1NkUs"
   },
   "source": [
    "Données de sortie y\n",
    "\n",
    "C'est la dernière colonne 'classe' de df_employes"
   ]
  },
  {
   "cell_type": "code",
   "execution_count": 165,
   "metadata": {
    "colab": {
     "base_uri": "https://localhost:8080/"
    },
    "id": "nez2XaR31_bz",
    "outputId": "71dcc5a4-b83d-4235-c916-23cf7cf8d5fe"
   },
   "outputs": [],
   "source": [
    "#"
   ]
  },
  {
   "cell_type": "markdown",
   "metadata": {
    "id": "_xDe8P_2caT7"
   },
   "source": [
    "**2.3. Division des données en train**"
   ]
  },
  {
   "cell_type": "markdown",
   "metadata": {
    "id": "R4dT3sFIN6vm"
   },
   "source": [
    "Les données sont divisées en train (60%) et test (40%)\n",
    "\n",
    "Diviser X en X_train et X_test\n",
    "\n",
    "Diviser y en y_train et y_test\n",
    "\n",
    "Note : \n",
    "- Utiliser la fonction train_test_split() du module sklearn.model_selection\n",
    "- Précisier le paramètre train_size = 60% des données\n",
    "- Précisier le paramètre stratify  qui prend y. Il permet de garantir la même répartition entre train et test (en terme des échantillons/classe) \n"
   ]
  },
  {
   "cell_type": "code",
   "execution_count": 166,
   "metadata": {
    "id": "P5T3UegX2Bpe"
   },
   "outputs": [
    {
     "name": "stdout",
     "output_type": "stream",
     "text": [
      "        salaire   prime   etat civil date recrutement\n",
      "nom                                                  \n",
      "Sameh  2700.330  400.00        marie       19/02/1999\n",
      "Salma  2500.876  340.60        marie       03/02/2010\n",
      "Ali    1200.675  100.56  celibataire       20/10/2018\n",
      "Saleh  1300.876  150.90  celibataire       01/01/2017\n",
      "          salaire    prime   etat civil date recrutement\n",
      "nom                                                     \n",
      "Ameni    1100.660  130.870  celibataire       11/05/2019\n",
      "Moufida  3700.440  500.000        marie       09/12/1991\n",
      "Ahmed    3100.760      NaN        marie       09/09/2004\n",
      "Wajdi    1200.980      NaN  celibataire       27/11/2015\n",
      "Rahma         NaN  130.987  celibataire       04/02/2017\n",
      "Salem    1505.760  159.700  celibataire       21/11/2017\n",
      "Sonia    2800.786  400.876        marie       30/11/2005\n",
      "Mehdi    3000.760      NaN        marie       07/07/2000\n",
      "nom\n",
      "Sameh    senior\n",
      "Salma    senior\n",
      "Ali      junior\n",
      "Saleh    junior\n",
      "Name: classe, dtype: object\n",
      "nom\n",
      "Ameni      junior\n",
      "Moufida    senior\n",
      "Ahmed      senior\n",
      "Wajdi      junior\n",
      "Rahma      junior\n",
      "Salem      junior\n",
      "Sonia      senior\n",
      "Mehdi      senior\n",
      "Name: classe, dtype: object\n"
     ]
    }
   ],
   "source": [
    "from sklearn.model_selection import train_test_split\n",
    "X_train, X_test, Y_train, Y_test = train_test_split(X,Y,train_size=0.4,random_state=0,shuffle=True)\n",
    "print(X_train)\n",
    "print(X_test)\n",
    "print(Y_train)\n",
    "print(Y_test)"
   ]
  },
  {
   "cell_type": "markdown",
   "metadata": {
    "id": "pkB24RjHcjRr"
   },
   "source": [
    "**2.4 Transformation des données d'apprentissage d'entrée de format brute en format numérique**"
   ]
  },
  {
   "cell_type": "markdown",
   "metadata": {
    "id": "4XapHpVgQ__M"
   },
   "source": [
    "Les données d'apprentissage d'entrée ont des types hétérogènes et non numériques. Ainsi, elles sont pas pêtes pour l'apprentissage du modèle de classifieur.\n",
    "\n",
    "Cette étape consiste à transformer les données d'apprentissage en format nuémrique comme suit :\n",
    "- Créer une copie de dataframe des données d'entrée d'apprentissage sur laquelle on applique le reste de travail\n",
    "- Remplir les valeurs manquantes\n",
    "- Remplacer le salaire et le prime par le revenue (revenue=salaire+prime)\n",
    "- Remplacer la date de recrutement par l'ancienneté de l'employé\n",
    "- Remplacer les valeurs discrètes de l'état civil par leurs codes binaires OHE"
   ]
  },
  {
   "cell_type": "code",
   "execution_count": 167,
   "metadata": {
    "colab": {
     "base_uri": "https://localhost:8080/",
     "height": 300
    },
    "id": "ELxKa4XA2GVY",
    "outputId": "a42a60fb-0d90-4544-94d7-1ba20c961ff4"
   },
   "outputs": [
    {
     "name": "stdout",
     "output_type": "stream",
     "text": [
      "        salaire   prime   etat civil date recrutement\n",
      "nom                                                  \n",
      "Sameh  2700.330  400.00        marie       19/02/1999\n",
      "Salma  2500.876  340.60        marie       03/02/2010\n",
      "Ali    1200.675  100.56  celibataire       20/10/2018\n",
      "Saleh  1300.876  150.90  celibataire       01/01/2017\n",
      "        salaire   prime   etat civil date recrutement   revenue\n",
      "nom                                                            \n",
      "Sameh  2700.330  400.00        marie       19/02/1999  3100.330\n",
      "Salma  2500.876  340.60        marie       03/02/2010  2841.476\n",
      "Ali    1200.675  100.56  celibataire       20/10/2018  1301.235\n",
      "Saleh  1300.876  150.90  celibataire       01/01/2017  1451.776\n"
     ]
    }
   ],
   "source": [
    "# Créer une copie des données d'entrée d'apprentissage (X_train) en X_\n",
    "X_train_=X_train.copy()\n",
    "X_train_.fillna({'salaire':X_train_['salaire'].mean(),'prime':X_train_['prime'].mean()},inplace=True)\n",
    "print(X_train)\n",
    "X_train_['revenue'] = X_train_.salaire + X_train_.prime\n",
    "print(X_train_)\n",
    "X_train_.drop(['salaire','prime'],axis=1,inplace=True)\n",
    "\n"
   ]
  },
  {
   "cell_type": "code",
   "execution_count": 168,
   "metadata": {},
   "outputs": [
    {
     "data": {
      "text/html": [
       "<div>\n",
       "<style scoped>\n",
       "    .dataframe tbody tr th:only-of-type {\n",
       "        vertical-align: middle;\n",
       "    }\n",
       "\n",
       "    .dataframe tbody tr th {\n",
       "        vertical-align: top;\n",
       "    }\n",
       "\n",
       "    .dataframe thead th {\n",
       "        text-align: right;\n",
       "    }\n",
       "</style>\n",
       "<table border=\"1\" class=\"dataframe\">\n",
       "  <thead>\n",
       "    <tr style=\"text-align: right;\">\n",
       "      <th></th>\n",
       "      <th>etat civil</th>\n",
       "      <th>date recrutement</th>\n",
       "      <th>revenue</th>\n",
       "    </tr>\n",
       "    <tr>\n",
       "      <th>nom</th>\n",
       "      <th></th>\n",
       "      <th></th>\n",
       "      <th></th>\n",
       "    </tr>\n",
       "  </thead>\n",
       "  <tbody>\n",
       "    <tr>\n",
       "      <th>Sameh</th>\n",
       "      <td>marie</td>\n",
       "      <td>19/02/1999</td>\n",
       "      <td>3100.330</td>\n",
       "    </tr>\n",
       "    <tr>\n",
       "      <th>Salma</th>\n",
       "      <td>marie</td>\n",
       "      <td>03/02/2010</td>\n",
       "      <td>2841.476</td>\n",
       "    </tr>\n",
       "    <tr>\n",
       "      <th>Ali</th>\n",
       "      <td>celibataire</td>\n",
       "      <td>20/10/2018</td>\n",
       "      <td>1301.235</td>\n",
       "    </tr>\n",
       "    <tr>\n",
       "      <th>Saleh</th>\n",
       "      <td>celibataire</td>\n",
       "      <td>01/01/2017</td>\n",
       "      <td>1451.776</td>\n",
       "    </tr>\n",
       "  </tbody>\n",
       "</table>\n",
       "</div>"
      ],
      "text/plain": [
       "        etat civil date recrutement   revenue\n",
       "nom                                          \n",
       "Sameh        marie       19/02/1999  3100.330\n",
       "Salma        marie       03/02/2010  2841.476\n",
       "Ali    celibataire       20/10/2018  1301.235\n",
       "Saleh  celibataire       01/01/2017  1451.776"
      ]
     },
     "execution_count": 168,
     "metadata": {},
     "output_type": "execute_result"
    }
   ],
   "source": [
    "X_train_"
   ]
  },
  {
   "cell_type": "code",
   "execution_count": 169,
   "metadata": {},
   "outputs": [
    {
     "name": "stderr",
     "output_type": "stream",
     "text": [
      "C:\\Users\\nafkh\\AppData\\Local\\Temp\\ipykernel_5736\\3025185998.py:2: UserWarning: Parsing '19/02/1999' in DD/MM/YYYY format. Provide format or specify infer_datetime_format=True for consistent parsing.\n",
      "  X_train_['date recrutement'] = pd.to_datetime(X_train_['date recrutement'])\n",
      "C:\\Users\\nafkh\\AppData\\Local\\Temp\\ipykernel_5736\\3025185998.py:2: UserWarning: Parsing '20/10/2018' in DD/MM/YYYY format. Provide format or specify infer_datetime_format=True for consistent parsing.\n",
      "  X_train_['date recrutement'] = pd.to_datetime(X_train_['date recrutement'])\n"
     ]
    }
   ],
   "source": [
    "from datetime import datetime\n",
    "X_train_['date recrutement'] = pd.to_datetime(X_train_['date recrutement'])"
   ]
  },
  {
   "cell_type": "code",
   "execution_count": 170,
   "metadata": {},
   "outputs": [],
   "source": [
    "X_train_['anciennete'] = X_train_['date recrutement'].apply(lambda date : datetime.now().year - date.year)"
   ]
  },
  {
   "cell_type": "code",
   "execution_count": 171,
   "metadata": {},
   "outputs": [],
   "source": [
    "X_train_.drop(['date recrutement'],axis=1,inplace = True)"
   ]
  },
  {
   "cell_type": "code",
   "execution_count": 172,
   "metadata": {},
   "outputs": [
    {
     "data": {
      "text/html": [
       "<div>\n",
       "<style scoped>\n",
       "    .dataframe tbody tr th:only-of-type {\n",
       "        vertical-align: middle;\n",
       "    }\n",
       "\n",
       "    .dataframe tbody tr th {\n",
       "        vertical-align: top;\n",
       "    }\n",
       "\n",
       "    .dataframe thead th {\n",
       "        text-align: right;\n",
       "    }\n",
       "</style>\n",
       "<table border=\"1\" class=\"dataframe\">\n",
       "  <thead>\n",
       "    <tr style=\"text-align: right;\">\n",
       "      <th></th>\n",
       "      <th>etat civil</th>\n",
       "      <th>revenue</th>\n",
       "      <th>anciennete</th>\n",
       "    </tr>\n",
       "    <tr>\n",
       "      <th>nom</th>\n",
       "      <th></th>\n",
       "      <th></th>\n",
       "      <th></th>\n",
       "    </tr>\n",
       "  </thead>\n",
       "  <tbody>\n",
       "    <tr>\n",
       "      <th>Sameh</th>\n",
       "      <td>marie</td>\n",
       "      <td>3100.330</td>\n",
       "      <td>23</td>\n",
       "    </tr>\n",
       "    <tr>\n",
       "      <th>Salma</th>\n",
       "      <td>marie</td>\n",
       "      <td>2841.476</td>\n",
       "      <td>12</td>\n",
       "    </tr>\n",
       "    <tr>\n",
       "      <th>Ali</th>\n",
       "      <td>celibataire</td>\n",
       "      <td>1301.235</td>\n",
       "      <td>4</td>\n",
       "    </tr>\n",
       "    <tr>\n",
       "      <th>Saleh</th>\n",
       "      <td>celibataire</td>\n",
       "      <td>1451.776</td>\n",
       "      <td>5</td>\n",
       "    </tr>\n",
       "  </tbody>\n",
       "</table>\n",
       "</div>"
      ],
      "text/plain": [
       "        etat civil   revenue  anciennete\n",
       "nom                                     \n",
       "Sameh        marie  3100.330          23\n",
       "Salma        marie  2841.476          12\n",
       "Ali    celibataire  1301.235           4\n",
       "Saleh  celibataire  1451.776           5"
      ]
     },
     "execution_count": 172,
     "metadata": {},
     "output_type": "execute_result"
    }
   ],
   "source": [
    "X_train_"
   ]
  },
  {
   "cell_type": "markdown",
   "metadata": {
    "id": "ObeBf3iCOWC-"
   },
   "source": [
    "**2.5. Post-traitement des données d'apprentissage**"
   ]
  },
  {
   "cell_type": "markdown",
   "metadata": {
    "id": "0j9IcWxvOiXX"
   },
   "source": [
    "Normalisation des données d'apprentissage d'entrée \n",
    "\n",
    "La normalisation de X_train_ donne lieu à X_train_ss"
   ]
  },
  {
   "cell_type": "code",
   "execution_count": 173,
   "metadata": {
    "id": "RVghJRZZ_UoO"
   },
   "outputs": [
    {
     "data": {
      "text/plain": [
       "[array(['celibataire', 'marie'], dtype=object)]"
      ]
     },
     "execution_count": 173,
     "metadata": {},
     "output_type": "execute_result"
    }
   ],
   "source": [
    "from sklearn.preprocessing import OneHotEncoder\n",
    "ohe = OneHotEncoder()\n",
    "ohe.fit(X_train_[['etat civil']])\n",
    "ohe.categories_"
   ]
  },
  {
   "cell_type": "code",
   "execution_count": 174,
   "metadata": {},
   "outputs": [
    {
     "data": {
      "text/html": [
       "<div>\n",
       "<style scoped>\n",
       "    .dataframe tbody tr th:only-of-type {\n",
       "        vertical-align: middle;\n",
       "    }\n",
       "\n",
       "    .dataframe tbody tr th {\n",
       "        vertical-align: top;\n",
       "    }\n",
       "\n",
       "    .dataframe thead th {\n",
       "        text-align: right;\n",
       "    }\n",
       "</style>\n",
       "<table border=\"1\" class=\"dataframe\">\n",
       "  <thead>\n",
       "    <tr style=\"text-align: right;\">\n",
       "      <th></th>\n",
       "      <th>revenue</th>\n",
       "      <th>anciennete</th>\n",
       "      <th>Etat Civil celib</th>\n",
       "      <th>Etat Civil Marie</th>\n",
       "    </tr>\n",
       "    <tr>\n",
       "      <th>nom</th>\n",
       "      <th></th>\n",
       "      <th></th>\n",
       "      <th></th>\n",
       "      <th></th>\n",
       "    </tr>\n",
       "  </thead>\n",
       "  <tbody>\n",
       "    <tr>\n",
       "      <th>Sameh</th>\n",
       "      <td>3100.330</td>\n",
       "      <td>23</td>\n",
       "      <td>0.0</td>\n",
       "      <td>1.0</td>\n",
       "    </tr>\n",
       "    <tr>\n",
       "      <th>Salma</th>\n",
       "      <td>2841.476</td>\n",
       "      <td>12</td>\n",
       "      <td>0.0</td>\n",
       "      <td>1.0</td>\n",
       "    </tr>\n",
       "    <tr>\n",
       "      <th>Ali</th>\n",
       "      <td>1301.235</td>\n",
       "      <td>4</td>\n",
       "      <td>1.0</td>\n",
       "      <td>0.0</td>\n",
       "    </tr>\n",
       "    <tr>\n",
       "      <th>Saleh</th>\n",
       "      <td>1451.776</td>\n",
       "      <td>5</td>\n",
       "      <td>1.0</td>\n",
       "      <td>0.0</td>\n",
       "    </tr>\n",
       "  </tbody>\n",
       "</table>\n",
       "</div>"
      ],
      "text/plain": [
       "        revenue  anciennete  Etat Civil celib  Etat Civil Marie\n",
       "nom                                                            \n",
       "Sameh  3100.330          23               0.0               1.0\n",
       "Salma  2841.476          12               0.0               1.0\n",
       "Ali    1301.235           4               1.0               0.0\n",
       "Saleh  1451.776           5               1.0               0.0"
      ]
     },
     "execution_count": 174,
     "metadata": {},
     "output_type": "execute_result"
    }
   ],
   "source": [
    "etat_civil_sparse = ohe.transform(X_train_[['etat civil']])\n",
    "etat_civil = etat_civil_sparse.toarray()\n",
    "df_etat_civil = df_etat_civil = pd.DataFrame(etat_civil,index = X_train_.index, columns=  ['Etat Civil celib','Etat Civil Marie'])\n",
    "X_train_ss = pd.concat([X_train_,df_etat_civil],axis=1)\n",
    "X_train_ss.drop(['etat civil'],axis =1 , inplace= True)\n",
    "X_train_ss"
   ]
  },
  {
   "cell_type": "markdown",
   "metadata": {
    "id": "MThEQvpaOl4L"
   },
   "source": [
    "Réduction de dimension des données d'apprentissage d'entrée\n",
    "\n",
    "La réduction de dimension de X_train_ss donne lieu à X_train_pca"
   ]
  },
  {
   "cell_type": "code",
   "execution_count": 175,
   "metadata": {
    "id": "66ku7VJe_ZcF"
   },
   "outputs": [
    {
     "data": {
      "text/plain": [
       "array([[ 1.1522359 ,  1.58251314, -1.        ,  1.        ],\n",
       "       [ 0.83035744,  0.13187609, -1.        ,  1.        ],\n",
       "       [-1.08489365, -0.92313266,  1.        , -1.        ],\n",
       "       [-0.89769969, -0.79125657,  1.        , -1.        ]])"
      ]
     },
     "execution_count": 175,
     "metadata": {},
     "output_type": "execute_result"
    }
   ],
   "source": [
    "from sklearn.preprocessing import StandardScaler\n",
    "ss = StandardScaler()\n",
    "ss.fit(X_train_ss)\n",
    "X_ss = ss.transform(X_train_ss)\n",
    "X_ss"
   ]
  },
  {
   "cell_type": "code",
   "execution_count": 176,
   "metadata": {
    "id": "tOcBPqaxcwc1"
   },
   "outputs": [
    {
     "data": {
      "text/plain": [
       "array([[ 2.35389131, -0.53958476],\n",
       "       [ 1.49982258,  0.67630951],\n",
       "       [-2.00608662, -0.01996244],\n",
       "       [-1.84762727, -0.11676231]])"
      ]
     },
     "execution_count": 176,
     "metadata": {},
     "output_type": "execute_result"
    }
   ],
   "source": [
    "from sklearn.decomposition import PCA\n",
    "pca = PCA(n_components=2)\n",
    "pca.fit(X_ss)\n",
    "X_train_pca=pca.transform(X_ss)\n",
    "X_train_pca"
   ]
  },
  {
   "cell_type": "markdown",
   "metadata": {
    "id": "mep8UlCNctvb"
   },
   "source": [
    "**2.6. Apprentissage avec KNN**"
   ]
  },
  {
   "cell_type": "markdown",
   "metadata": {
    "id": "wgPJJDi2JLlK"
   },
   "source": [
    "Pour appliquer KNN, importer la classe KNeighborsClassifier du module sklearn.neighbors.\n",
    "\n",
    "Créer une instance et précisier l'hyperparamètre n_neighbors=2\n",
    "\n",
    "Appeler la fonction fit() et passer X_train_pca et y_train"
   ]
  },
  {
   "cell_type": "code",
   "execution_count": 177,
   "metadata": {},
   "outputs": [
    {
     "data": {
      "text/plain": [
       "KNeighborsClassifier(n_neighbors=2)"
      ]
     },
     "execution_count": 177,
     "metadata": {},
     "output_type": "execute_result"
    }
   ],
   "source": [
    "from sklearn.neighbors import KNeighborsClassifier\n",
    "neigh = KNeighborsClassifier(n_neighbors=2)\n",
    "neigh.fit(X_train_pca,Y_train)\n"
   ]
  },
  {
   "cell_type": "markdown",
   "metadata": {
    "id": "JLhAep77cw-a"
   },
   "source": [
    "**2.7. Traitement des données de test**"
   ]
  },
  {
   "cell_type": "markdown",
   "metadata": {
    "id": "Bf36-JIHTpVy"
   },
   "source": [
    "Appliquer le même traitement fait sur les données d'apprentissage d'entrée (transformation en format numérique et  post-traitement)"
   ]
  },
  {
   "cell_type": "code",
   "execution_count": 178,
   "metadata": {
    "id": "De7lRwpgc47z"
   },
   "outputs": [
    {
     "data": {
      "text/html": [
       "<div>\n",
       "<style scoped>\n",
       "    .dataframe tbody tr th:only-of-type {\n",
       "        vertical-align: middle;\n",
       "    }\n",
       "\n",
       "    .dataframe tbody tr th {\n",
       "        vertical-align: top;\n",
       "    }\n",
       "\n",
       "    .dataframe thead th {\n",
       "        text-align: right;\n",
       "    }\n",
       "</style>\n",
       "<table border=\"1\" class=\"dataframe\">\n",
       "  <thead>\n",
       "    <tr style=\"text-align: right;\">\n",
       "      <th></th>\n",
       "      <th>etat civil</th>\n",
       "      <th>date recrutement</th>\n",
       "      <th>revenue</th>\n",
       "    </tr>\n",
       "    <tr>\n",
       "      <th>nom</th>\n",
       "      <th></th>\n",
       "      <th></th>\n",
       "      <th></th>\n",
       "    </tr>\n",
       "  </thead>\n",
       "  <tbody>\n",
       "    <tr>\n",
       "      <th>Ameni</th>\n",
       "      <td>celibataire</td>\n",
       "      <td>11/05/2019</td>\n",
       "      <td>1231.530000</td>\n",
       "    </tr>\n",
       "    <tr>\n",
       "      <th>Moufida</th>\n",
       "      <td>marie</td>\n",
       "      <td>09/12/1991</td>\n",
       "      <td>4200.440000</td>\n",
       "    </tr>\n",
       "    <tr>\n",
       "      <th>Ahmed</th>\n",
       "      <td>marie</td>\n",
       "      <td>09/09/2004</td>\n",
       "      <td>3365.246600</td>\n",
       "    </tr>\n",
       "    <tr>\n",
       "      <th>Wajdi</th>\n",
       "      <td>celibataire</td>\n",
       "      <td>27/11/2015</td>\n",
       "      <td>1465.466600</td>\n",
       "    </tr>\n",
       "    <tr>\n",
       "      <th>Rahma</th>\n",
       "      <td>celibataire</td>\n",
       "      <td>04/02/2017</td>\n",
       "      <td>2475.293571</td>\n",
       "    </tr>\n",
       "    <tr>\n",
       "      <th>Salem</th>\n",
       "      <td>celibataire</td>\n",
       "      <td>21/11/2017</td>\n",
       "      <td>1665.460000</td>\n",
       "    </tr>\n",
       "    <tr>\n",
       "      <th>Sonia</th>\n",
       "      <td>marie</td>\n",
       "      <td>30/11/2005</td>\n",
       "      <td>3201.662000</td>\n",
       "    </tr>\n",
       "    <tr>\n",
       "      <th>Mehdi</th>\n",
       "      <td>marie</td>\n",
       "      <td>07/07/2000</td>\n",
       "      <td>3265.246600</td>\n",
       "    </tr>\n",
       "  </tbody>\n",
       "</table>\n",
       "</div>"
      ],
      "text/plain": [
       "          etat civil date recrutement      revenue\n",
       "nom                                               \n",
       "Ameni    celibataire       11/05/2019  1231.530000\n",
       "Moufida        marie       09/12/1991  4200.440000\n",
       "Ahmed          marie       09/09/2004  3365.246600\n",
       "Wajdi    celibataire       27/11/2015  1465.466600\n",
       "Rahma    celibataire       04/02/2017  2475.293571\n",
       "Salem    celibataire       21/11/2017  1665.460000\n",
       "Sonia          marie       30/11/2005  3201.662000\n",
       "Mehdi          marie       07/07/2000  3265.246600"
      ]
     },
     "execution_count": 178,
     "metadata": {},
     "output_type": "execute_result"
    }
   ],
   "source": [
    "# Transformation des données de test\n",
    "# Créer une copie des données d'entrée d'apprentissage (X_train) en X_\n",
    "X_test_=X_test.copy()\n",
    "# ...\n",
    "X_test_.fillna({'salaire':X_test_.salaire.mean(),'prime':X_test_.prime.mean()},inplace=True)\n",
    "X_test_['revenue']=X_test_.salaire+X_test_.prime\n",
    "X_test_.drop(['salaire','prime'],axis=1,inplace=True)\n",
    "X_test_\n"
   ]
  },
  {
   "cell_type": "markdown",
   "metadata": {
    "id": "VCP3wBQzMmXv"
   },
   "source": [
    "Normaliser et réduire la dimension des données de test"
   ]
  },
  {
   "cell_type": "code",
   "execution_count": 179,
   "metadata": {
    "id": "lkuC7UtsdTbj",
    "scrolled": true
   },
   "outputs": [
    {
     "name": "stderr",
     "output_type": "stream",
     "text": [
      "C:\\Users\\nafkh\\AppData\\Local\\Temp\\ipykernel_5736\\2464803886.py:1: UserWarning: Parsing '27/11/2015' in DD/MM/YYYY format. Provide format or specify infer_datetime_format=True for consistent parsing.\n",
      "  X_test_['date recrutement']=pd.to_datetime(X_test_['date recrutement'])\n",
      "C:\\Users\\nafkh\\AppData\\Local\\Temp\\ipykernel_5736\\2464803886.py:1: UserWarning: Parsing '21/11/2017' in DD/MM/YYYY format. Provide format or specify infer_datetime_format=True for consistent parsing.\n",
      "  X_test_['date recrutement']=pd.to_datetime(X_test_['date recrutement'])\n",
      "C:\\Users\\nafkh\\AppData\\Local\\Temp\\ipykernel_5736\\2464803886.py:1: UserWarning: Parsing '30/11/2005' in DD/MM/YYYY format. Provide format or specify infer_datetime_format=True for consistent parsing.\n",
      "  X_test_['date recrutement']=pd.to_datetime(X_test_['date recrutement'])\n"
     ]
    },
    {
     "data": {
      "text/html": [
       "<div>\n",
       "<style scoped>\n",
       "    .dataframe tbody tr th:only-of-type {\n",
       "        vertical-align: middle;\n",
       "    }\n",
       "\n",
       "    .dataframe tbody tr th {\n",
       "        vertical-align: top;\n",
       "    }\n",
       "\n",
       "    .dataframe thead th {\n",
       "        text-align: right;\n",
       "    }\n",
       "</style>\n",
       "<table border=\"1\" class=\"dataframe\">\n",
       "  <thead>\n",
       "    <tr style=\"text-align: right;\">\n",
       "      <th></th>\n",
       "      <th>etat civil</th>\n",
       "      <th>revenue</th>\n",
       "      <th>anciennete</th>\n",
       "    </tr>\n",
       "    <tr>\n",
       "      <th>nom</th>\n",
       "      <th></th>\n",
       "      <th></th>\n",
       "      <th></th>\n",
       "    </tr>\n",
       "  </thead>\n",
       "  <tbody>\n",
       "    <tr>\n",
       "      <th>Ameni</th>\n",
       "      <td>celibataire</td>\n",
       "      <td>1231.530000</td>\n",
       "      <td>3</td>\n",
       "    </tr>\n",
       "    <tr>\n",
       "      <th>Moufida</th>\n",
       "      <td>marie</td>\n",
       "      <td>4200.440000</td>\n",
       "      <td>31</td>\n",
       "    </tr>\n",
       "    <tr>\n",
       "      <th>Ahmed</th>\n",
       "      <td>marie</td>\n",
       "      <td>3365.246600</td>\n",
       "      <td>18</td>\n",
       "    </tr>\n",
       "    <tr>\n",
       "      <th>Wajdi</th>\n",
       "      <td>celibataire</td>\n",
       "      <td>1465.466600</td>\n",
       "      <td>7</td>\n",
       "    </tr>\n",
       "    <tr>\n",
       "      <th>Rahma</th>\n",
       "      <td>celibataire</td>\n",
       "      <td>2475.293571</td>\n",
       "      <td>5</td>\n",
       "    </tr>\n",
       "    <tr>\n",
       "      <th>Salem</th>\n",
       "      <td>celibataire</td>\n",
       "      <td>1665.460000</td>\n",
       "      <td>5</td>\n",
       "    </tr>\n",
       "    <tr>\n",
       "      <th>Sonia</th>\n",
       "      <td>marie</td>\n",
       "      <td>3201.662000</td>\n",
       "      <td>17</td>\n",
       "    </tr>\n",
       "    <tr>\n",
       "      <th>Mehdi</th>\n",
       "      <td>marie</td>\n",
       "      <td>3265.246600</td>\n",
       "      <td>22</td>\n",
       "    </tr>\n",
       "  </tbody>\n",
       "</table>\n",
       "</div>"
      ],
      "text/plain": [
       "          etat civil      revenue  anciennete\n",
       "nom                                          \n",
       "Ameni    celibataire  1231.530000           3\n",
       "Moufida        marie  4200.440000          31\n",
       "Ahmed          marie  3365.246600          18\n",
       "Wajdi    celibataire  1465.466600           7\n",
       "Rahma    celibataire  2475.293571           5\n",
       "Salem    celibataire  1665.460000           5\n",
       "Sonia          marie  3201.662000          17\n",
       "Mehdi          marie  3265.246600          22"
      ]
     },
     "execution_count": 179,
     "metadata": {},
     "output_type": "execute_result"
    }
   ],
   "source": [
    "X_test_['date recrutement']=pd.to_datetime(X_test_['date recrutement'])\n",
    "X_test_['anciennete']=X_test_['date recrutement'].apply(lambda date : datetime.now().year - date.year)\n",
    "X_test_.drop('date recrutement',axis = 1, errors = 'ignore',inplace = True)\n",
    "X_test_\n"
   ]
  },
  {
   "cell_type": "code",
   "execution_count": 180,
   "metadata": {},
   "outputs": [
    {
     "data": {
      "text/html": [
       "<div>\n",
       "<style scoped>\n",
       "    .dataframe tbody tr th:only-of-type {\n",
       "        vertical-align: middle;\n",
       "    }\n",
       "\n",
       "    .dataframe tbody tr th {\n",
       "        vertical-align: top;\n",
       "    }\n",
       "\n",
       "    .dataframe thead th {\n",
       "        text-align: right;\n",
       "    }\n",
       "</style>\n",
       "<table border=\"1\" class=\"dataframe\">\n",
       "  <thead>\n",
       "    <tr style=\"text-align: right;\">\n",
       "      <th></th>\n",
       "      <th>revenue</th>\n",
       "      <th>anciennete</th>\n",
       "      <th>Etat Civil celib</th>\n",
       "      <th>Etat Civil Marie</th>\n",
       "    </tr>\n",
       "    <tr>\n",
       "      <th>nom</th>\n",
       "      <th></th>\n",
       "      <th></th>\n",
       "      <th></th>\n",
       "      <th></th>\n",
       "    </tr>\n",
       "  </thead>\n",
       "  <tbody>\n",
       "    <tr>\n",
       "      <th>Ameni</th>\n",
       "      <td>1231.530000</td>\n",
       "      <td>3</td>\n",
       "      <td>1.0</td>\n",
       "      <td>0.0</td>\n",
       "    </tr>\n",
       "    <tr>\n",
       "      <th>Moufida</th>\n",
       "      <td>4200.440000</td>\n",
       "      <td>31</td>\n",
       "      <td>0.0</td>\n",
       "      <td>1.0</td>\n",
       "    </tr>\n",
       "    <tr>\n",
       "      <th>Ahmed</th>\n",
       "      <td>3365.246600</td>\n",
       "      <td>18</td>\n",
       "      <td>0.0</td>\n",
       "      <td>1.0</td>\n",
       "    </tr>\n",
       "    <tr>\n",
       "      <th>Wajdi</th>\n",
       "      <td>1465.466600</td>\n",
       "      <td>7</td>\n",
       "      <td>1.0</td>\n",
       "      <td>0.0</td>\n",
       "    </tr>\n",
       "    <tr>\n",
       "      <th>Rahma</th>\n",
       "      <td>2475.293571</td>\n",
       "      <td>5</td>\n",
       "      <td>1.0</td>\n",
       "      <td>0.0</td>\n",
       "    </tr>\n",
       "    <tr>\n",
       "      <th>Salem</th>\n",
       "      <td>1665.460000</td>\n",
       "      <td>5</td>\n",
       "      <td>1.0</td>\n",
       "      <td>0.0</td>\n",
       "    </tr>\n",
       "    <tr>\n",
       "      <th>Sonia</th>\n",
       "      <td>3201.662000</td>\n",
       "      <td>17</td>\n",
       "      <td>0.0</td>\n",
       "      <td>1.0</td>\n",
       "    </tr>\n",
       "    <tr>\n",
       "      <th>Mehdi</th>\n",
       "      <td>3265.246600</td>\n",
       "      <td>22</td>\n",
       "      <td>0.0</td>\n",
       "      <td>1.0</td>\n",
       "    </tr>\n",
       "  </tbody>\n",
       "</table>\n",
       "</div>"
      ],
      "text/plain": [
       "             revenue  anciennete  Etat Civil celib  Etat Civil Marie\n",
       "nom                                                                 \n",
       "Ameni    1231.530000           3               1.0               0.0\n",
       "Moufida  4200.440000          31               0.0               1.0\n",
       "Ahmed    3365.246600          18               0.0               1.0\n",
       "Wajdi    1465.466600           7               1.0               0.0\n",
       "Rahma    2475.293571           5               1.0               0.0\n",
       "Salem    1665.460000           5               1.0               0.0\n",
       "Sonia    3201.662000          17               0.0               1.0\n",
       "Mehdi    3265.246600          22               0.0               1.0"
      ]
     },
     "execution_count": 180,
     "metadata": {},
     "output_type": "execute_result"
    }
   ],
   "source": [
    "etat_civil_sparse = ohe.transform(X_test_[['etat civil']])\n",
    "\n",
    "etat_civil = etat_civil_sparse.toarray()\n",
    "df_etat_civil = pd.DataFrame(etat_civil,index = X_test_.index, columns=  ['Etat Civil celib','Etat Civil Marie'])\n",
    "X_test_ss = pd.concat([X_test_,df_etat_civil],axis=1)\n",
    "X_test_ss.drop(['etat civil'],axis=1,inplace = True)\n",
    "X_test_ss\n"
   ]
  },
  {
   "cell_type": "code",
   "execution_count": 181,
   "metadata": {},
   "outputs": [
    {
     "data": {
      "text/plain": [
       "array([[-1.37728598, -1.11613741,  1.        , -1.        ],\n",
       "       [ 1.59167318,  1.86022901, -1.        ,  1.        ],\n",
       "       [ 0.75646595,  0.4783446 , -1.        ,  1.        ],\n",
       "       [-1.1433455 , -0.6909422 ,  1.        , -1.        ],\n",
       "       [-0.13350181, -0.90353981,  1.        , -1.        ],\n",
       "       [-0.94334879, -0.90353981,  1.        , -1.        ],\n",
       "       [ 0.59287865,  0.3720458 , -1.        ,  1.        ],\n",
       "       [ 0.6564643 ,  0.90353981, -1.        ,  1.        ]])"
      ]
     },
     "execution_count": 181,
     "metadata": {},
     "output_type": "execute_result"
    }
   ],
   "source": [
    "ss.fit(X_test_ss)\n",
    "X_t_ss = ss.transform(X_test_ss)\n",
    "X_t_ss"
   ]
  },
  {
   "cell_type": "code",
   "execution_count": 182,
   "metadata": {},
   "outputs": [
    {
     "data": {
      "text/plain": [
       "array([[-2.24404636, -0.27446359],\n",
       "       [ 2.71888509,  0.74614276],\n",
       "       [ 1.62090492, -0.36026424],\n",
       "       [-1.91760331,  0.05381857],\n",
       "       [-1.52358736,  0.48376887],\n",
       "       [-1.9240768 ,  0.05679233],\n",
       "       [ 1.48731852, -0.49774793],\n",
       "       [ 1.7822053 , -0.20804677]])"
      ]
     },
     "execution_count": 182,
     "metadata": {},
     "output_type": "execute_result"
    }
   ],
   "source": [
    "pca=PCA(n_components=2)\n",
    "pca.fit(X_t_ss)\n",
    "X_test_pca=pca.transform(X_t_ss)\n",
    "X_test_pca"
   ]
  },
  {
   "cell_type": "code",
   "execution_count": 183,
   "metadata": {},
   "outputs": [
    {
     "name": "stdout",
     "output_type": "stream",
     "text": [
      "nom\n",
      "Ameni      junior\n",
      "Moufida    senior\n",
      "Ahmed      senior\n",
      "Wajdi      junior\n",
      "Rahma      junior\n",
      "Salem      junior\n",
      "Sonia      senior\n",
      "Mehdi      senior\n",
      "Name: classe, dtype: object\n",
      "['junior' 'senior' 'senior' 'junior' 'junior' 'junior' 'senior' 'senior']\n"
     ]
    },
    {
     "name": "stderr",
     "output_type": "stream",
     "text": [
      "C:\\Users\\nafkh\\anaconda3\\lib\\site-packages\\sklearn\\neighbors\\_classification.py:228: FutureWarning: Unlike other reduction functions (e.g. `skew`, `kurtosis`), the default behavior of `mode` typically preserves the axis it acts along. In SciPy 1.11.0, this behavior will change: the default value of `keepdims` will become False, the `axis` over which the statistic is taken will be eliminated, and the value None will no longer be accepted. Set `keepdims` to True or False to avoid this warning.\n",
      "  mode, _ = stats.mode(_y[neigh_ind, k], axis=1)\n"
     ]
    }
   ],
   "source": [
    "y_test_predicted=neigh.predict(X_test_pca)\n",
    "print(Y_test)\n",
    "print(y_test_predicted)"
   ]
  },
  {
   "cell_type": "markdown",
   "metadata": {
    "id": "YetGDdtrc1WD"
   },
   "source": [
    "**2.8. Evaluation de classifieur avec les données de test**"
   ]
  },
  {
   "cell_type": "markdown",
   "metadata": {
    "id": "9ThfYVXOUHmi"
   },
   "source": [
    "Prédiction des données de test"
   ]
  },
  {
   "cell_type": "code",
   "execution_count": 184,
   "metadata": {},
   "outputs": [
    {
     "data": {
      "text/plain": [
       "nom\n",
       "Ameni      junior\n",
       "Moufida    senior\n",
       "Ahmed      senior\n",
       "Wajdi      junior\n",
       "Rahma      junior\n",
       "Salem      junior\n",
       "Sonia      senior\n",
       "Mehdi      senior\n",
       "Name: classe, dtype: object"
      ]
     },
     "execution_count": 184,
     "metadata": {},
     "output_type": "execute_result"
    }
   ],
   "source": [
    "Y_test"
   ]
  },
  {
   "cell_type": "code",
   "execution_count": 185,
   "metadata": {
    "colab": {
     "base_uri": "https://localhost:8080/"
    },
    "id": "TpPVDvio2mrT",
    "outputId": "acae6449-88f7-4495-9677-e9ea29cea708"
   },
   "outputs": [
    {
     "data": {
      "text/plain": [
       "array(['junior', 'senior', 'senior', 'junior', 'junior', 'junior',\n",
       "       'senior', 'senior'], dtype=object)"
      ]
     },
     "execution_count": 185,
     "metadata": {},
     "output_type": "execute_result"
    }
   ],
   "source": [
    "y_test_predicted"
   ]
  },
  {
   "cell_type": "markdown",
   "metadata": {
    "id": "VNNbS3uyUpd6"
   },
   "source": [
    "Score d'accuracy"
   ]
  },
  {
   "cell_type": "code",
   "execution_count": 186,
   "metadata": {
    "colab": {
     "base_uri": "https://localhost:8080/"
    },
    "id": "5j8kufE63W0i",
    "outputId": "8fb3e827-2fe8-46bc-d678-3d99a143bb42"
   },
   "outputs": [
    {
     "data": {
      "text/plain": [
       "nom\n",
       "Ameni      True\n",
       "Moufida    True\n",
       "Ahmed      True\n",
       "Wajdi      True\n",
       "Rahma      True\n",
       "Salem      True\n",
       "Sonia      True\n",
       "Mehdi      True\n",
       "Name: classe, dtype: bool"
      ]
     },
     "execution_count": 186,
     "metadata": {},
     "output_type": "execute_result"
    }
   ],
   "source": [
    "Y_test == y_test_predicted"
   ]
  },
  {
   "cell_type": "markdown",
   "metadata": {
    "id": "FHMmCe-0Ur2D"
   },
   "source": [
    "Matrice de confusion"
   ]
  },
  {
   "cell_type": "code",
   "execution_count": 187,
   "metadata": {
    "colab": {
     "base_uri": "https://localhost:8080/"
    },
    "id": "mbHlKTTXocz5",
    "outputId": "f17abb2e-6431-4a46-feb4-a4fc10f3e632"
   },
   "outputs": [],
   "source": [
    "#"
   ]
  },
  {
   "cell_type": "markdown",
   "metadata": {
    "id": "_-m8ScPvU4fb"
   },
   "source": [
    "Rappel et pércision"
   ]
  },
  {
   "cell_type": "code",
   "execution_count": null,
   "metadata": {
    "id": "8HbGZhKmU3Ox"
   },
   "outputs": [],
   "source": [
    "#"
   ]
  },
  {
   "cell_type": "markdown",
   "metadata": {
    "id": "2ycUbwFJU0B1"
   },
   "source": [
    "**2.9. Visualisation des données**"
   ]
  },
  {
   "cell_type": "code",
   "execution_count": null,
   "metadata": {
    "id": "vsFLj5ktVCi8"
   },
   "outputs": [],
   "source": [
    "classe_junior=#\n",
    "classe_senior=#"
   ]
  },
  {
   "cell_type": "code",
   "execution_count": null,
   "metadata": {
    "id": "hvqS-2EyU31c"
   },
   "outputs": [],
   "source": [
    "#"
   ]
  }
 ],
 "metadata": {
  "colab": {
   "collapsed_sections": [],
   "provenance": []
  },
  "kernelspec": {
   "display_name": "Python 3 (ipykernel)",
   "language": "python",
   "name": "python3"
  },
  "language_info": {
   "codemirror_mode": {
    "name": "ipython",
    "version": 3
   },
   "file_extension": ".py",
   "mimetype": "text/x-python",
   "name": "python",
   "nbconvert_exporter": "python",
   "pygments_lexer": "ipython3",
   "version": "3.9.13"
  }
 },
 "nbformat": 4,
 "nbformat_minor": 1
}
