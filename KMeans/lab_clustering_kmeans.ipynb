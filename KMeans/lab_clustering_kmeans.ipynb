{
 "cells": [
  {
   "cell_type": "markdown",
   "metadata": {
    "id": "r7H-PzjB8HwW"
   },
   "source": [
    "**Clustering avec Kmeans**"
   ]
  },
  {
   "cell_type": "markdown",
   "metadata": {
    "id": "TPjaqXMU8QwN"
   },
   "source": [
    "Les données à regrouper"
   ]
  },
  {
   "cell_type": "markdown",
   "metadata": {
    "id": "99dO6auJ-HC0"
   },
   "source": [
    "**Clustering des données réelles**"
   ]
  },
  {
   "cell_type": "markdown",
   "metadata": {
    "id": "L3AxTajbGFPv"
   },
   "source": [
    "Charger les données CSV employes.csv à partir de Google Drive"
   ]
  },
  {
   "cell_type": "code",
   "execution_count": 2,
   "metadata": {},
   "outputs": [],
   "source": [
    "import pandas as pd"
   ]
  },
  {
   "cell_type": "code",
   "execution_count": 5,
   "metadata": {
    "colab": {
     "base_uri": "https://localhost:8080/",
     "height": 457
    },
    "id": "HiS6KX5m-1uG",
    "outputId": "552da993-1c4c-4f0b-f306-926c845d5572"
   },
   "outputs": [
    {
     "data": {
      "text/html": [
       "<div>\n",
       "<style scoped>\n",
       "    .dataframe tbody tr th:only-of-type {\n",
       "        vertical-align: middle;\n",
       "    }\n",
       "\n",
       "    .dataframe tbody tr th {\n",
       "        vertical-align: top;\n",
       "    }\n",
       "\n",
       "    .dataframe thead th {\n",
       "        text-align: right;\n",
       "    }\n",
       "</style>\n",
       "<table border=\"1\" class=\"dataframe\">\n",
       "  <thead>\n",
       "    <tr style=\"text-align: right;\">\n",
       "      <th></th>\n",
       "      <th>salaire</th>\n",
       "      <th>prime</th>\n",
       "      <th>etat civil</th>\n",
       "      <th>date recrutement</th>\n",
       "    </tr>\n",
       "    <tr>\n",
       "      <th>nom</th>\n",
       "      <th></th>\n",
       "      <th></th>\n",
       "      <th></th>\n",
       "      <th></th>\n",
       "    </tr>\n",
       "  </thead>\n",
       "  <tbody>\n",
       "    <tr>\n",
       "      <th>Ali</th>\n",
       "      <td>1200.675</td>\n",
       "      <td>100.560</td>\n",
       "      <td>celibataire</td>\n",
       "      <td>20/10/2018</td>\n",
       "    </tr>\n",
       "    <tr>\n",
       "      <th>Sonia</th>\n",
       "      <td>2800.786</td>\n",
       "      <td>400.876</td>\n",
       "      <td>marie</td>\n",
       "      <td>30/11/2005</td>\n",
       "    </tr>\n",
       "    <tr>\n",
       "      <th>Rahma</th>\n",
       "      <td>NaN</td>\n",
       "      <td>130.987</td>\n",
       "      <td>celibataire</td>\n",
       "      <td>04/02/2017</td>\n",
       "    </tr>\n",
       "    <tr>\n",
       "      <th>Salma</th>\n",
       "      <td>2500.876</td>\n",
       "      <td>340.600</td>\n",
       "      <td>marie</td>\n",
       "      <td>03/02/2010</td>\n",
       "    </tr>\n",
       "    <tr>\n",
       "      <th>Ahmed</th>\n",
       "      <td>3100.760</td>\n",
       "      <td>NaN</td>\n",
       "      <td>marie</td>\n",
       "      <td>09/09/2004</td>\n",
       "    </tr>\n",
       "    <tr>\n",
       "      <th>Saleh</th>\n",
       "      <td>1300.876</td>\n",
       "      <td>150.900</td>\n",
       "      <td>celibataire</td>\n",
       "      <td>01/01/2017</td>\n",
       "    </tr>\n",
       "    <tr>\n",
       "      <th>Ameni</th>\n",
       "      <td>1100.660</td>\n",
       "      <td>130.870</td>\n",
       "      <td>celibataire</td>\n",
       "      <td>11/05/2019</td>\n",
       "    </tr>\n",
       "    <tr>\n",
       "      <th>Mehdi</th>\n",
       "      <td>3000.760</td>\n",
       "      <td>NaN</td>\n",
       "      <td>marie</td>\n",
       "      <td>07/07/2000</td>\n",
       "    </tr>\n",
       "    <tr>\n",
       "      <th>Salem</th>\n",
       "      <td>1505.760</td>\n",
       "      <td>159.700</td>\n",
       "      <td>celibataire</td>\n",
       "      <td>21/11/2017</td>\n",
       "    </tr>\n",
       "    <tr>\n",
       "      <th>Sameh</th>\n",
       "      <td>2700.330</td>\n",
       "      <td>400.000</td>\n",
       "      <td>marie</td>\n",
       "      <td>19/02/1999</td>\n",
       "    </tr>\n",
       "    <tr>\n",
       "      <th>Wajdi</th>\n",
       "      <td>1200.980</td>\n",
       "      <td>NaN</td>\n",
       "      <td>celibataire</td>\n",
       "      <td>27/11/2015</td>\n",
       "    </tr>\n",
       "    <tr>\n",
       "      <th>Moufida</th>\n",
       "      <td>3700.440</td>\n",
       "      <td>500.000</td>\n",
       "      <td>marie</td>\n",
       "      <td>09/12/1991</td>\n",
       "    </tr>\n",
       "  </tbody>\n",
       "</table>\n",
       "</div>"
      ],
      "text/plain": [
       "          salaire    prime   etat civil date recrutement\n",
       "nom                                                     \n",
       "Ali      1200.675  100.560  celibataire       20/10/2018\n",
       "Sonia    2800.786  400.876        marie       30/11/2005\n",
       "Rahma         NaN  130.987  celibataire       04/02/2017\n",
       "Salma    2500.876  340.600        marie       03/02/2010\n",
       "Ahmed    3100.760      NaN        marie       09/09/2004\n",
       "Saleh    1300.876  150.900  celibataire       01/01/2017\n",
       "Ameni    1100.660  130.870  celibataire       11/05/2019\n",
       "Mehdi    3000.760      NaN        marie       07/07/2000\n",
       "Salem    1505.760  159.700  celibataire       21/11/2017\n",
       "Sameh    2700.330  400.000        marie       19/02/1999\n",
       "Wajdi    1200.980      NaN  celibataire       27/11/2015\n",
       "Moufida  3700.440  500.000        marie       09/12/1991"
      ]
     },
     "execution_count": 5,
     "metadata": {},
     "output_type": "execute_result"
    }
   ],
   "source": [
    "df_employes = pd.read_csv('employes (1).csv',index_col=0)\n",
    "df_employes"
   ]
  },
  {
   "cell_type": "code",
   "execution_count": 17,
   "metadata": {},
   "outputs": [],
   "source": [
    "df_.fillna({'salaire':df_['salaire'].mean(),'prime':df_['prime'].mean()},inplace=True)"
   ]
  },
  {
   "cell_type": "code",
   "execution_count": 18,
   "metadata": {},
   "outputs": [],
   "source": [
    "df_['revenue']=df_.salaire + df_.prime"
   ]
  },
  {
   "cell_type": "code",
   "execution_count": 20,
   "metadata": {},
   "outputs": [],
   "source": [
    "df_.drop(['salaire','prime'],axis=1,inplace=True)"
   ]
  },
  {
   "cell_type": "code",
   "execution_count": 21,
   "metadata": {},
   "outputs": [
    {
     "data": {
      "text/html": [
       "<div>\n",
       "<style scoped>\n",
       "    .dataframe tbody tr th:only-of-type {\n",
       "        vertical-align: middle;\n",
       "    }\n",
       "\n",
       "    .dataframe tbody tr th {\n",
       "        vertical-align: top;\n",
       "    }\n",
       "\n",
       "    .dataframe thead th {\n",
       "        text-align: right;\n",
       "    }\n",
       "</style>\n",
       "<table border=\"1\" class=\"dataframe\">\n",
       "  <thead>\n",
       "    <tr style=\"text-align: right;\">\n",
       "      <th></th>\n",
       "      <th>etat civil</th>\n",
       "      <th>date recrutement</th>\n",
       "      <th>revenue</th>\n",
       "    </tr>\n",
       "    <tr>\n",
       "      <th>nom</th>\n",
       "      <th></th>\n",
       "      <th></th>\n",
       "      <th></th>\n",
       "    </tr>\n",
       "  </thead>\n",
       "  <tbody>\n",
       "    <tr>\n",
       "      <th>Ali</th>\n",
       "      <td>celibataire</td>\n",
       "      <td>20/10/2018</td>\n",
       "      <td>1301.235000</td>\n",
       "    </tr>\n",
       "    <tr>\n",
       "      <th>Sonia</th>\n",
       "      <td>marie</td>\n",
       "      <td>30/11/2005</td>\n",
       "      <td>3201.662000</td>\n",
       "    </tr>\n",
       "    <tr>\n",
       "      <th>Rahma</th>\n",
       "      <td>celibataire</td>\n",
       "      <td>04/02/2017</td>\n",
       "      <td>2323.069091</td>\n",
       "    </tr>\n",
       "    <tr>\n",
       "      <th>Salma</th>\n",
       "      <td>marie</td>\n",
       "      <td>03/02/2010</td>\n",
       "      <td>2841.476000</td>\n",
       "    </tr>\n",
       "    <tr>\n",
       "      <th>Ahmed</th>\n",
       "      <td>marie</td>\n",
       "      <td>09/09/2004</td>\n",
       "      <td>3357.925889</td>\n",
       "    </tr>\n",
       "    <tr>\n",
       "      <th>Saleh</th>\n",
       "      <td>celibataire</td>\n",
       "      <td>01/01/2017</td>\n",
       "      <td>1451.776000</td>\n",
       "    </tr>\n",
       "    <tr>\n",
       "      <th>Ameni</th>\n",
       "      <td>celibataire</td>\n",
       "      <td>11/05/2019</td>\n",
       "      <td>1231.530000</td>\n",
       "    </tr>\n",
       "    <tr>\n",
       "      <th>Mehdi</th>\n",
       "      <td>marie</td>\n",
       "      <td>07/07/2000</td>\n",
       "      <td>3257.925889</td>\n",
       "    </tr>\n",
       "    <tr>\n",
       "      <th>Salem</th>\n",
       "      <td>celibataire</td>\n",
       "      <td>21/11/2017</td>\n",
       "      <td>1665.460000</td>\n",
       "    </tr>\n",
       "    <tr>\n",
       "      <th>Sameh</th>\n",
       "      <td>marie</td>\n",
       "      <td>19/02/1999</td>\n",
       "      <td>3100.330000</td>\n",
       "    </tr>\n",
       "    <tr>\n",
       "      <th>Wajdi</th>\n",
       "      <td>celibataire</td>\n",
       "      <td>27/11/2015</td>\n",
       "      <td>1458.145889</td>\n",
       "    </tr>\n",
       "    <tr>\n",
       "      <th>Moufida</th>\n",
       "      <td>marie</td>\n",
       "      <td>09/12/1991</td>\n",
       "      <td>4200.440000</td>\n",
       "    </tr>\n",
       "  </tbody>\n",
       "</table>\n",
       "</div>"
      ],
      "text/plain": [
       "          etat civil date recrutement      revenue\n",
       "nom                                               \n",
       "Ali      celibataire       20/10/2018  1301.235000\n",
       "Sonia          marie       30/11/2005  3201.662000\n",
       "Rahma    celibataire       04/02/2017  2323.069091\n",
       "Salma          marie       03/02/2010  2841.476000\n",
       "Ahmed          marie       09/09/2004  3357.925889\n",
       "Saleh    celibataire       01/01/2017  1451.776000\n",
       "Ameni    celibataire       11/05/2019  1231.530000\n",
       "Mehdi          marie       07/07/2000  3257.925889\n",
       "Salem    celibataire       21/11/2017  1665.460000\n",
       "Sameh          marie       19/02/1999  3100.330000\n",
       "Wajdi    celibataire       27/11/2015  1458.145889\n",
       "Moufida        marie       09/12/1991  4200.440000"
      ]
     },
     "execution_count": 21,
     "metadata": {},
     "output_type": "execute_result"
    }
   ],
   "source": [
    "df_"
   ]
  },
  {
   "cell_type": "code",
   "execution_count": 22,
   "metadata": {},
   "outputs": [],
   "source": [
    "from datetime import datetime"
   ]
  },
  {
   "cell_type": "code",
   "execution_count": 24,
   "metadata": {},
   "outputs": [
    {
     "name": "stderr",
     "output_type": "stream",
     "text": [
      "C:\\Users\\nafkh\\AppData\\Local\\Temp\\ipykernel_1920\\1179170739.py:1: UserWarning: Parsing '20/10/2018' in DD/MM/YYYY format. Provide format or specify infer_datetime_format=True for consistent parsing.\n",
      "  df_['date recrutement'] = pd.to_datetime(df_['date recrutement'])\n",
      "C:\\Users\\nafkh\\AppData\\Local\\Temp\\ipykernel_1920\\1179170739.py:1: UserWarning: Parsing '30/11/2005' in DD/MM/YYYY format. Provide format or specify infer_datetime_format=True for consistent parsing.\n",
      "  df_['date recrutement'] = pd.to_datetime(df_['date recrutement'])\n",
      "C:\\Users\\nafkh\\AppData\\Local\\Temp\\ipykernel_1920\\1179170739.py:1: UserWarning: Parsing '21/11/2017' in DD/MM/YYYY format. Provide format or specify infer_datetime_format=True for consistent parsing.\n",
      "  df_['date recrutement'] = pd.to_datetime(df_['date recrutement'])\n",
      "C:\\Users\\nafkh\\AppData\\Local\\Temp\\ipykernel_1920\\1179170739.py:1: UserWarning: Parsing '19/02/1999' in DD/MM/YYYY format. Provide format or specify infer_datetime_format=True for consistent parsing.\n",
      "  df_['date recrutement'] = pd.to_datetime(df_['date recrutement'])\n",
      "C:\\Users\\nafkh\\AppData\\Local\\Temp\\ipykernel_1920\\1179170739.py:1: UserWarning: Parsing '27/11/2015' in DD/MM/YYYY format. Provide format or specify infer_datetime_format=True for consistent parsing.\n",
      "  df_['date recrutement'] = pd.to_datetime(df_['date recrutement'])\n"
     ]
    }
   ],
   "source": [
    "df_['date recrutement'] = pd.to_datetime(df_['date recrutement'])"
   ]
  },
  {
   "cell_type": "code",
   "execution_count": 25,
   "metadata": {},
   "outputs": [],
   "source": [
    "df_['anciennete'] = df_['date recrutement'].apply(lambda date :datetime.now().year - date.year)"
   ]
  },
  {
   "cell_type": "code",
   "execution_count": 26,
   "metadata": {},
   "outputs": [
    {
     "data": {
      "text/html": [
       "<div>\n",
       "<style scoped>\n",
       "    .dataframe tbody tr th:only-of-type {\n",
       "        vertical-align: middle;\n",
       "    }\n",
       "\n",
       "    .dataframe tbody tr th {\n",
       "        vertical-align: top;\n",
       "    }\n",
       "\n",
       "    .dataframe thead th {\n",
       "        text-align: right;\n",
       "    }\n",
       "</style>\n",
       "<table border=\"1\" class=\"dataframe\">\n",
       "  <thead>\n",
       "    <tr style=\"text-align: right;\">\n",
       "      <th></th>\n",
       "      <th>etat civil</th>\n",
       "      <th>date recrutement</th>\n",
       "      <th>revenue</th>\n",
       "      <th>anciennete</th>\n",
       "    </tr>\n",
       "    <tr>\n",
       "      <th>nom</th>\n",
       "      <th></th>\n",
       "      <th></th>\n",
       "      <th></th>\n",
       "      <th></th>\n",
       "    </tr>\n",
       "  </thead>\n",
       "  <tbody>\n",
       "    <tr>\n",
       "      <th>Ali</th>\n",
       "      <td>celibataire</td>\n",
       "      <td>2018-10-20</td>\n",
       "      <td>1301.235000</td>\n",
       "      <td>4</td>\n",
       "    </tr>\n",
       "    <tr>\n",
       "      <th>Sonia</th>\n",
       "      <td>marie</td>\n",
       "      <td>2005-11-30</td>\n",
       "      <td>3201.662000</td>\n",
       "      <td>17</td>\n",
       "    </tr>\n",
       "    <tr>\n",
       "      <th>Rahma</th>\n",
       "      <td>celibataire</td>\n",
       "      <td>2017-04-02</td>\n",
       "      <td>2323.069091</td>\n",
       "      <td>5</td>\n",
       "    </tr>\n",
       "    <tr>\n",
       "      <th>Salma</th>\n",
       "      <td>marie</td>\n",
       "      <td>2010-03-02</td>\n",
       "      <td>2841.476000</td>\n",
       "      <td>12</td>\n",
       "    </tr>\n",
       "    <tr>\n",
       "      <th>Ahmed</th>\n",
       "      <td>marie</td>\n",
       "      <td>2004-09-09</td>\n",
       "      <td>3357.925889</td>\n",
       "      <td>18</td>\n",
       "    </tr>\n",
       "    <tr>\n",
       "      <th>Saleh</th>\n",
       "      <td>celibataire</td>\n",
       "      <td>2017-01-01</td>\n",
       "      <td>1451.776000</td>\n",
       "      <td>5</td>\n",
       "    </tr>\n",
       "    <tr>\n",
       "      <th>Ameni</th>\n",
       "      <td>celibataire</td>\n",
       "      <td>2019-11-05</td>\n",
       "      <td>1231.530000</td>\n",
       "      <td>3</td>\n",
       "    </tr>\n",
       "    <tr>\n",
       "      <th>Mehdi</th>\n",
       "      <td>marie</td>\n",
       "      <td>2000-07-07</td>\n",
       "      <td>3257.925889</td>\n",
       "      <td>22</td>\n",
       "    </tr>\n",
       "    <tr>\n",
       "      <th>Salem</th>\n",
       "      <td>celibataire</td>\n",
       "      <td>2017-11-21</td>\n",
       "      <td>1665.460000</td>\n",
       "      <td>5</td>\n",
       "    </tr>\n",
       "    <tr>\n",
       "      <th>Sameh</th>\n",
       "      <td>marie</td>\n",
       "      <td>1999-02-19</td>\n",
       "      <td>3100.330000</td>\n",
       "      <td>23</td>\n",
       "    </tr>\n",
       "    <tr>\n",
       "      <th>Wajdi</th>\n",
       "      <td>celibataire</td>\n",
       "      <td>2015-11-27</td>\n",
       "      <td>1458.145889</td>\n",
       "      <td>7</td>\n",
       "    </tr>\n",
       "    <tr>\n",
       "      <th>Moufida</th>\n",
       "      <td>marie</td>\n",
       "      <td>1991-09-12</td>\n",
       "      <td>4200.440000</td>\n",
       "      <td>31</td>\n",
       "    </tr>\n",
       "  </tbody>\n",
       "</table>\n",
       "</div>"
      ],
      "text/plain": [
       "          etat civil date recrutement      revenue  anciennete\n",
       "nom                                                           \n",
       "Ali      celibataire       2018-10-20  1301.235000           4\n",
       "Sonia          marie       2005-11-30  3201.662000          17\n",
       "Rahma    celibataire       2017-04-02  2323.069091           5\n",
       "Salma          marie       2010-03-02  2841.476000          12\n",
       "Ahmed          marie       2004-09-09  3357.925889          18\n",
       "Saleh    celibataire       2017-01-01  1451.776000           5\n",
       "Ameni    celibataire       2019-11-05  1231.530000           3\n",
       "Mehdi          marie       2000-07-07  3257.925889          22\n",
       "Salem    celibataire       2017-11-21  1665.460000           5\n",
       "Sameh          marie       1999-02-19  3100.330000          23\n",
       "Wajdi    celibataire       2015-11-27  1458.145889           7\n",
       "Moufida        marie       1991-09-12  4200.440000          31"
      ]
     },
     "execution_count": 26,
     "metadata": {},
     "output_type": "execute_result"
    }
   ],
   "source": [
    "df_"
   ]
  },
  {
   "cell_type": "code",
   "execution_count": 28,
   "metadata": {},
   "outputs": [],
   "source": [
    "df_.drop(['date recrutement'],axis=1,inplace=True)"
   ]
  },
  {
   "cell_type": "code",
   "execution_count": 29,
   "metadata": {},
   "outputs": [
    {
     "data": {
      "text/html": [
       "<div>\n",
       "<style scoped>\n",
       "    .dataframe tbody tr th:only-of-type {\n",
       "        vertical-align: middle;\n",
       "    }\n",
       "\n",
       "    .dataframe tbody tr th {\n",
       "        vertical-align: top;\n",
       "    }\n",
       "\n",
       "    .dataframe thead th {\n",
       "        text-align: right;\n",
       "    }\n",
       "</style>\n",
       "<table border=\"1\" class=\"dataframe\">\n",
       "  <thead>\n",
       "    <tr style=\"text-align: right;\">\n",
       "      <th></th>\n",
       "      <th>etat civil</th>\n",
       "      <th>revenue</th>\n",
       "      <th>anciennete</th>\n",
       "    </tr>\n",
       "    <tr>\n",
       "      <th>nom</th>\n",
       "      <th></th>\n",
       "      <th></th>\n",
       "      <th></th>\n",
       "    </tr>\n",
       "  </thead>\n",
       "  <tbody>\n",
       "    <tr>\n",
       "      <th>Ali</th>\n",
       "      <td>celibataire</td>\n",
       "      <td>1301.235000</td>\n",
       "      <td>4</td>\n",
       "    </tr>\n",
       "    <tr>\n",
       "      <th>Sonia</th>\n",
       "      <td>marie</td>\n",
       "      <td>3201.662000</td>\n",
       "      <td>17</td>\n",
       "    </tr>\n",
       "    <tr>\n",
       "      <th>Rahma</th>\n",
       "      <td>celibataire</td>\n",
       "      <td>2323.069091</td>\n",
       "      <td>5</td>\n",
       "    </tr>\n",
       "    <tr>\n",
       "      <th>Salma</th>\n",
       "      <td>marie</td>\n",
       "      <td>2841.476000</td>\n",
       "      <td>12</td>\n",
       "    </tr>\n",
       "    <tr>\n",
       "      <th>Ahmed</th>\n",
       "      <td>marie</td>\n",
       "      <td>3357.925889</td>\n",
       "      <td>18</td>\n",
       "    </tr>\n",
       "    <tr>\n",
       "      <th>Saleh</th>\n",
       "      <td>celibataire</td>\n",
       "      <td>1451.776000</td>\n",
       "      <td>5</td>\n",
       "    </tr>\n",
       "    <tr>\n",
       "      <th>Ameni</th>\n",
       "      <td>celibataire</td>\n",
       "      <td>1231.530000</td>\n",
       "      <td>3</td>\n",
       "    </tr>\n",
       "    <tr>\n",
       "      <th>Mehdi</th>\n",
       "      <td>marie</td>\n",
       "      <td>3257.925889</td>\n",
       "      <td>22</td>\n",
       "    </tr>\n",
       "    <tr>\n",
       "      <th>Salem</th>\n",
       "      <td>celibataire</td>\n",
       "      <td>1665.460000</td>\n",
       "      <td>5</td>\n",
       "    </tr>\n",
       "    <tr>\n",
       "      <th>Sameh</th>\n",
       "      <td>marie</td>\n",
       "      <td>3100.330000</td>\n",
       "      <td>23</td>\n",
       "    </tr>\n",
       "    <tr>\n",
       "      <th>Wajdi</th>\n",
       "      <td>celibataire</td>\n",
       "      <td>1458.145889</td>\n",
       "      <td>7</td>\n",
       "    </tr>\n",
       "    <tr>\n",
       "      <th>Moufida</th>\n",
       "      <td>marie</td>\n",
       "      <td>4200.440000</td>\n",
       "      <td>31</td>\n",
       "    </tr>\n",
       "  </tbody>\n",
       "</table>\n",
       "</div>"
      ],
      "text/plain": [
       "          etat civil      revenue  anciennete\n",
       "nom                                          \n",
       "Ali      celibataire  1301.235000           4\n",
       "Sonia          marie  3201.662000          17\n",
       "Rahma    celibataire  2323.069091           5\n",
       "Salma          marie  2841.476000          12\n",
       "Ahmed          marie  3357.925889          18\n",
       "Saleh    celibataire  1451.776000           5\n",
       "Ameni    celibataire  1231.530000           3\n",
       "Mehdi          marie  3257.925889          22\n",
       "Salem    celibataire  1665.460000           5\n",
       "Sameh          marie  3100.330000          23\n",
       "Wajdi    celibataire  1458.145889           7\n",
       "Moufida        marie  4200.440000          31"
      ]
     },
     "execution_count": 29,
     "metadata": {},
     "output_type": "execute_result"
    }
   ],
   "source": [
    "df_"
   ]
  },
  {
   "cell_type": "code",
   "execution_count": 31,
   "metadata": {},
   "outputs": [
    {
     "data": {
      "text/plain": [
       "[array(['celibataire', 'marie'], dtype=object)]"
      ]
     },
     "execution_count": 31,
     "metadata": {},
     "output_type": "execute_result"
    }
   ],
   "source": [
    "from sklearn.preprocessing import OneHotEncoder\n",
    "ohe = OneHotEncoder()\n",
    "ohe.fit(df_[['etat civil']])\n",
    "ohe.categories_"
   ]
  },
  {
   "cell_type": "code",
   "execution_count": 36,
   "metadata": {},
   "outputs": [],
   "source": [
    "etat_civil_sparse = ohe.transform(df_[['etat civil']])\n",
    "etat_civil = etat_civil_sparse.toarray()\n",
    "etat_civil\n",
    "df_etat_civil = pd.DataFrame(etat_civil,index=df_.index,columns=['etat civil celibataire','etat civil marié'])\n",
    "df_ = pd.concat([df_,df_etat_civil],axis=1)"
   ]
  },
  {
   "cell_type": "code",
   "execution_count": 38,
   "metadata": {},
   "outputs": [],
   "source": [
    "df_.drop(['etat civil'],axis=1,inplace= True)"
   ]
  },
  {
   "cell_type": "code",
   "execution_count": 39,
   "metadata": {},
   "outputs": [
    {
     "data": {
      "text/html": [
       "<div>\n",
       "<style scoped>\n",
       "    .dataframe tbody tr th:only-of-type {\n",
       "        vertical-align: middle;\n",
       "    }\n",
       "\n",
       "    .dataframe tbody tr th {\n",
       "        vertical-align: top;\n",
       "    }\n",
       "\n",
       "    .dataframe thead th {\n",
       "        text-align: right;\n",
       "    }\n",
       "</style>\n",
       "<table border=\"1\" class=\"dataframe\">\n",
       "  <thead>\n",
       "    <tr style=\"text-align: right;\">\n",
       "      <th></th>\n",
       "      <th>revenue</th>\n",
       "      <th>anciennete</th>\n",
       "      <th>etat civil celibataire</th>\n",
       "      <th>etat civil marié</th>\n",
       "    </tr>\n",
       "    <tr>\n",
       "      <th>nom</th>\n",
       "      <th></th>\n",
       "      <th></th>\n",
       "      <th></th>\n",
       "      <th></th>\n",
       "    </tr>\n",
       "  </thead>\n",
       "  <tbody>\n",
       "    <tr>\n",
       "      <th>Ali</th>\n",
       "      <td>1301.235000</td>\n",
       "      <td>4</td>\n",
       "      <td>1.0</td>\n",
       "      <td>0.0</td>\n",
       "    </tr>\n",
       "    <tr>\n",
       "      <th>Sonia</th>\n",
       "      <td>3201.662000</td>\n",
       "      <td>17</td>\n",
       "      <td>0.0</td>\n",
       "      <td>1.0</td>\n",
       "    </tr>\n",
       "    <tr>\n",
       "      <th>Rahma</th>\n",
       "      <td>2323.069091</td>\n",
       "      <td>5</td>\n",
       "      <td>1.0</td>\n",
       "      <td>0.0</td>\n",
       "    </tr>\n",
       "    <tr>\n",
       "      <th>Salma</th>\n",
       "      <td>2841.476000</td>\n",
       "      <td>12</td>\n",
       "      <td>0.0</td>\n",
       "      <td>1.0</td>\n",
       "    </tr>\n",
       "    <tr>\n",
       "      <th>Ahmed</th>\n",
       "      <td>3357.925889</td>\n",
       "      <td>18</td>\n",
       "      <td>0.0</td>\n",
       "      <td>1.0</td>\n",
       "    </tr>\n",
       "    <tr>\n",
       "      <th>Saleh</th>\n",
       "      <td>1451.776000</td>\n",
       "      <td>5</td>\n",
       "      <td>1.0</td>\n",
       "      <td>0.0</td>\n",
       "    </tr>\n",
       "    <tr>\n",
       "      <th>Ameni</th>\n",
       "      <td>1231.530000</td>\n",
       "      <td>3</td>\n",
       "      <td>1.0</td>\n",
       "      <td>0.0</td>\n",
       "    </tr>\n",
       "    <tr>\n",
       "      <th>Mehdi</th>\n",
       "      <td>3257.925889</td>\n",
       "      <td>22</td>\n",
       "      <td>0.0</td>\n",
       "      <td>1.0</td>\n",
       "    </tr>\n",
       "    <tr>\n",
       "      <th>Salem</th>\n",
       "      <td>1665.460000</td>\n",
       "      <td>5</td>\n",
       "      <td>1.0</td>\n",
       "      <td>0.0</td>\n",
       "    </tr>\n",
       "    <tr>\n",
       "      <th>Sameh</th>\n",
       "      <td>3100.330000</td>\n",
       "      <td>23</td>\n",
       "      <td>0.0</td>\n",
       "      <td>1.0</td>\n",
       "    </tr>\n",
       "    <tr>\n",
       "      <th>Wajdi</th>\n",
       "      <td>1458.145889</td>\n",
       "      <td>7</td>\n",
       "      <td>1.0</td>\n",
       "      <td>0.0</td>\n",
       "    </tr>\n",
       "    <tr>\n",
       "      <th>Moufida</th>\n",
       "      <td>4200.440000</td>\n",
       "      <td>31</td>\n",
       "      <td>0.0</td>\n",
       "      <td>1.0</td>\n",
       "    </tr>\n",
       "  </tbody>\n",
       "</table>\n",
       "</div>"
      ],
      "text/plain": [
       "             revenue  anciennete  etat civil celibataire  etat civil marié\n",
       "nom                                                                       \n",
       "Ali      1301.235000           4                     1.0               0.0\n",
       "Sonia    3201.662000          17                     0.0               1.0\n",
       "Rahma    2323.069091           5                     1.0               0.0\n",
       "Salma    2841.476000          12                     0.0               1.0\n",
       "Ahmed    3357.925889          18                     0.0               1.0\n",
       "Saleh    1451.776000           5                     1.0               0.0\n",
       "Ameni    1231.530000           3                     1.0               0.0\n",
       "Mehdi    3257.925889          22                     0.0               1.0\n",
       "Salem    1665.460000           5                     1.0               0.0\n",
       "Sameh    3100.330000          23                     0.0               1.0\n",
       "Wajdi    1458.145889           7                     1.0               0.0\n",
       "Moufida  4200.440000          31                     0.0               1.0"
      ]
     },
     "execution_count": 39,
     "metadata": {},
     "output_type": "execute_result"
    }
   ],
   "source": [
    "df_"
   ]
  },
  {
   "cell_type": "markdown",
   "metadata": {
    "id": "Q4eppm9XGRyO"
   },
   "source": [
    "Normaliser les données"
   ]
  },
  {
   "cell_type": "code",
   "execution_count": 40,
   "metadata": {},
   "outputs": [
    {
     "data": {
      "text/plain": [
       "array([[-1.1937301 , -0.97166562,  1.        , -1.        ],\n",
       "       [ 0.78237727,  0.48583281, -1.        ,  1.        ],\n",
       "       [-0.13120369, -0.85955036,  1.        , -1.        ],\n",
       "       [ 0.40784765, -0.07474351, -1.        ,  1.        ],\n",
       "       [ 0.94486403,  0.59794807, -1.        ,  1.        ],\n",
       "       [-1.03719413, -0.85955036,  1.        , -1.        ],\n",
       "       [-1.26621095, -1.08378088,  1.        , -1.        ],\n",
       "       [ 0.84088175,  1.04640913, -1.        ,  1.        ],\n",
       "       [-0.81500063, -0.85955036,  1.        , -1.        ],\n",
       "       [ 0.67700994,  1.15852439, -1.        ,  1.        ],\n",
       "       [-1.03057057, -0.63531983,  1.        , -1.        ],\n",
       "       [ 1.82092943,  2.05544651, -1.        ,  1.        ]])"
      ]
     },
     "execution_count": 40,
     "metadata": {},
     "output_type": "execute_result"
    }
   ],
   "source": [
    "from sklearn.preprocessing import StandardScaler\n",
    "ss = StandardScaler()\n",
    "ss.fit(df_)\n",
    "X_ss = ss.transform(df_)\n",
    "X_ss"
   ]
  },
  {
   "cell_type": "markdown",
   "metadata": {
    "id": "uR1b_PtCGTi1"
   },
   "source": [
    "Réduire les dimensions des données"
   ]
  },
  {
   "cell_type": "code",
   "execution_count": 44,
   "metadata": {},
   "outputs": [
    {
     "data": {
      "text/plain": [
       "array([[-2.08283845, -0.070833  ],\n",
       "       [ 1.63874567, -0.38377126],\n",
       "       [-1.49652918,  0.3748481 ],\n",
       "       [ 1.17638784, -0.87305816],\n",
       "       [ 1.77501009, -0.25506935],\n",
       "       [-1.94954959,  0.05577314],\n",
       "       [-2.17409741, -0.16783631],\n",
       "       [ 1.94308214, -0.00578323],\n",
       "       [-1.83844666,  0.13402604],\n",
       "       [ 1.91615821,  0.00798055],\n",
       "       [-1.83620459,  0.20105933],\n",
       "       [ 2.92828192,  0.98266416]])"
      ]
     },
     "execution_count": 44,
     "metadata": {},
     "output_type": "execute_result"
    }
   ],
   "source": [
    "from sklearn.decomposition import PCA\n",
    "pca = PCA(n_components=2)\n",
    "pca.fit(X_ss)\n",
    "X_ss_pca = pca.transform(X_ss)\n",
    "X_ss_pca"
   ]
  },
  {
   "cell_type": "markdown",
   "metadata": {
    "id": "M8Uakv5lGYGt"
   },
   "source": [
    "Regrouper les données clusters avec Kmeans"
   ]
  },
  {
   "cell_type": "code",
   "execution_count": 54,
   "metadata": {
    "colab": {
     "base_uri": "https://localhost:8080/"
    },
    "id": "VsEKz6cX__L9",
    "outputId": "76167d9f-35d2-4ae3-8411-7097397cc8b4"
   },
   "outputs": [
    {
     "data": {
      "text/plain": [
       "array([0, 1, 0, 1, 1, 0, 0, 1, 0, 1, 0, 1])"
      ]
     },
     "execution_count": 54,
     "metadata": {},
     "output_type": "execute_result"
    }
   ],
   "source": [
    "from sklearn.cluster import KMeans\n",
    "kmeans = KMeans(n_clusters=2,random_state=0).fit(X_ss_pca)\n",
    "kmeans.labels_\n",
    "labels = kmeans.predict(X_ss_pca)\n",
    "labels"
   ]
  },
  {
   "cell_type": "code",
   "execution_count": 58,
   "metadata": {},
   "outputs": [],
   "source": [
    "cluster0 = X_ss_pca[labels==0,:]\n",
    "cluster1 = X_ss_pca[labels==1,:]"
   ]
  },
  {
   "cell_type": "markdown",
   "metadata": {
    "id": "TWph1X0yGkq2"
   },
   "source": [
    "Visualiser les données sur un plan 2D colorées selon leurs appartenances aux clusters"
   ]
  },
  {
   "cell_type": "code",
   "execution_count": null,
   "metadata": {
    "colab": {
     "base_uri": "https://localhost:8080/",
     "height": 265
    },
    "id": "S99DQqj_AfWO",
    "outputId": "9df9d8a1-fd04-4ff5-9c30-170e5407a23e"
   },
   "outputs": [
    {
     "data": {
      "image/png": "[encoded data removed]",
      "text/plain": [
       "<Figure size 432x288 with 1 Axes>"
      ]
     },
     "metadata": {
      "needs_background": "light"
     },
     "output_type": "display_data"
    }
   ],
   "source": [
    "import matplotlib.pyplot as plt\n",
    "\n",
    "plt.plot(cluster0[:,0],cluster0[:,1],'r+', label='Cluster 0')\n",
    "plt.plot(cluster1[:,0],cluster1[:,1],'b+', label='Cluster 1')\n",
    "\n",
    "for nom, x, y in zip(df_employes.index,X_pca[:,0],X_pca[:,1]):\n",
    "  plt.annotate(nom, xy =(x, y), xycoords=\"data\")"
   ]
  },
  {
   "cell_type": "code",
   "execution_count": null,
   "metadata": {
    "id": "gt7TwkpAEuvg"
   },
   "outputs": [],
   "source": []
  }
 ],
 "metadata": {
  "colab": {
   "collapsed_sections": [],
   "provenance": []
  },
  "kernelspec": {
   "display_name": "Python 3 (ipykernel)",
   "language": "python",
   "name": "python3"
  },
  "language_info": {
   "codemirror_mode": {
    "name": "ipython",
    "version": 3
   },
   "file_extension": ".py",
   "mimetype": "text/x-python",
   "name": "python",
   "nbconvert_exporter": "python",
   "pygments_lexer": "ipython3",
   "version": "3.9.13"
  }
 },
 "nbformat": 4,
 "nbformat_minor": 1
}
