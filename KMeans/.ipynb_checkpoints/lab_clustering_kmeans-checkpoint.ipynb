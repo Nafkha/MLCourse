{
 "cells": [
  {
   "cell_type": "markdown",
   "metadata": {
    "id": "r7H-PzjB8HwW"
   },
   "source": [
    "**Clustering avec Kmeans**"
   ]
  },
  {
   "cell_type": "markdown",
   "metadata": {
    "id": "TPjaqXMU8QwN"
   },
   "source": [
    "Les données à regrouper"
   ]
  },
  {
   "cell_type": "markdown",
   "metadata": {
    "id": "99dO6auJ-HC0"
   },
   "source": [
    "**Clustering des données réelles**"
   ]
  },
  {
   "cell_type": "markdown",
   "metadata": {
    "id": "L3AxTajbGFPv"
   },
   "source": [
    "Charger les données CSV employes.csv à partir de Google Drive"
   ]
  },
  {
   "cell_type": "code",
   "execution_count": 2,
   "metadata": {},
   "outputs": [],
   "source": [
    "import pandas as pd"
   ]
  },
  {
   "cell_type": "code",
   "execution_count": 3,
   "metadata": {
    "colab": {
     "base_uri": "https://localhost:8080/",
     "height": 457
    },
    "id": "HiS6KX5m-1uG",
    "outputId": "552da993-1c4c-4f0b-f306-926c845d5572"
   },
   "outputs": [
    {
     "ename": "AttributeError",
     "evalue": "module 'pandas' has no attribute 'read'",
     "output_type": "error",
     "traceback": [
      "\u001b[1;31m---------------------------------------------------------------------------\u001b[0m",
      "\u001b[1;31mAttributeError\u001b[0m                            Traceback (most recent call last)",
      "Cell \u001b[1;32mIn [3], line 1\u001b[0m\n\u001b[1;32m----> 1\u001b[0m df_employes \u001b[38;5;241m=\u001b[39m \u001b[43mpd\u001b[49m\u001b[38;5;241;43m.\u001b[39;49m\u001b[43mread\u001b[49m(\u001b[38;5;124m'\u001b[39m\u001b[38;5;124memployes (1).csv\u001b[39m\u001b[38;5;124m'\u001b[39m,index\u001b[38;5;241m=\u001b[39m\u001b[38;5;241m0\u001b[39m)\n",
      "File \u001b[1;32m~\\anaconda3\\lib\\site-packages\\pandas\\__init__.py:261\u001b[0m, in \u001b[0;36m__getattr__\u001b[1;34m(name)\u001b[0m\n\u001b[0;32m    257\u001b[0m     \u001b[38;5;28;01mfrom\u001b[39;00m \u001b[38;5;21;01mpandas\u001b[39;00m\u001b[38;5;21;01m.\u001b[39;00m\u001b[38;5;21;01mcore\u001b[39;00m\u001b[38;5;21;01m.\u001b[39;00m\u001b[38;5;21;01marrays\u001b[39;00m\u001b[38;5;21;01m.\u001b[39;00m\u001b[38;5;21;01msparse\u001b[39;00m \u001b[38;5;28;01mimport\u001b[39;00m SparseArray \u001b[38;5;28;01mas\u001b[39;00m _SparseArray\n\u001b[0;32m    259\u001b[0m     \u001b[38;5;28;01mreturn\u001b[39;00m _SparseArray\n\u001b[1;32m--> 261\u001b[0m \u001b[38;5;28;01mraise\u001b[39;00m \u001b[38;5;167;01mAttributeError\u001b[39;00m(\u001b[38;5;124mf\u001b[39m\u001b[38;5;124m\"\u001b[39m\u001b[38;5;124mmodule \u001b[39m\u001b[38;5;124m'\u001b[39m\u001b[38;5;124mpandas\u001b[39m\u001b[38;5;124m'\u001b[39m\u001b[38;5;124m has no attribute \u001b[39m\u001b[38;5;124m'\u001b[39m\u001b[38;5;132;01m{\u001b[39;00mname\u001b[38;5;132;01m}\u001b[39;00m\u001b[38;5;124m'\u001b[39m\u001b[38;5;124m\"\u001b[39m)\n",
      "\u001b[1;31mAttributeError\u001b[0m: module 'pandas' has no attribute 'read'"
     ]
    }
   ],
   "source": [
    "df_employes = pd.read('employes (1).csv',index=0)"
   ]
  },
  {
   "cell_type": "markdown",
   "metadata": {
    "id": "6vbteAwUGNN2"
   },
   "source": [
    "Transformer les données de format brute en format numérique"
   ]
  },
  {
   "cell_type": "code",
   "execution_count": null,
   "metadata": {
    "colab": {
     "base_uri": "https://localhost:8080/",
     "height": 457
    },
    "id": "mFnWju-E-1rt",
    "outputId": "6056ed07-8208-40a5-9005-951285baee61"
   },
   "outputs": [
    {
     "data": {
      "text/html": [
       "\n",
       "  <div id=\"df-28beddd6-426c-4d0a-9fb1-f38811ac210e\">\n",
       "    <div class=\"colab-df-container\">\n",
       "      <div>\n",
       "<style scoped>\n",
       "    .dataframe tbody tr th:only-of-type {\n",
       "        vertical-align: middle;\n",
       "    }\n",
       "\n",
       "    .dataframe tbody tr th {\n",
       "        vertical-align: top;\n",
       "    }\n",
       "\n",
       "    .dataframe thead th {\n",
       "        text-align: right;\n",
       "    }\n",
       "</style>\n",
       "<table border=\"1\" class=\"dataframe\">\n",
       "  <thead>\n",
       "    <tr style=\"text-align: right;\">\n",
       "      <th></th>\n",
       "      <th>revenue</th>\n",
       "      <th>anciennete</th>\n",
       "      <th>etat civil_celibataire</th>\n",
       "      <th>etat civil_marie</th>\n",
       "    </tr>\n",
       "    <tr>\n",
       "      <th>nom</th>\n",
       "      <th></th>\n",
       "      <th></th>\n",
       "      <th></th>\n",
       "      <th></th>\n",
       "    </tr>\n",
       "  </thead>\n",
       "  <tbody>\n",
       "    <tr>\n",
       "      <th>Ali</th>\n",
       "      <td>1301.235000</td>\n",
       "      <td>4</td>\n",
       "      <td>1.0</td>\n",
       "      <td>0.0</td>\n",
       "    </tr>\n",
       "    <tr>\n",
       "      <th>Sonia</th>\n",
       "      <td>3201.662000</td>\n",
       "      <td>17</td>\n",
       "      <td>0.0</td>\n",
       "      <td>1.0</td>\n",
       "    </tr>\n",
       "    <tr>\n",
       "      <th>Rahma</th>\n",
       "      <td>2323.069091</td>\n",
       "      <td>5</td>\n",
       "      <td>1.0</td>\n",
       "      <td>0.0</td>\n",
       "    </tr>\n",
       "    <tr>\n",
       "      <th>Salma</th>\n",
       "      <td>2841.476000</td>\n",
       "      <td>12</td>\n",
       "      <td>0.0</td>\n",
       "      <td>1.0</td>\n",
       "    </tr>\n",
       "    <tr>\n",
       "      <th>Ahmed</th>\n",
       "      <td>3357.925889</td>\n",
       "      <td>18</td>\n",
       "      <td>0.0</td>\n",
       "      <td>1.0</td>\n",
       "    </tr>\n",
       "    <tr>\n",
       "      <th>Saleh</th>\n",
       "      <td>1451.776000</td>\n",
       "      <td>5</td>\n",
       "      <td>1.0</td>\n",
       "      <td>0.0</td>\n",
       "    </tr>\n",
       "    <tr>\n",
       "      <th>Ameni</th>\n",
       "      <td>1231.530000</td>\n",
       "      <td>3</td>\n",
       "      <td>1.0</td>\n",
       "      <td>0.0</td>\n",
       "    </tr>\n",
       "    <tr>\n",
       "      <th>Mehdi</th>\n",
       "      <td>3257.925889</td>\n",
       "      <td>22</td>\n",
       "      <td>0.0</td>\n",
       "      <td>1.0</td>\n",
       "    </tr>\n",
       "    <tr>\n",
       "      <th>Salem</th>\n",
       "      <td>1665.460000</td>\n",
       "      <td>5</td>\n",
       "      <td>1.0</td>\n",
       "      <td>0.0</td>\n",
       "    </tr>\n",
       "    <tr>\n",
       "      <th>Sameh</th>\n",
       "      <td>3100.330000</td>\n",
       "      <td>23</td>\n",
       "      <td>0.0</td>\n",
       "      <td>1.0</td>\n",
       "    </tr>\n",
       "    <tr>\n",
       "      <th>Wajdi</th>\n",
       "      <td>1458.145889</td>\n",
       "      <td>7</td>\n",
       "      <td>1.0</td>\n",
       "      <td>0.0</td>\n",
       "    </tr>\n",
       "    <tr>\n",
       "      <th>Moufida</th>\n",
       "      <td>4200.440000</td>\n",
       "      <td>31</td>\n",
       "      <td>0.0</td>\n",
       "      <td>1.0</td>\n",
       "    </tr>\n",
       "  </tbody>\n",
       "</table>\n",
       "</div>\n",
       "      <button class=\"colab-df-convert\" onclick=\"convertToInteractive('df-28beddd6-426c-4d0a-9fb1-f38811ac210e')\"\n",
       "              title=\"Convert this dataframe to an interactive table.\"\n",
       "              style=\"display:none;\">\n",
       "        \n",
       "  <svg xmlns=\"http://www.w3.org/2000/svg\" height=\"24px\"viewBox=\"0 0 24 24\"\n",
       "       width=\"24px\">\n",
       "    <path d=\"M0 0h24v24H0V0z\" fill=\"none\"/>\n",
       "    <path d=\"M18.56 5.44l.94 2.06.94-2.06 2.06-.94-2.06-.94-.94-2.06-.94 2.06-2.06.94zm-11 1L8.5 8.5l.94-2.06 2.06-.94-2.06-.94L8.5 2.5l-.94 2.06-2.06.94zm10 10l.94 2.06.94-2.06 2.06-.94-2.06-.94-.94-2.06-.94 2.06-2.06.94z\"/><path d=\"M17.41 7.96l-1.37-1.37c-.4-.4-.92-.59-1.43-.59-.52 0-1.04.2-1.43.59L10.3 9.45l-7.72 7.72c-.78.78-.78 2.05 0 2.83L4 21.41c.39.39.9.59 1.41.59.51 0 1.02-.2 1.41-.59l7.78-7.78 2.81-2.81c.8-.78.8-2.07 0-2.86zM5.41 20L4 18.59l7.72-7.72 1.47 1.35L5.41 20z\"/>\n",
       "  </svg>\n",
       "      </button>\n",
       "      \n",
       "  <style>\n",
       "    .colab-df-container {\n",
       "      display:flex;\n",
       "      flex-wrap:wrap;\n",
       "      gap: 12px;\n",
       "    }\n",
       "\n",
       "    .colab-df-convert {\n",
       "      background-color: #E8F0FE;\n",
       "      border: none;\n",
       "      border-radius: 50%;\n",
       "      cursor: pointer;\n",
       "      display: none;\n",
       "      fill: #1967D2;\n",
       "      height: 32px;\n",
       "      padding: 0 0 0 0;\n",
       "      width: 32px;\n",
       "    }\n",
       "\n",
       "    .colab-df-convert:hover {\n",
       "      background-color: #E2EBFA;\n",
       "      box-shadow: 0px 1px 2px rgba(60, 64, 67, 0.3), 0px 1px 3px 1px rgba(60, 64, 67, 0.15);\n",
       "      fill: #174EA6;\n",
       "    }\n",
       "\n",
       "    [theme=dark] .colab-df-convert {\n",
       "      background-color: #3B4455;\n",
       "      fill: #D2E3FC;\n",
       "    }\n",
       "\n",
       "    [theme=dark] .colab-df-convert:hover {\n",
       "      background-color: #434B5C;\n",
       "      box-shadow: 0px 1px 3px 1px rgba(0, 0, 0, 0.15);\n",
       "      filter: drop-shadow(0px 1px 2px rgba(0, 0, 0, 0.3));\n",
       "      fill: #FFFFFF;\n",
       "    }\n",
       "  </style>\n",
       "\n",
       "      <script>\n",
       "        const buttonEl =\n",
       "          document.querySelector('#df-28beddd6-426c-4d0a-9fb1-f38811ac210e button.colab-df-convert');\n",
       "        buttonEl.style.display =\n",
       "          google.colab.kernel.accessAllowed ? 'block' : 'none';\n",
       "\n",
       "        async function convertToInteractive(key) {\n",
       "          const element = document.querySelector('#df-28beddd6-426c-4d0a-9fb1-f38811ac210e');\n",
       "          const dataTable =\n",
       "            await google.colab.kernel.invokeFunction('convertToInteractive',\n",
       "                                                     [key], {});\n",
       "          if (!dataTable) return;\n",
       "\n",
       "          const docLinkHtml = 'Like what you see? Visit the ' +\n",
       "            '<a target=\"_blank\" href=https://colab.research.google.com/notebooks/data_table.ipynb>data table notebook</a>'\n",
       "            + ' to learn more about interactive tables.';\n",
       "          element.innerHTML = '';\n",
       "          dataTable['output_type'] = 'display_data';\n",
       "          await google.colab.output.renderOutput(dataTable, element);\n",
       "          const docLink = document.createElement('div');\n",
       "          docLink.innerHTML = docLinkHtml;\n",
       "          element.appendChild(docLink);\n",
       "        }\n",
       "      </script>\n",
       "    </div>\n",
       "  </div>\n",
       "  "
      ],
      "text/plain": [
       "             revenue  anciennete  etat civil_celibataire  etat civil_marie\n",
       "nom                                                                       \n",
       "Ali      1301.235000           4                     1.0               0.0\n",
       "Sonia    3201.662000          17                     0.0               1.0\n",
       "Rahma    2323.069091           5                     1.0               0.0\n",
       "Salma    2841.476000          12                     0.0               1.0\n",
       "Ahmed    3357.925889          18                     0.0               1.0\n",
       "Saleh    1451.776000           5                     1.0               0.0\n",
       "Ameni    1231.530000           3                     1.0               0.0\n",
       "Mehdi    3257.925889          22                     0.0               1.0\n",
       "Salem    1665.460000           5                     1.0               0.0\n",
       "Sameh    3100.330000          23                     0.0               1.0\n",
       "Wajdi    1458.145889           7                     1.0               0.0\n",
       "Moufida  4200.440000          31                     0.0               1.0"
      ]
     },
     "execution_count": 22,
     "metadata": {},
     "output_type": "execute_result"
    }
   ],
   "source": [
    "#"
   ]
  },
  {
   "cell_type": "markdown",
   "metadata": {
    "id": "Q4eppm9XGRyO"
   },
   "source": [
    "Normaliser les données"
   ]
  },
  {
   "cell_type": "code",
   "execution_count": null,
   "metadata": {
    "colab": {
     "base_uri": "https://localhost:8080/"
    },
    "id": "jqx257zQ-1pV",
    "outputId": "fe8ea3b5-064d-462e-f4a7-bfe878ef0637"
   },
   "outputs": [
    {
     "data": {
      "text/plain": [
       "array([[-1.1937301 , -0.97166562,  1.        , -1.        ],\n",
       "       [ 0.78237727,  0.48583281, -1.        ,  1.        ],\n",
       "       [-0.13120369, -0.85955036,  1.        , -1.        ],\n",
       "       [ 0.40784765, -0.07474351, -1.        ,  1.        ],\n",
       "       [ 0.94486403,  0.59794807, -1.        ,  1.        ],\n",
       "       [-1.03719413, -0.85955036,  1.        , -1.        ],\n",
       "       [-1.26621095, -1.08378088,  1.        , -1.        ],\n",
       "       [ 0.84088175,  1.04640913, -1.        ,  1.        ],\n",
       "       [-0.81500063, -0.85955036,  1.        , -1.        ],\n",
       "       [ 0.67700994,  1.15852439, -1.        ,  1.        ],\n",
       "       [-1.03057057, -0.63531983,  1.        , -1.        ],\n",
       "       [ 1.82092943,  2.05544651, -1.        ,  1.        ]])"
      ]
     },
     "execution_count": 23,
     "metadata": {},
     "output_type": "execute_result"
    }
   ],
   "source": [
    "from sklearn.preprocessing import  StandardScaler\n",
    "ss=StandardScaler()\n",
    "ss.fit(X_)\n",
    "X_ss=ss.transform(X_)\n",
    "X_ss"
   ]
  },
  {
   "cell_type": "markdown",
   "metadata": {
    "id": "uR1b_PtCGTi1"
   },
   "source": [
    "Réduire les dimensions des données"
   ]
  },
  {
   "cell_type": "code",
   "execution_count": null,
   "metadata": {
    "colab": {
     "base_uri": "https://localhost:8080/"
    },
    "id": "ckfAGmuH_0It",
    "outputId": "9e56ddcc-26a9-4f77-ccea-ec4fa1e668fd"
   },
   "outputs": [
    {
     "data": {
      "text/plain": [
       "array([[-2.08283845, -0.070833  ],\n",
       "       [ 1.63874567, -0.38377126],\n",
       "       [-1.49652918,  0.3748481 ],\n",
       "       [ 1.17638784, -0.87305816],\n",
       "       [ 1.77501009, -0.25506935],\n",
       "       [-1.94954959,  0.05577314],\n",
       "       [-2.17409741, -0.16783631],\n",
       "       [ 1.94308214, -0.00578323],\n",
       "       [-1.83844666,  0.13402604],\n",
       "       [ 1.91615821,  0.00798055],\n",
       "       [-1.83620459,  0.20105933],\n",
       "       [ 2.92828192,  0.98266416]])"
      ]
     },
     "execution_count": 24,
     "metadata": {},
     "output_type": "execute_result"
    }
   ],
   "source": [
    "#"
   ]
  },
  {
   "cell_type": "markdown",
   "metadata": {
    "id": "M8Uakv5lGYGt"
   },
   "source": [
    "Regrouper les données clusters avec Kmeans"
   ]
  },
  {
   "cell_type": "code",
   "execution_count": null,
   "metadata": {
    "colab": {
     "base_uri": "https://localhost:8080/"
    },
    "id": "VsEKz6cX__L9",
    "outputId": "76167d9f-35d2-4ae3-8411-7097397cc8b4"
   },
   "outputs": [
    {
     "data": {
      "text/plain": [
       "KMeans(n_clusters=2)"
      ]
     },
     "execution_count": 25,
     "metadata": {},
     "output_type": "execute_result"
    }
   ],
   "source": [
    "#"
   ]
  },
  {
   "cell_type": "markdown",
   "metadata": {
    "id": "Qkgjyo-YGbkm"
   },
   "source": [
    "Prédire les labels des clusters"
   ]
  },
  {
   "cell_type": "code",
   "execution_count": null,
   "metadata": {
    "colab": {
     "base_uri": "https://localhost:8080/"
    },
    "id": "BAf8jD9yANr0",
    "outputId": "18b88f9b-9d71-45bd-8f54-42a0777b376c"
   },
   "outputs": [
    {
     "data": {
      "text/plain": [
       "array([0, 1, 0, 1, 1, 0, 0, 1, 0, 1, 0, 1], dtype=int32)"
      ]
     },
     "execution_count": 26,
     "metadata": {},
     "output_type": "execute_result"
    }
   ],
   "source": [
    "#"
   ]
  },
  {
   "cell_type": "markdown",
   "metadata": {
    "id": "W-Y6U-UKGfpv"
   },
   "source": [
    "Déterminer les clusters"
   ]
  },
  {
   "cell_type": "code",
   "execution_count": null,
   "metadata": {
    "colab": {
     "base_uri": "https://localhost:8080/"
    },
    "id": "uRh078aKAki-",
    "outputId": "7a9ea6e8-8946-479f-de03-55ff7797cf91"
   },
   "outputs": [
    {
     "data": {
      "text/plain": [
       "array([[-2.08283845, -0.070833  ],\n",
       "       [-1.49652918,  0.3748481 ],\n",
       "       [-1.94954959,  0.05577314],\n",
       "       [-2.17409741, -0.16783631],\n",
       "       [-1.83844666,  0.13402604],\n",
       "       [-1.83620459,  0.20105933]])"
      ]
     },
     "execution_count": 30,
     "metadata": {},
     "output_type": "execute_result"
    }
   ],
   "source": [
    "#"
   ]
  },
  {
   "cell_type": "code",
   "execution_count": null,
   "metadata": {
    "colab": {
     "base_uri": "https://localhost:8080/"
    },
    "id": "euvXDUyVAmRV",
    "outputId": "730031a5-29da-47db-e287-32da0b9c4949"
   },
   "outputs": [
    {
     "data": {
      "text/plain": [
       "array([[ 1.63874567, -0.38377126],\n",
       "       [ 1.17638784, -0.87305816],\n",
       "       [ 1.77501009, -0.25506935],\n",
       "       [ 1.94308214, -0.00578323],\n",
       "       [ 1.91615821,  0.00798055],\n",
       "       [ 2.92828192,  0.98266416]])"
      ]
     },
     "execution_count": 31,
     "metadata": {},
     "output_type": "execute_result"
    }
   ],
   "source": [
    "#"
   ]
  },
  {
   "cell_type": "markdown",
   "metadata": {
    "id": "TWph1X0yGkq2"
   },
   "source": [
    "Visualiser les données sur un plan 2D colorées selon leurs appartenances aux clusters"
   ]
  },
  {
   "cell_type": "code",
   "execution_count": null,
   "metadata": {
    "colab": {
     "base_uri": "https://localhost:8080/",
     "height": 265
    },
    "id": "S99DQqj_AfWO",
    "outputId": "9df9d8a1-fd04-4ff5-9c30-170e5407a23e"
   },
   "outputs": [
    {
     "data": {
      "image/png": "[encoded data removed]",
      "text/plain": [
       "<Figure size 432x288 with 1 Axes>"
      ]
     },
     "metadata": {
      "needs_background": "light"
     },
     "output_type": "display_data"
    }
   ],
   "source": [
    "import matplotlib.pyplot as plt\n",
    "\n",
    "plt.plot(cluster0[:,0],cluster0[:,1],'r+', label='Cluster 0')\n",
    "plt.plot(cluster1[:,0],cluster1[:,1],'b+', label='Cluster 1')\n",
    "\n",
    "for nom, x, y in zip(df_employes.index,X_pca[:,0],X_pca[:,1]):\n",
    "  plt.annotate(nom, xy =(x, y), xycoords=\"data\")"
   ]
  },
  {
   "cell_type": "code",
   "execution_count": null,
   "metadata": {
    "id": "gt7TwkpAEuvg"
   },
   "outputs": [],
   "source": []
  }
 ],
 "metadata": {
  "colab": {
   "collapsed_sections": [],
   "provenance": []
  },
  "kernelspec": {
   "display_name": "Python 3 (ipykernel)",
   "language": "python",
   "name": "python3"
  },
  "language_info": {
   "codemirror_mode": {
    "name": "ipython",
    "version": 3
   },
   "file_extension": ".py",
   "mimetype": "text/x-python",
   "name": "python",
   "nbconvert_exporter": "python",
   "pygments_lexer": "ipython3",
   "version": "3.9.13"
  }
 },
 "nbformat": 4,
 "nbformat_minor": 1
}
